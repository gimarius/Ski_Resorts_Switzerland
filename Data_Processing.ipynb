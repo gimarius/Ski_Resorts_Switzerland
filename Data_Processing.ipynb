{
 "cells": [
  {
   "attachments": {},
   "cell_type": "markdown",
   "id": "2a597a25",
   "metadata": {},
   "source": [
    "Dataset Skiresort.ch"
   ]
  },
  {
   "cell_type": "code",
   "execution_count": 42,
   "id": "comprehensive-sister",
   "metadata": {},
   "outputs": [],
   "source": [
    "import pandas as pd"
   ]
  },
  {
   "cell_type": "code",
   "execution_count": 62,
   "id": "suburban-insulin",
   "metadata": {},
   "outputs": [],
   "source": [
    "data = pd.read_csv('../Output_Skiresort_ch.csv')\n",
    "df = data.copy()\n",
    "df.head()"
   ]
  },
  {
   "cell_type": "code",
   "execution_count": 64,
   "id": "digital-translator",
   "metadata": {
    "scrolled": true
   },
   "outputs": [
    {
     "data": {
      "text/html": [
       "<div>\n",
       "<style scoped>\n",
       "    .dataframe tbody tr th:only-of-type {\n",
       "        vertical-align: middle;\n",
       "    }\n",
       "\n",
       "    .dataframe tbody tr th {\n",
       "        vertical-align: top;\n",
       "    }\n",
       "\n",
       "    .dataframe thead th {\n",
       "        text-align: right;\n",
       "    }\n",
       "</style>\n",
       "<table border=\"1\" class=\"dataframe\">\n",
       "  <thead>\n",
       "    <tr style=\"text-align: right;\">\n",
       "      <th></th>\n",
       "      <th>Name</th>\n",
       "    </tr>\n",
       "  </thead>\n",
       "  <tbody>\n",
       "    <tr>\n",
       "      <th>0</th>\n",
       "      <td>Aletsch Arena – Riederalp/Bettmeralp/Fiesch Eg...</td>\n",
       "    </tr>\n",
       "    <tr>\n",
       "      <th>1</th>\n",
       "      <td>Arosa Lenzerheide\\nEuropa Schweiz Ostschweiz G...</td>\n",
       "    </tr>\n",
       "    <tr>\n",
       "      <th>2</th>\n",
       "      <td>Ischgl/Samnaun – Silvretta Arena\\nEuropa Öster...</td>\n",
       "    </tr>\n",
       "    <tr>\n",
       "      <th>3</th>\n",
       "      <td>Wildhaus – Gamserrugg (Toggenburg)\\nEuropa Sch...</td>\n",
       "    </tr>\n",
       "    <tr>\n",
       "      <th>4</th>\n",
       "      <td>Elm im Sernftal\\nEuropa Schweiz Ostschweiz Gla...</td>\n",
       "    </tr>\n",
       "    <tr>\n",
       "      <th>...</th>\n",
       "      <td>...</td>\n",
       "    </tr>\n",
       "    <tr>\n",
       "      <th>351</th>\n",
       "      <td>Lukaslift – Grabs\\nEuropa Schweiz Ostschweiz S...</td>\n",
       "    </tr>\n",
       "    <tr>\n",
       "      <th>352</th>\n",
       "      <td>Weisstannen\\nEuropa Schweiz Ostschweiz Heidila...</td>\n",
       "    </tr>\n",
       "    <tr>\n",
       "      <th>353</th>\n",
       "      <td>Rotberg – Villigen\\nEuropa Schweiz Nordwestsch...</td>\n",
       "    </tr>\n",
       "    <tr>\n",
       "      <th>354</th>\n",
       "      <td>Bernina Heliski\\nEuropa Schweiz Ostschweiz Gra...</td>\n",
       "    </tr>\n",
       "    <tr>\n",
       "      <th>355</th>\n",
       "      <td>Loco Ski Academy – Saillon (Trockenskigebiet)\\...</td>\n",
       "    </tr>\n",
       "  </tbody>\n",
       "</table>\n",
       "<p>356 rows × 1 columns</p>\n",
       "</div>"
      ],
      "text/plain": [
       "                                                  Name\n",
       "0    Aletsch Arena – Riederalp/Bettmeralp/Fiesch Eg...\n",
       "1    Arosa Lenzerheide\\nEuropa Schweiz Ostschweiz G...\n",
       "2    Ischgl/Samnaun – Silvretta Arena\\nEuropa Öster...\n",
       "3    Wildhaus – Gamserrugg (Toggenburg)\\nEuropa Sch...\n",
       "4    Elm im Sernftal\\nEuropa Schweiz Ostschweiz Gla...\n",
       "..                                                 ...\n",
       "351  Lukaslift – Grabs\\nEuropa Schweiz Ostschweiz S...\n",
       "352  Weisstannen\\nEuropa Schweiz Ostschweiz Heidila...\n",
       "353  Rotberg – Villigen\\nEuropa Schweiz Nordwestsch...\n",
       "354  Bernina Heliski\\nEuropa Schweiz Ostschweiz Gra...\n",
       "355  Loco Ski Academy – Saillon (Trockenskigebiet)\\...\n",
       "\n",
       "[356 rows x 1 columns]"
      ]
     },
     "execution_count": 64,
     "metadata": {},
     "output_type": "execute_result"
    }
   ],
   "source": [
    "df.columns = ['Name']\n",
    "df = df.replace('\\n',';', regex=True)\n",
    "df= df.Name.str.split(\";\", expand = True)\n",
    "df.columns = ['Name', \"Region\", \"Ergebnis\", \"Hoehe\", \"Pisten_km\", \"blaue_Piste\", \"rote_Piste\", \"schwarze_Piste\", \"Anzahl_Bahnen\", \"Preis\", \"Test_1\", \"Test_2\", \"Test_3\"]\n",
    "dictionary = {'–':'-', 'ä':'a', 'ö': 'o', 'ü':'ue', 'Ö': 'Oe', 'é':'e', 'è': 'e', 'à': 'a'}\n",
    "df.replace(dictionary, regex=True, inplace=True)"
   ]
  },
  {
   "cell_type": "code",
   "execution_count": 78,
   "id": "protecting-combine",
   "metadata": {},
   "outputs": [],
   "source": [
    "df.to_excel('Data_Skiresort_ch.xlsx', index=False)"
   ]
  },
  {
   "attachments": {},
   "cell_type": "markdown",
   "id": "cf0d2bb1",
   "metadata": {},
   "source": [
    "Dataset MySwitzerland"
   ]
  },
  {
   "cell_type": "code",
   "execution_count": 80,
   "id": "royal-springfield",
   "metadata": {},
   "outputs": [],
   "source": [
    "data = pd.read_csv('../Output_Skiresort_MySwitzerland.csv')\n",
    "df = data.copy()\n",
    "df.head()\n"
   ]
  },
  {
   "cell_type": "code",
   "execution_count": 82,
   "id": "painful-episode",
   "metadata": {},
   "outputs": [
    {
     "data": {
      "text/html": [
       "<div>\n",
       "<style scoped>\n",
       "    .dataframe tbody tr th:only-of-type {\n",
       "        vertical-align: middle;\n",
       "    }\n",
       "\n",
       "    .dataframe tbody tr th {\n",
       "        vertical-align: top;\n",
       "    }\n",
       "\n",
       "    .dataframe thead th {\n",
       "        text-align: right;\n",
       "    }\n",
       "</style>\n",
       "<table border=\"1\" class=\"dataframe\">\n",
       "  <thead>\n",
       "    <tr style=\"text-align: right;\">\n",
       "      <th></th>\n",
       "      <th>Name</th>\n",
       "    </tr>\n",
       "  </thead>\n",
       "  <tbody>\n",
       "    <tr>\n",
       "      <th>0</th>\n",
       "      <td>Verbier\\nVerbier - Wallis\\nWetterprognose heut...</td>\n",
       "    </tr>\n",
       "    <tr>\n",
       "      <th>1</th>\n",
       "      <td>Thyon - 4 Vallées\\nLes Collons Thyon - Wallis\\...</td>\n",
       "    </tr>\n",
       "    <tr>\n",
       "      <th>2</th>\n",
       "      <td>Samnaun/Ischgl\\nSamnaun - Graubünden\\nWetterpr...</td>\n",
       "    </tr>\n",
       "    <tr>\n",
       "      <th>3</th>\n",
       "      <td>Engadin St.Moritz\\nSt. Moritz - Graubünden\\nWe...</td>\n",
       "    </tr>\n",
       "    <tr>\n",
       "      <th>4</th>\n",
       "      <td>Anzeige</td>\n",
       "    </tr>\n",
       "    <tr>\n",
       "      <th>...</th>\n",
       "      <td>...</td>\n",
       "    </tr>\n",
       "    <tr>\n",
       "      <th>264</th>\n",
       "      <td>Langlauf\\nAlles über Langlauf in der Schweiz\\n...</td>\n",
       "    </tr>\n",
       "    <tr>\n",
       "      <th>265</th>\n",
       "      <td>Bulle - La Chia\\nBulle - Fribourg Region\\nWett...</td>\n",
       "    </tr>\n",
       "    <tr>\n",
       "      <th>266</th>\n",
       "      <td>Eischoll\\nEischoll - Wallis\\nWetterprognose he...</td>\n",
       "    </tr>\n",
       "    <tr>\n",
       "      <th>267</th>\n",
       "      <td>Flüelen-Eggberge\\nAltdorf - Luzern - Vierwalds...</td>\n",
       "    </tr>\n",
       "    <tr>\n",
       "      <th>268</th>\n",
       "      <td>Obermutten\\nObermutten - Graubünden\\nKeine akt...</td>\n",
       "    </tr>\n",
       "  </tbody>\n",
       "</table>\n",
       "<p>269 rows × 1 columns</p>\n",
       "</div>"
      ],
      "text/plain": [
       "                                                  Name\n",
       "0    Verbier\\nVerbier - Wallis\\nWetterprognose heut...\n",
       "1    Thyon - 4 Vallées\\nLes Collons Thyon - Wallis\\...\n",
       "2    Samnaun/Ischgl\\nSamnaun - Graubünden\\nWetterpr...\n",
       "3    Engadin St.Moritz\\nSt. Moritz - Graubünden\\nWe...\n",
       "4                                              Anzeige\n",
       "..                                                 ...\n",
       "264  Langlauf\\nAlles über Langlauf in der Schweiz\\n...\n",
       "265  Bulle - La Chia\\nBulle - Fribourg Region\\nWett...\n",
       "266  Eischoll\\nEischoll - Wallis\\nWetterprognose he...\n",
       "267  Flüelen-Eggberge\\nAltdorf - Luzern - Vierwalds...\n",
       "268  Obermutten\\nObermutten - Graubünden\\nKeine akt...\n",
       "\n",
       "[269 rows x 1 columns]"
      ]
     },
     "execution_count": 82,
     "metadata": {},
     "output_type": "execute_result"
    }
   ],
   "source": [
    "df.columns = ['Name']\n",
    "df = df.replace('\\n',';', regex=True)\n",
    "df= df.Name.str.split(\";\", expand = True)\n",
    "df.columns = ['Name', \"Region\", \"Wetter\", \"Grad\", \"Wetter_1\", \"Wetter_2\", \"Schneehöhe\", \"Schneehöhe_1\", \"Schneehöhe_2\", \"Tageskarten\", \"Preis\", \"Preis_Kinder\"]\n"
   ]
  },
  {
   "cell_type": "code",
   "execution_count": 87,
   "id": "pleasant-event",
   "metadata": {},
   "outputs": [],
   "source": [
    "df.to_excel('Data_MySwitzerland.xlsx', index=False)"
   ]
  }
 ],
 "metadata": {
  "kernelspec": {
   "display_name": "Python 3",
   "language": "python",
   "name": "python3"
  },
  "language_info": {
   "codemirror_mode": {
    "name": "ipython",
    "version": 3
   },
   "file_extension": ".py",
   "mimetype": "text/x-python",
   "name": "python",
   "nbconvert_exporter": "python",
   "pygments_lexer": "ipython3",
   "version": "3.7.3"
  }
 },
 "nbformat": 4,
 "nbformat_minor": 5
}
