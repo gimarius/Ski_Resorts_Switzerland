{
 "cells": [
  {
   "cell_type": "code",
   "execution_count": 1,
   "id": "appointed-squad",
   "metadata": {
    "tags": []
   },
   "outputs": [],
   "source": [
    "import pandas as pd\n",
    "import chart_studio.plotly as py\n",
    "import plotly.express as px\n",
    "%matplotlib inline"
   ]
  },
  {
   "cell_type": "code",
   "execution_count": 2,
   "id": "3b89fde5-292c-406d-acff-4feec8a5b9c9",
   "metadata": {
    "tags": []
   },
   "outputs": [
    {
     "data": {
      "text/html": [
       "        <script type=\"text/javascript\">\n",
       "        window.PlotlyConfig = {MathJaxConfig: 'local'};\n",
       "        if (window.MathJax && window.MathJax.Hub && window.MathJax.Hub.Config) {window.MathJax.Hub.Config({SVG: {font: \"STIX-Web\"}});}\n",
       "        if (typeof require !== 'undefined') {\n",
       "        require.undef(\"plotly\");\n",
       "        requirejs.config({\n",
       "            paths: {\n",
       "                'plotly': ['https://cdn.plot.ly/plotly-2.14.0.min']\n",
       "            }\n",
       "        });\n",
       "        require(['plotly'], function(Plotly) {\n",
       "            window._Plotly = Plotly;\n",
       "        });\n",
       "        }\n",
       "        </script>\n",
       "        "
      ]
     },
     "metadata": {},
     "output_type": "display_data"
    }
   ],
   "source": [
    "from plotly.offline import download_plotlyjs, init_notebook_mode, plot, iplot\n",
    "init_notebook_mode(connected=True) \n",
    "#cf.go_offline()\n"
   ]
  },
  {
   "cell_type": "markdown",
   "id": "714ffdaf-e030-4223-a562-97dbf1b9cc84",
   "metadata": {},
   "source": [
    "## Use Kaleido for image export"
   ]
  },
  {
   "cell_type": "code",
   "execution_count": 3,
   "id": "efc5228f-88c9-43d6-aaa2-b4b84acfce71",
   "metadata": {},
   "outputs": [],
   "source": [
    "import kaleido\n"
   ]
  },
  {
   "cell_type": "markdown",
   "id": "79742a46-df53-4efe-bf9e-57e6996ec5eb",
   "metadata": {},
   "source": [
    "Use Image for image import"
   ]
  },
  {
   "cell_type": "code",
   "execution_count": 4,
   "id": "695997ae-f59d-480a-b725-2ce6da6f4d61",
   "metadata": {
    "tags": []
   },
   "outputs": [],
   "source": [
    "from IPython.display import Image"
   ]
  },
  {
   "cell_type": "markdown",
   "id": "32ac7351-0b69-402a-b9e4-092f225ed8b6",
   "metadata": {},
   "source": [
    "## Read Data"
   ]
  },
  {
   "cell_type": "code",
   "execution_count": 24,
   "id": "853c3602-64dd-4fb6-bae4-89b1732cc3dd",
   "metadata": {
    "tags": []
   },
   "outputs": [
    {
     "data": {
      "text/html": [
       "<div>\n",
       "<style scoped>\n",
       "    .dataframe tbody tr th:only-of-type {\n",
       "        vertical-align: middle;\n",
       "    }\n",
       "\n",
       "    .dataframe tbody tr th {\n",
       "        vertical-align: top;\n",
       "    }\n",
       "\n",
       "    .dataframe thead th {\n",
       "        text-align: right;\n",
       "    }\n",
       "</style>\n",
       "<table border=\"1\" class=\"dataframe\">\n",
       "  <thead>\n",
       "    <tr style=\"text-align: right;\">\n",
       "      <th></th>\n",
       "      <th>Skiresort_ID</th>\n",
       "      <th>Bergfex_ID</th>\n",
       "      <th>Ort</th>\n",
       "      <th>PLZ</th>\n",
       "      <th>Unnamed: 4</th>\n",
       "      <th>Höhendifferenz in</th>\n",
       "      <th>Min Höhe in</th>\n",
       "      <th>Max Höhe in m</th>\n",
       "      <th>Pisten_km</th>\n",
       "      <th>blaue_Piste</th>\n",
       "      <th>...</th>\n",
       "      <th>schwarze_Piste</th>\n",
       "      <th>Anzahl_Bahnen</th>\n",
       "      <th>Preis in CHF</th>\n",
       "      <th>Preis in EUR</th>\n",
       "      <th>Kanton_Kuerzel</th>\n",
       "      <th>SPRACHCODE</th>\n",
       "      <th>Geo Shape</th>\n",
       "      <th>Breitengrad</th>\n",
       "      <th>Längengrad</th>\n",
       "      <th>2000er_Schwelle</th>\n",
       "    </tr>\n",
       "  </thead>\n",
       "  <tbody>\n",
       "    <tr>\n",
       "      <th>0</th>\n",
       "      <td>1</td>\n",
       "      <td>154</td>\n",
       "      <td>Unterbach</td>\n",
       "      <td>3857</td>\n",
       "      <td>Brandalp/Ginals Unterbach  Unterbach</td>\n",
       "      <td>1213</td>\n",
       "      <td>1230</td>\n",
       "      <td>2443</td>\n",
       "      <td>19.0</td>\n",
       "      <td>10.0</td>\n",
       "      <td>...</td>\n",
       "      <td>3.0</td>\n",
       "      <td>7</td>\n",
       "      <td>52.0</td>\n",
       "      <td>53.0</td>\n",
       "      <td>BE</td>\n",
       "      <td>1</td>\n",
       "      <td>{\"coordinates\":[[[8.089758501236219,46.7278423...</td>\n",
       "      <td>46.737816</td>\n",
       "      <td>8.118977</td>\n",
       "      <td>Über 2000 Meter</td>\n",
       "    </tr>\n",
       "    <tr>\n",
       "      <th>1</th>\n",
       "      <td>2</td>\n",
       "      <td>1</td>\n",
       "      <td>Adelboden</td>\n",
       "      <td>3715</td>\n",
       "      <td>Adelboden Adelboden Adelboden</td>\n",
       "      <td>940</td>\n",
       "      <td>1260</td>\n",
       "      <td>2200</td>\n",
       "      <td>86.0</td>\n",
       "      <td>46.0</td>\n",
       "      <td>...</td>\n",
       "      <td>6.0</td>\n",
       "      <td>25</td>\n",
       "      <td>70.0</td>\n",
       "      <td>71.0</td>\n",
       "      <td>BE</td>\n",
       "      <td>1</td>\n",
       "      <td>{\"coordinates\":[[[7.556297221810153,46.4136636...</td>\n",
       "      <td>46.473621</td>\n",
       "      <td>7.555155</td>\n",
       "      <td>Über 2000 Meter</td>\n",
       "    </tr>\n",
       "    <tr>\n",
       "      <th>2</th>\n",
       "      <td>3</td>\n",
       "      <td>135</td>\n",
       "      <td>Scuol</td>\n",
       "      <td>7550</td>\n",
       "      <td>Motta Naluns Scuol  Scuol</td>\n",
       "      <td>1535</td>\n",
       "      <td>1250</td>\n",
       "      <td>2785</td>\n",
       "      <td>70.0</td>\n",
       "      <td>27.0</td>\n",
       "      <td>...</td>\n",
       "      <td>11.0</td>\n",
       "      <td>10</td>\n",
       "      <td>67.0</td>\n",
       "      <td>68.0</td>\n",
       "      <td>GR</td>\n",
       "      <td>1</td>\n",
       "      <td>{\"coordinates\":[[[10.337667606548692,46.651644...</td>\n",
       "      <td>46.734561</td>\n",
       "      <td>10.326322</td>\n",
       "      <td>Über 2000 Meter</td>\n",
       "    </tr>\n",
       "    <tr>\n",
       "      <th>3</th>\n",
       "      <td>4</td>\n",
       "      <td>137</td>\n",
       "      <td>Samnaun</td>\n",
       "      <td>7562</td>\n",
       "      <td>Silvretta Arena Ischgl/Samnaun  Samnaun</td>\n",
       "      <td>1512</td>\n",
       "      <td>1360</td>\n",
       "      <td>2872</td>\n",
       "      <td>239.0</td>\n",
       "      <td>47.0</td>\n",
       "      <td>...</td>\n",
       "      <td>49.0</td>\n",
       "      <td>41</td>\n",
       "      <td>67.0</td>\n",
       "      <td>67.0</td>\n",
       "      <td>GR</td>\n",
       "      <td>1</td>\n",
       "      <td>{\"coordinates\":[[[10.391389969430705,46.942032...</td>\n",
       "      <td>46.963293</td>\n",
       "      <td>10.402297</td>\n",
       "      <td>Über 2000 Meter</td>\n",
       "    </tr>\n",
       "    <tr>\n",
       "      <th>4</th>\n",
       "      <td>5</td>\n",
       "      <td>26</td>\n",
       "      <td>Verbier</td>\n",
       "      <td>1936</td>\n",
       "      <td>4 Vallees  Verbier/La Tzoumaz/Nendaz/Veysonnaz...</td>\n",
       "      <td>2509</td>\n",
       "      <td>821</td>\n",
       "      <td>3330</td>\n",
       "      <td>412.0</td>\n",
       "      <td>107.0</td>\n",
       "      <td>...</td>\n",
       "      <td>103.0</td>\n",
       "      <td>67</td>\n",
       "      <td>82.0</td>\n",
       "      <td>83.0</td>\n",
       "      <td>VS</td>\n",
       "      <td>2</td>\n",
       "      <td>{\"coordinates\":[[[7.279137318615009,46.0968681...</td>\n",
       "      <td>46.100790</td>\n",
       "      <td>7.229655</td>\n",
       "      <td>Über 2000 Meter</td>\n",
       "    </tr>\n",
       "  </tbody>\n",
       "</table>\n",
       "<p>5 rows × 21 columns</p>\n",
       "</div>"
      ],
      "text/plain": [
       "   Skiresort_ID Bergfex_ID        Ort   PLZ  \\\n",
       "0             1        154  Unterbach  3857   \n",
       "1             2          1  Adelboden  3715   \n",
       "2             3        135      Scuol  7550   \n",
       "3             4        137    Samnaun  7562   \n",
       "4             5         26    Verbier  1936   \n",
       "\n",
       "                                          Unnamed: 4  Höhendifferenz in  \\\n",
       "0             Brandalp/Ginals Unterbach  Unterbach                 1213   \n",
       "1                     Adelboden Adelboden Adelboden                 940   \n",
       "2                        Motta Naluns Scuol  Scuol                 1535   \n",
       "3           Silvretta Arena Ischgl/Samnaun  Samnaun                1512   \n",
       "4  4 Vallees  Verbier/La Tzoumaz/Nendaz/Veysonnaz...               2509   \n",
       "\n",
       "   Min Höhe in  Max Höhe in m  Pisten_km  blaue_Piste  ...  schwarze_Piste  \\\n",
       "0         1230           2443       19.0         10.0  ...             3.0   \n",
       "1         1260           2200       86.0         46.0  ...             6.0   \n",
       "2         1250           2785       70.0         27.0  ...            11.0   \n",
       "3         1360           2872      239.0         47.0  ...            49.0   \n",
       "4          821           3330      412.0        107.0  ...           103.0   \n",
       "\n",
       "   Anzahl_Bahnen  Preis in CHF  Preis in EUR  Kanton_Kuerzel SPRACHCODE  \\\n",
       "0              7          52.0          53.0              BE          1   \n",
       "1             25          70.0          71.0              BE          1   \n",
       "2             10          67.0          68.0              GR          1   \n",
       "3             41          67.0          67.0              GR          1   \n",
       "4             67          82.0          83.0              VS          2   \n",
       "\n",
       "                                           Geo Shape Breitengrad  Längengrad  \\\n",
       "0  {\"coordinates\":[[[8.089758501236219,46.7278423...   46.737816    8.118977   \n",
       "1  {\"coordinates\":[[[7.556297221810153,46.4136636...   46.473621    7.555155   \n",
       "2  {\"coordinates\":[[[10.337667606548692,46.651644...   46.734561   10.326322   \n",
       "3  {\"coordinates\":[[[10.391389969430705,46.942032...   46.963293   10.402297   \n",
       "4  {\"coordinates\":[[[7.279137318615009,46.0968681...   46.100790    7.229655   \n",
       "\n",
       "   2000er_Schwelle  \n",
       "0  Über 2000 Meter  \n",
       "1  Über 2000 Meter  \n",
       "2  Über 2000 Meter  \n",
       "3  Über 2000 Meter  \n",
       "4  Über 2000 Meter  \n",
       "\n",
       "[5 rows x 21 columns]"
      ]
     },
     "execution_count": 24,
     "metadata": {},
     "output_type": "execute_result"
    }
   ],
   "source": [
    "data = pd.read_excel('Data_Skiresorts_Final.xlsx')\n",
    "df = data.copy()\n",
    "df.head()"
   ]
  },
  {
   "cell_type": "markdown",
   "id": "054f1081-215d-45ed-82a3-2aff117082aa",
   "metadata": {},
   "source": [
    "## Transform data"
   ]
  },
  {
   "cell_type": "code",
   "execution_count": 25,
   "id": "50eec143-b091-47d0-83c2-73f2e9a9e669",
   "metadata": {
    "tags": []
   },
   "outputs": [
    {
     "data": {
      "text/plain": [
       "Index(['Skiresort_ID', 'Bergfex_ID', 'Ort', 'PLZ', 'Unnamed: 4',\n",
       "       'Höhendifferenz in', 'Min Höhe in', 'Max Höhe in m', 'Pisten_km',\n",
       "       'blaue_Piste', 'rote_Piste', 'schwarze_Piste', 'Anzahl_Bahnen',\n",
       "       'Preis in CHF', 'Preis in EUR', 'Kanton_Kuerzel', 'SPRACHCODE',\n",
       "       'Geo Shape', 'Breitengrad', 'Längengrad', '2000er_Schwelle'],\n",
       "      dtype='object')"
      ]
     },
     "execution_count": 25,
     "metadata": {},
     "output_type": "execute_result"
    }
   ],
   "source": [
    "df.columns"
   ]
  },
  {
   "cell_type": "code",
   "execution_count": 26,
   "id": "4f4b75da-6eda-49e5-bbca-a015b1d69495",
   "metadata": {
    "tags": []
   },
   "outputs": [],
   "source": [
    "df.rename(columns={'Unnamed: 4':'Skiresort'}, inplace=True)\n"
   ]
  },
  {
   "cell_type": "code",
   "execution_count": 133,
   "id": "c47c0bf9-e634-481e-ade1-5a59a10a7824",
   "metadata": {
    "tags": []
   },
   "outputs": [],
   "source": [
    "df.loc[(df['Max Höhe in m'] > 1999), 'Über_2000'] = 1\n",
    "df.loc[(df['Max Höhe in m'] < 2000), 'Über_2000'] = 0\n",
    "\n",
    "df.loc[(df['Max Höhe in m'] > 1999), 'Unter_2000'] = 0\n",
    "df.loc[(df['Max Höhe in m'] < 2000), 'Unter_2000'] = 1\n"
   ]
  },
  {
   "cell_type": "code",
   "execution_count": 134,
   "id": "fd7373fa-5d71-4249-b25f-aa029d410fc7",
   "metadata": {
    "tags": []
   },
   "outputs": [
    {
     "data": {
      "text/plain": [
       "Index(['Skiresort_ID', 'Bergfex_ID', 'Ort', 'PLZ', 'Skiresort',\n",
       "       'Höhendifferenz in', 'Min Höhe in', 'Max Höhe in m', 'Pisten_km',\n",
       "       'blaue_Piste', 'rote_Piste', 'schwarze_Piste', 'Anzahl_Bahnen',\n",
       "       'Preis in CHF', 'Preis in EUR', 'Kanton_Kuerzel', 'SPRACHCODE',\n",
       "       'Geo Shape', 'Breitengrad', 'Längengrad', '2000er_Schwelle',\n",
       "       'Über_2000', 'Unter_2000'],\n",
       "      dtype='object')"
      ]
     },
     "execution_count": 134,
     "metadata": {},
     "output_type": "execute_result"
    }
   ],
   "source": [
    "df.columns"
   ]
  },
  {
   "cell_type": "markdown",
   "id": "7cb1742c-93a9-41bd-a678-5f176435f623",
   "metadata": {
    "tags": []
   },
   "source": [
    "## Create Dataframe for chart"
   ]
  },
  {
   "cell_type": "code",
   "execution_count": 165,
   "id": "thick-grammar",
   "metadata": {
    "tags": []
   },
   "outputs": [
    {
     "name": "stderr",
     "output_type": "stream",
     "text": [
      "C:\\Users\\mariu\\Anaconda3\\lib\\site-packages\\ipykernel_launcher.py:1: FutureWarning:\n",
      "\n",
      "Indexing with multiple keys (implicitly converted to a tuple of keys) will be deprecated, use a list instead.\n",
      "\n"
     ]
    },
    {
     "data": {
      "text/html": [
       "<div>\n",
       "<style scoped>\n",
       "    .dataframe tbody tr th:only-of-type {\n",
       "        vertical-align: middle;\n",
       "    }\n",
       "\n",
       "    .dataframe tbody tr th {\n",
       "        vertical-align: top;\n",
       "    }\n",
       "\n",
       "    .dataframe thead th {\n",
       "        text-align: right;\n",
       "    }\n",
       "</style>\n",
       "<table border=\"1\" class=\"dataframe\">\n",
       "  <thead>\n",
       "    <tr style=\"text-align: right;\">\n",
       "      <th></th>\n",
       "      <th>Kanton</th>\n",
       "      <th>Über 2000</th>\n",
       "      <th>Unter 2000</th>\n",
       "    </tr>\n",
       "  </thead>\n",
       "  <tbody>\n",
       "    <tr>\n",
       "      <th>0</th>\n",
       "      <td>VS</td>\n",
       "      <td>33.0</td>\n",
       "      <td>12.0</td>\n",
       "    </tr>\n",
       "    <tr>\n",
       "      <th>1</th>\n",
       "      <td>GR</td>\n",
       "      <td>33.0</td>\n",
       "      <td>28.0</td>\n",
       "    </tr>\n",
       "    <tr>\n",
       "      <th>2</th>\n",
       "      <td>BE</td>\n",
       "      <td>12.0</td>\n",
       "      <td>60.0</td>\n",
       "    </tr>\n",
       "    <tr>\n",
       "      <th>3</th>\n",
       "      <td>SG</td>\n",
       "      <td>5.0</td>\n",
       "      <td>20.0</td>\n",
       "    </tr>\n",
       "    <tr>\n",
       "      <th>4</th>\n",
       "      <td>VD</td>\n",
       "      <td>4.0</td>\n",
       "      <td>17.0</td>\n",
       "    </tr>\n",
       "  </tbody>\n",
       "</table>\n",
       "</div>"
      ],
      "text/plain": [
       "  Kanton  Über 2000  Unter 2000\n",
       "0     VS       33.0        12.0\n",
       "1     GR       33.0        28.0\n",
       "2     BE       12.0        60.0\n",
       "3     SG        5.0        20.0\n",
       "4     VD        4.0        17.0"
      ]
     },
     "execution_count": 165,
     "metadata": {},
     "output_type": "execute_result"
    }
   ],
   "source": [
    "df_Kanton_Höhe = df.groupby('Kanton_Kuerzel')['Über_2000','Unter_2000'].sum().sort_values(['Über_2000'],ascending=False).reset_index()\n",
    "df_Kanton_Höhe.rename(columns={'Über_2000':'Über 2000', \n",
    "                               'Unter_2000' : 'Unter 2000',\n",
    "                              'Kanton_Kuerzel': 'Kanton'}, inplace=True)\n",
    "\n",
    "df_Kanton_Höhe.head(5)"
   ]
  },
  {
   "cell_type": "markdown",
   "id": "cdf6487f-02fb-4d9e-b64d-48be4948c19e",
   "metadata": {},
   "source": [
    "## Bar Chart\n",
    "- Create the bar chart\n",
    "- Save bar chart to png file\n",
    "- Display bar chart"
   ]
  },
  {
   "cell_type": "code",
   "execution_count": 141,
   "id": "d6ac9809-d6f9-4208-ab97-fc65439d4d26",
   "metadata": {
    "tags": []
   },
   "outputs": [
    {
     "data": {
      "text/plain": [
       "Index(['Skiresort_ID', 'Bergfex_ID', 'Ort', 'PLZ', 'Skiresort',\n",
       "       'Höhendifferenz in', 'Min Höhe in', 'Max Höhe in m', 'Pisten_km',\n",
       "       'blaue_Piste', 'rote_Piste', 'schwarze_Piste', 'Anzahl_Bahnen',\n",
       "       'Preis in CHF', 'Preis in EUR', 'Kanton_Kuerzel', 'SPRACHCODE',\n",
       "       'Geo Shape', 'Breitengrad', 'Längengrad', '2000er_Schwelle',\n",
       "       'Über_2000', 'Unter_2000'],\n",
       "      dtype='object')"
      ]
     },
     "execution_count": 141,
     "metadata": {},
     "output_type": "execute_result"
    }
   ],
   "source": [
    "df.columns"
   ]
  },
  {
   "cell_type": "code",
   "execution_count": 181,
   "id": "7be1343c-51ba-45c0-afa6-6e9ecca4840f",
   "metadata": {
    "tags": []
   },
   "outputs": [
    {
     "data": {
      "application/vnd.plotly.v1+json": {
       "config": {
        "plotlyServerURL": "https://plot.ly"
       },
       "data": [
        {
         "alignmentgroup": "True",
         "hovertemplate": "variable=Über 2000<br>Kanton=%{x}<br>Anzahl Skigebiete=%{y}<extra></extra>",
         "legendgroup": "Über 2000",
         "marker": {
          "color": "#636efa",
          "pattern": {
           "shape": ""
          }
         },
         "name": "Über 2000",
         "offsetgroup": "Über 2000",
         "orientation": "v",
         "showlegend": true,
         "textposition": "auto",
         "type": "bar",
         "x": [
          "VS",
          "GR",
          "BE",
          "SG",
          "VD",
          "TI",
          "OW",
          "FR",
          "UR",
          "GL",
          "LU",
          "SO",
          "ZG",
          "TG",
          "SZ",
          "AG",
          "SH",
          "AI",
          "NW",
          "NE",
          "JU",
          "BL",
          "AR",
          "ZH"
         ],
         "xaxis": "x",
         "y": [
          33,
          33,
          12,
          5,
          4,
          4,
          3,
          2,
          2,
          1,
          1,
          0,
          0,
          0,
          0,
          0,
          0,
          0,
          0,
          0,
          0,
          0,
          0,
          0
         ],
         "yaxis": "y"
        },
        {
         "alignmentgroup": "True",
         "hovertemplate": "variable=Unter 2000<br>Kanton=%{x}<br>Anzahl Skigebiete=%{y}<extra></extra>",
         "legendgroup": "Unter 2000",
         "marker": {
          "color": "#EF553B",
          "pattern": {
           "shape": ""
          }
         },
         "name": "Unter 2000",
         "offsetgroup": "Unter 2000",
         "orientation": "v",
         "showlegend": true,
         "textposition": "auto",
         "type": "bar",
         "x": [
          "VS",
          "GR",
          "BE",
          "SG",
          "VD",
          "TI",
          "OW",
          "FR",
          "UR",
          "GL",
          "LU",
          "SO",
          "ZG",
          "TG",
          "SZ",
          "AG",
          "SH",
          "AI",
          "NW",
          "NE",
          "JU",
          "BL",
          "AR",
          "ZH"
         ],
         "xaxis": "x",
         "y": [
          12,
          28,
          60,
          20,
          17,
          8,
          2,
          11,
          8,
          6,
          3,
          9,
          3,
          3,
          15,
          6,
          2,
          5,
          5,
          11,
          2,
          3,
          7,
          9
         ],
         "yaxis": "y"
        }
       ],
       "layout": {
        "autosize": true,
        "barmode": "group",
        "legend": {
         "title": {
          "text": "Höhenlage"
         },
         "tracegroupgap": 0
        },
        "margin": {
         "b": 0,
         "l": 0,
         "r": 0,
         "t": 40
        },
        "showlegend": true,
        "template": {
         "data": {
          "bar": [
           {
            "error_x": {
             "color": "#2a3f5f"
            },
            "error_y": {
             "color": "#2a3f5f"
            },
            "marker": {
             "line": {
              "color": "#E5ECF6",
              "width": 0.5
             },
             "pattern": {
              "fillmode": "overlay",
              "size": 10,
              "solidity": 0.2
             }
            },
            "type": "bar"
           }
          ],
          "barpolar": [
           {
            "marker": {
             "line": {
              "color": "#E5ECF6",
              "width": 0.5
             },
             "pattern": {
              "fillmode": "overlay",
              "size": 10,
              "solidity": 0.2
             }
            },
            "type": "barpolar"
           }
          ],
          "carpet": [
           {
            "aaxis": {
             "endlinecolor": "#2a3f5f",
             "gridcolor": "white",
             "linecolor": "white",
             "minorgridcolor": "white",
             "startlinecolor": "#2a3f5f"
            },
            "baxis": {
             "endlinecolor": "#2a3f5f",
             "gridcolor": "white",
             "linecolor": "white",
             "minorgridcolor": "white",
             "startlinecolor": "#2a3f5f"
            },
            "type": "carpet"
           }
          ],
          "choropleth": [
           {
            "colorbar": {
             "outlinewidth": 0,
             "ticks": ""
            },
            "type": "choropleth"
           }
          ],
          "contour": [
           {
            "colorbar": {
             "outlinewidth": 0,
             "ticks": ""
            },
            "colorscale": [
             [
              0,
              "#0d0887"
             ],
             [
              0.1111111111111111,
              "#46039f"
             ],
             [
              0.2222222222222222,
              "#7201a8"
             ],
             [
              0.3333333333333333,
              "#9c179e"
             ],
             [
              0.4444444444444444,
              "#bd3786"
             ],
             [
              0.5555555555555556,
              "#d8576b"
             ],
             [
              0.6666666666666666,
              "#ed7953"
             ],
             [
              0.7777777777777778,
              "#fb9f3a"
             ],
             [
              0.8888888888888888,
              "#fdca26"
             ],
             [
              1,
              "#f0f921"
             ]
            ],
            "type": "contour"
           }
          ],
          "contourcarpet": [
           {
            "colorbar": {
             "outlinewidth": 0,
             "ticks": ""
            },
            "type": "contourcarpet"
           }
          ],
          "heatmap": [
           {
            "colorbar": {
             "outlinewidth": 0,
             "ticks": ""
            },
            "colorscale": [
             [
              0,
              "#0d0887"
             ],
             [
              0.1111111111111111,
              "#46039f"
             ],
             [
              0.2222222222222222,
              "#7201a8"
             ],
             [
              0.3333333333333333,
              "#9c179e"
             ],
             [
              0.4444444444444444,
              "#bd3786"
             ],
             [
              0.5555555555555556,
              "#d8576b"
             ],
             [
              0.6666666666666666,
              "#ed7953"
             ],
             [
              0.7777777777777778,
              "#fb9f3a"
             ],
             [
              0.8888888888888888,
              "#fdca26"
             ],
             [
              1,
              "#f0f921"
             ]
            ],
            "type": "heatmap"
           }
          ],
          "heatmapgl": [
           {
            "colorbar": {
             "outlinewidth": 0,
             "ticks": ""
            },
            "colorscale": [
             [
              0,
              "#0d0887"
             ],
             [
              0.1111111111111111,
              "#46039f"
             ],
             [
              0.2222222222222222,
              "#7201a8"
             ],
             [
              0.3333333333333333,
              "#9c179e"
             ],
             [
              0.4444444444444444,
              "#bd3786"
             ],
             [
              0.5555555555555556,
              "#d8576b"
             ],
             [
              0.6666666666666666,
              "#ed7953"
             ],
             [
              0.7777777777777778,
              "#fb9f3a"
             ],
             [
              0.8888888888888888,
              "#fdca26"
             ],
             [
              1,
              "#f0f921"
             ]
            ],
            "type": "heatmapgl"
           }
          ],
          "histogram": [
           {
            "marker": {
             "pattern": {
              "fillmode": "overlay",
              "size": 10,
              "solidity": 0.2
             }
            },
            "type": "histogram"
           }
          ],
          "histogram2d": [
           {
            "colorbar": {
             "outlinewidth": 0,
             "ticks": ""
            },
            "colorscale": [
             [
              0,
              "#0d0887"
             ],
             [
              0.1111111111111111,
              "#46039f"
             ],
             [
              0.2222222222222222,
              "#7201a8"
             ],
             [
              0.3333333333333333,
              "#9c179e"
             ],
             [
              0.4444444444444444,
              "#bd3786"
             ],
             [
              0.5555555555555556,
              "#d8576b"
             ],
             [
              0.6666666666666666,
              "#ed7953"
             ],
             [
              0.7777777777777778,
              "#fb9f3a"
             ],
             [
              0.8888888888888888,
              "#fdca26"
             ],
             [
              1,
              "#f0f921"
             ]
            ],
            "type": "histogram2d"
           }
          ],
          "histogram2dcontour": [
           {
            "colorbar": {
             "outlinewidth": 0,
             "ticks": ""
            },
            "colorscale": [
             [
              0,
              "#0d0887"
             ],
             [
              0.1111111111111111,
              "#46039f"
             ],
             [
              0.2222222222222222,
              "#7201a8"
             ],
             [
              0.3333333333333333,
              "#9c179e"
             ],
             [
              0.4444444444444444,
              "#bd3786"
             ],
             [
              0.5555555555555556,
              "#d8576b"
             ],
             [
              0.6666666666666666,
              "#ed7953"
             ],
             [
              0.7777777777777778,
              "#fb9f3a"
             ],
             [
              0.8888888888888888,
              "#fdca26"
             ],
             [
              1,
              "#f0f921"
             ]
            ],
            "type": "histogram2dcontour"
           }
          ],
          "mesh3d": [
           {
            "colorbar": {
             "outlinewidth": 0,
             "ticks": ""
            },
            "type": "mesh3d"
           }
          ],
          "parcoords": [
           {
            "line": {
             "colorbar": {
              "outlinewidth": 0,
              "ticks": ""
             }
            },
            "type": "parcoords"
           }
          ],
          "pie": [
           {
            "automargin": true,
            "type": "pie"
           }
          ],
          "scatter": [
           {
            "fillpattern": {
             "fillmode": "overlay",
             "size": 10,
             "solidity": 0.2
            },
            "type": "scatter"
           }
          ],
          "scatter3d": [
           {
            "line": {
             "colorbar": {
              "outlinewidth": 0,
              "ticks": ""
             }
            },
            "marker": {
             "colorbar": {
              "outlinewidth": 0,
              "ticks": ""
             }
            },
            "type": "scatter3d"
           }
          ],
          "scattercarpet": [
           {
            "marker": {
             "colorbar": {
              "outlinewidth": 0,
              "ticks": ""
             }
            },
            "type": "scattercarpet"
           }
          ],
          "scattergeo": [
           {
            "marker": {
             "colorbar": {
              "outlinewidth": 0,
              "ticks": ""
             }
            },
            "type": "scattergeo"
           }
          ],
          "scattergl": [
           {
            "marker": {
             "colorbar": {
              "outlinewidth": 0,
              "ticks": ""
             }
            },
            "type": "scattergl"
           }
          ],
          "scattermapbox": [
           {
            "marker": {
             "colorbar": {
              "outlinewidth": 0,
              "ticks": ""
             }
            },
            "type": "scattermapbox"
           }
          ],
          "scatterpolar": [
           {
            "marker": {
             "colorbar": {
              "outlinewidth": 0,
              "ticks": ""
             }
            },
            "type": "scatterpolar"
           }
          ],
          "scatterpolargl": [
           {
            "marker": {
             "colorbar": {
              "outlinewidth": 0,
              "ticks": ""
             }
            },
            "type": "scatterpolargl"
           }
          ],
          "scatterternary": [
           {
            "marker": {
             "colorbar": {
              "outlinewidth": 0,
              "ticks": ""
             }
            },
            "type": "scatterternary"
           }
          ],
          "surface": [
           {
            "colorbar": {
             "outlinewidth": 0,
             "ticks": ""
            },
            "colorscale": [
             [
              0,
              "#0d0887"
             ],
             [
              0.1111111111111111,
              "#46039f"
             ],
             [
              0.2222222222222222,
              "#7201a8"
             ],
             [
              0.3333333333333333,
              "#9c179e"
             ],
             [
              0.4444444444444444,
              "#bd3786"
             ],
             [
              0.5555555555555556,
              "#d8576b"
             ],
             [
              0.6666666666666666,
              "#ed7953"
             ],
             [
              0.7777777777777778,
              "#fb9f3a"
             ],
             [
              0.8888888888888888,
              "#fdca26"
             ],
             [
              1,
              "#f0f921"
             ]
            ],
            "type": "surface"
           }
          ],
          "table": [
           {
            "cells": {
             "fill": {
              "color": "#EBF0F8"
             },
             "line": {
              "color": "white"
             }
            },
            "header": {
             "fill": {
              "color": "#C8D4E3"
             },
             "line": {
              "color": "white"
             }
            },
            "type": "table"
           }
          ]
         },
         "layout": {
          "annotationdefaults": {
           "arrowcolor": "#2a3f5f",
           "arrowhead": 0,
           "arrowwidth": 1
          },
          "autotypenumbers": "strict",
          "coloraxis": {
           "colorbar": {
            "outlinewidth": 0,
            "ticks": ""
           }
          },
          "colorscale": {
           "diverging": [
            [
             0,
             "#8e0152"
            ],
            [
             0.1,
             "#c51b7d"
            ],
            [
             0.2,
             "#de77ae"
            ],
            [
             0.3,
             "#f1b6da"
            ],
            [
             0.4,
             "#fde0ef"
            ],
            [
             0.5,
             "#f7f7f7"
            ],
            [
             0.6,
             "#e6f5d0"
            ],
            [
             0.7,
             "#b8e186"
            ],
            [
             0.8,
             "#7fbc41"
            ],
            [
             0.9,
             "#4d9221"
            ],
            [
             1,
             "#276419"
            ]
           ],
           "sequential": [
            [
             0,
             "#0d0887"
            ],
            [
             0.1111111111111111,
             "#46039f"
            ],
            [
             0.2222222222222222,
             "#7201a8"
            ],
            [
             0.3333333333333333,
             "#9c179e"
            ],
            [
             0.4444444444444444,
             "#bd3786"
            ],
            [
             0.5555555555555556,
             "#d8576b"
            ],
            [
             0.6666666666666666,
             "#ed7953"
            ],
            [
             0.7777777777777778,
             "#fb9f3a"
            ],
            [
             0.8888888888888888,
             "#fdca26"
            ],
            [
             1,
             "#f0f921"
            ]
           ],
           "sequentialminus": [
            [
             0,
             "#0d0887"
            ],
            [
             0.1111111111111111,
             "#46039f"
            ],
            [
             0.2222222222222222,
             "#7201a8"
            ],
            [
             0.3333333333333333,
             "#9c179e"
            ],
            [
             0.4444444444444444,
             "#bd3786"
            ],
            [
             0.5555555555555556,
             "#d8576b"
            ],
            [
             0.6666666666666666,
             "#ed7953"
            ],
            [
             0.7777777777777778,
             "#fb9f3a"
            ],
            [
             0.8888888888888888,
             "#fdca26"
            ],
            [
             1,
             "#f0f921"
            ]
           ]
          },
          "colorway": [
           "#636efa",
           "#EF553B",
           "#00cc96",
           "#ab63fa",
           "#FFA15A",
           "#19d3f3",
           "#FF6692",
           "#B6E880",
           "#FF97FF",
           "#FECB52"
          ],
          "font": {
           "color": "#2a3f5f"
          },
          "geo": {
           "bgcolor": "white",
           "lakecolor": "white",
           "landcolor": "#E5ECF6",
           "showlakes": true,
           "showland": true,
           "subunitcolor": "white"
          },
          "hoverlabel": {
           "align": "left"
          },
          "hovermode": "closest",
          "mapbox": {
           "style": "light"
          },
          "paper_bgcolor": "white",
          "plot_bgcolor": "#E5ECF6",
          "polar": {
           "angularaxis": {
            "gridcolor": "white",
            "linecolor": "white",
            "ticks": ""
           },
           "bgcolor": "#E5ECF6",
           "radialaxis": {
            "gridcolor": "white",
            "linecolor": "white",
            "ticks": ""
           }
          },
          "scene": {
           "xaxis": {
            "backgroundcolor": "#E5ECF6",
            "gridcolor": "white",
            "gridwidth": 2,
            "linecolor": "white",
            "showbackground": true,
            "ticks": "",
            "zerolinecolor": "white"
           },
           "yaxis": {
            "backgroundcolor": "#E5ECF6",
            "gridcolor": "white",
            "gridwidth": 2,
            "linecolor": "white",
            "showbackground": true,
            "ticks": "",
            "zerolinecolor": "white"
           },
           "zaxis": {
            "backgroundcolor": "#E5ECF6",
            "gridcolor": "white",
            "gridwidth": 2,
            "linecolor": "white",
            "showbackground": true,
            "ticks": "",
            "zerolinecolor": "white"
           }
          },
          "shapedefaults": {
           "line": {
            "color": "#2a3f5f"
           }
          },
          "ternary": {
           "aaxis": {
            "gridcolor": "white",
            "linecolor": "white",
            "ticks": ""
           },
           "baxis": {
            "gridcolor": "white",
            "linecolor": "white",
            "ticks": ""
           },
           "bgcolor": "#E5ECF6",
           "caxis": {
            "gridcolor": "white",
            "linecolor": "white",
            "ticks": ""
           }
          },
          "title": {
           "x": 0.05
          },
          "xaxis": {
           "automargin": true,
           "gridcolor": "white",
           "linecolor": "white",
           "ticks": "",
           "title": {
            "standoff": 15
           },
           "zerolinecolor": "white",
           "zerolinewidth": 2
          },
          "yaxis": {
           "automargin": true,
           "gridcolor": "white",
           "linecolor": "white",
           "ticks": "",
           "title": {
            "standoff": 15
           },
           "zerolinecolor": "white",
           "zerolinewidth": 2
          }
         }
        },
        "title": {
         "text": "Verteilung der Höhenlage der Schweizer Skigebiete"
        },
        "xaxis": {
         "anchor": "y",
         "autorange": true,
         "domain": [
          0,
          1
         ],
         "range": [
          -0.5,
          23.5
         ],
         "title": {
          "text": "Kanton"
         },
         "type": "category"
        },
        "yaxis": {
         "anchor": "x",
         "autorange": true,
         "domain": [
          0,
          1
         ],
         "range": [
          0,
          63.1578947368421
         ],
         "title": {
          "text": "Anzahl Skigebiete"
         },
         "type": "linear"
        }
       }
      },
      "image/png": "[encoded data removed]",
      "text/html": [
       "<div>                            <div id=\"977d86f8-c984-4735-ada2-687015fde4ef\" class=\"plotly-graph-div\" style=\"height:500px; width:100%;\"></div>            <script type=\"text/javascript\">                require([\"plotly\"], function(Plotly) {                    window.PLOTLYENV=window.PLOTLYENV || {};                                    if (document.getElementById(\"977d86f8-c984-4735-ada2-687015fde4ef\")) {                    Plotly.newPlot(                        \"977d86f8-c984-4735-ada2-687015fde4ef\",                        [{\"alignmentgroup\":\"True\",\"hovertemplate\":\"variable=\\u00dcber 2000<br>Kanton=%{x}<br>Anzahl Skigebiete=%{y}<extra></extra>\",\"legendgroup\":\"\\u00dcber 2000\",\"marker\":{\"color\":\"#636efa\",\"pattern\":{\"shape\":\"\"}},\"name\":\"\\u00dcber 2000\",\"offsetgroup\":\"\\u00dcber 2000\",\"orientation\":\"v\",\"showlegend\":true,\"textposition\":\"auto\",\"x\":[\"VS\",\"GR\",\"BE\",\"SG\",\"VD\",\"TI\",\"OW\",\"FR\",\"UR\",\"GL\",\"LU\",\"SO\",\"ZG\",\"TG\",\"SZ\",\"AG\",\"SH\",\"AI\",\"NW\",\"NE\",\"JU\",\"BL\",\"AR\",\"ZH\"],\"xaxis\":\"x\",\"y\":[33.0,33.0,12.0,5.0,4.0,4.0,3.0,2.0,2.0,1.0,1.0,0.0,0.0,0.0,0.0,0.0,0.0,0.0,0.0,0.0,0.0,0.0,0.0,0.0],\"yaxis\":\"y\",\"type\":\"bar\"},{\"alignmentgroup\":\"True\",\"hovertemplate\":\"variable=Unter 2000<br>Kanton=%{x}<br>Anzahl Skigebiete=%{y}<extra></extra>\",\"legendgroup\":\"Unter 2000\",\"marker\":{\"color\":\"#EF553B\",\"pattern\":{\"shape\":\"\"}},\"name\":\"Unter 2000\",\"offsetgroup\":\"Unter 2000\",\"orientation\":\"v\",\"showlegend\":true,\"textposition\":\"auto\",\"x\":[\"VS\",\"GR\",\"BE\",\"SG\",\"VD\",\"TI\",\"OW\",\"FR\",\"UR\",\"GL\",\"LU\",\"SO\",\"ZG\",\"TG\",\"SZ\",\"AG\",\"SH\",\"AI\",\"NW\",\"NE\",\"JU\",\"BL\",\"AR\",\"ZH\"],\"xaxis\":\"x\",\"y\":[12.0,28.0,60.0,20.0,17.0,8.0,2.0,11.0,8.0,6.0,3.0,9.0,3.0,3.0,15.0,6.0,2.0,5.0,5.0,11.0,2.0,3.0,7.0,9.0],\"yaxis\":\"y\",\"type\":\"bar\"}],                        {\"template\":{\"data\":{\"histogram2dcontour\":[{\"type\":\"histogram2dcontour\",\"colorbar\":{\"outlinewidth\":0,\"ticks\":\"\"},\"colorscale\":[[0.0,\"#0d0887\"],[0.1111111111111111,\"#46039f\"],[0.2222222222222222,\"#7201a8\"],[0.3333333333333333,\"#9c179e\"],[0.4444444444444444,\"#bd3786\"],[0.5555555555555556,\"#d8576b\"],[0.6666666666666666,\"#ed7953\"],[0.7777777777777778,\"#fb9f3a\"],[0.8888888888888888,\"#fdca26\"],[1.0,\"#f0f921\"]]}],\"choropleth\":[{\"type\":\"choropleth\",\"colorbar\":{\"outlinewidth\":0,\"ticks\":\"\"}}],\"histogram2d\":[{\"type\":\"histogram2d\",\"colorbar\":{\"outlinewidth\":0,\"ticks\":\"\"},\"colorscale\":[[0.0,\"#0d0887\"],[0.1111111111111111,\"#46039f\"],[0.2222222222222222,\"#7201a8\"],[0.3333333333333333,\"#9c179e\"],[0.4444444444444444,\"#bd3786\"],[0.5555555555555556,\"#d8576b\"],[0.6666666666666666,\"#ed7953\"],[0.7777777777777778,\"#fb9f3a\"],[0.8888888888888888,\"#fdca26\"],[1.0,\"#f0f921\"]]}],\"heatmap\":[{\"type\":\"heatmap\",\"colorbar\":{\"outlinewidth\":0,\"ticks\":\"\"},\"colorscale\":[[0.0,\"#0d0887\"],[0.1111111111111111,\"#46039f\"],[0.2222222222222222,\"#7201a8\"],[0.3333333333333333,\"#9c179e\"],[0.4444444444444444,\"#bd3786\"],[0.5555555555555556,\"#d8576b\"],[0.6666666666666666,\"#ed7953\"],[0.7777777777777778,\"#fb9f3a\"],[0.8888888888888888,\"#fdca26\"],[1.0,\"#f0f921\"]]}],\"heatmapgl\":[{\"type\":\"heatmapgl\",\"colorbar\":{\"outlinewidth\":0,\"ticks\":\"\"},\"colorscale\":[[0.0,\"#0d0887\"],[0.1111111111111111,\"#46039f\"],[0.2222222222222222,\"#7201a8\"],[0.3333333333333333,\"#9c179e\"],[0.4444444444444444,\"#bd3786\"],[0.5555555555555556,\"#d8576b\"],[0.6666666666666666,\"#ed7953\"],[0.7777777777777778,\"#fb9f3a\"],[0.8888888888888888,\"#fdca26\"],[1.0,\"#f0f921\"]]}],\"contourcarpet\":[{\"type\":\"contourcarpet\",\"colorbar\":{\"outlinewidth\":0,\"ticks\":\"\"}}],\"contour\":[{\"type\":\"contour\",\"colorbar\":{\"outlinewidth\":0,\"ticks\":\"\"},\"colorscale\":[[0.0,\"#0d0887\"],[0.1111111111111111,\"#46039f\"],[0.2222222222222222,\"#7201a8\"],[0.3333333333333333,\"#9c179e\"],[0.4444444444444444,\"#bd3786\"],[0.5555555555555556,\"#d8576b\"],[0.6666666666666666,\"#ed7953\"],[0.7777777777777778,\"#fb9f3a\"],[0.8888888888888888,\"#fdca26\"],[1.0,\"#f0f921\"]]}],\"surface\":[{\"type\":\"surface\",\"colorbar\":{\"outlinewidth\":0,\"ticks\":\"\"},\"colorscale\":[[0.0,\"#0d0887\"],[0.1111111111111111,\"#46039f\"],[0.2222222222222222,\"#7201a8\"],[0.3333333333333333,\"#9c179e\"],[0.4444444444444444,\"#bd3786\"],[0.5555555555555556,\"#d8576b\"],[0.6666666666666666,\"#ed7953\"],[0.7777777777777778,\"#fb9f3a\"],[0.8888888888888888,\"#fdca26\"],[1.0,\"#f0f921\"]]}],\"mesh3d\":[{\"type\":\"mesh3d\",\"colorbar\":{\"outlinewidth\":0,\"ticks\":\"\"}}],\"scatter\":[{\"fillpattern\":{\"fillmode\":\"overlay\",\"size\":10,\"solidity\":0.2},\"type\":\"scatter\"}],\"parcoords\":[{\"type\":\"parcoords\",\"line\":{\"colorbar\":{\"outlinewidth\":0,\"ticks\":\"\"}}}],\"scatterpolargl\":[{\"type\":\"scatterpolargl\",\"marker\":{\"colorbar\":{\"outlinewidth\":0,\"ticks\":\"\"}}}],\"bar\":[{\"error_x\":{\"color\":\"#2a3f5f\"},\"error_y\":{\"color\":\"#2a3f5f\"},\"marker\":{\"line\":{\"color\":\"#E5ECF6\",\"width\":0.5},\"pattern\":{\"fillmode\":\"overlay\",\"size\":10,\"solidity\":0.2}},\"type\":\"bar\"}],\"scattergeo\":[{\"type\":\"scattergeo\",\"marker\":{\"colorbar\":{\"outlinewidth\":0,\"ticks\":\"\"}}}],\"scatterpolar\":[{\"type\":\"scatterpolar\",\"marker\":{\"colorbar\":{\"outlinewidth\":0,\"ticks\":\"\"}}}],\"histogram\":[{\"marker\":{\"pattern\":{\"fillmode\":\"overlay\",\"size\":10,\"solidity\":0.2}},\"type\":\"histogram\"}],\"scattergl\":[{\"type\":\"scattergl\",\"marker\":{\"colorbar\":{\"outlinewidth\":0,\"ticks\":\"\"}}}],\"scatter3d\":[{\"type\":\"scatter3d\",\"line\":{\"colorbar\":{\"outlinewidth\":0,\"ticks\":\"\"}},\"marker\":{\"colorbar\":{\"outlinewidth\":0,\"ticks\":\"\"}}}],\"scattermapbox\":[{\"type\":\"scattermapbox\",\"marker\":{\"colorbar\":{\"outlinewidth\":0,\"ticks\":\"\"}}}],\"scatterternary\":[{\"type\":\"scatterternary\",\"marker\":{\"colorbar\":{\"outlinewidth\":0,\"ticks\":\"\"}}}],\"scattercarpet\":[{\"type\":\"scattercarpet\",\"marker\":{\"colorbar\":{\"outlinewidth\":0,\"ticks\":\"\"}}}],\"carpet\":[{\"aaxis\":{\"endlinecolor\":\"#2a3f5f\",\"gridcolor\":\"white\",\"linecolor\":\"white\",\"minorgridcolor\":\"white\",\"startlinecolor\":\"#2a3f5f\"},\"baxis\":{\"endlinecolor\":\"#2a3f5f\",\"gridcolor\":\"white\",\"linecolor\":\"white\",\"minorgridcolor\":\"white\",\"startlinecolor\":\"#2a3f5f\"},\"type\":\"carpet\"}],\"table\":[{\"cells\":{\"fill\":{\"color\":\"#EBF0F8\"},\"line\":{\"color\":\"white\"}},\"header\":{\"fill\":{\"color\":\"#C8D4E3\"},\"line\":{\"color\":\"white\"}},\"type\":\"table\"}],\"barpolar\":[{\"marker\":{\"line\":{\"color\":\"#E5ECF6\",\"width\":0.5},\"pattern\":{\"fillmode\":\"overlay\",\"size\":10,\"solidity\":0.2}},\"type\":\"barpolar\"}],\"pie\":[{\"automargin\":true,\"type\":\"pie\"}]},\"layout\":{\"autotypenumbers\":\"strict\",\"colorway\":[\"#636efa\",\"#EF553B\",\"#00cc96\",\"#ab63fa\",\"#FFA15A\",\"#19d3f3\",\"#FF6692\",\"#B6E880\",\"#FF97FF\",\"#FECB52\"],\"font\":{\"color\":\"#2a3f5f\"},\"hovermode\":\"closest\",\"hoverlabel\":{\"align\":\"left\"},\"paper_bgcolor\":\"white\",\"plot_bgcolor\":\"#E5ECF6\",\"polar\":{\"bgcolor\":\"#E5ECF6\",\"angularaxis\":{\"gridcolor\":\"white\",\"linecolor\":\"white\",\"ticks\":\"\"},\"radialaxis\":{\"gridcolor\":\"white\",\"linecolor\":\"white\",\"ticks\":\"\"}},\"ternary\":{\"bgcolor\":\"#E5ECF6\",\"aaxis\":{\"gridcolor\":\"white\",\"linecolor\":\"white\",\"ticks\":\"\"},\"baxis\":{\"gridcolor\":\"white\",\"linecolor\":\"white\",\"ticks\":\"\"},\"caxis\":{\"gridcolor\":\"white\",\"linecolor\":\"white\",\"ticks\":\"\"}},\"coloraxis\":{\"colorbar\":{\"outlinewidth\":0,\"ticks\":\"\"}},\"colorscale\":{\"sequential\":[[0.0,\"#0d0887\"],[0.1111111111111111,\"#46039f\"],[0.2222222222222222,\"#7201a8\"],[0.3333333333333333,\"#9c179e\"],[0.4444444444444444,\"#bd3786\"],[0.5555555555555556,\"#d8576b\"],[0.6666666666666666,\"#ed7953\"],[0.7777777777777778,\"#fb9f3a\"],[0.8888888888888888,\"#fdca26\"],[1.0,\"#f0f921\"]],\"sequentialminus\":[[0.0,\"#0d0887\"],[0.1111111111111111,\"#46039f\"],[0.2222222222222222,\"#7201a8\"],[0.3333333333333333,\"#9c179e\"],[0.4444444444444444,\"#bd3786\"],[0.5555555555555556,\"#d8576b\"],[0.6666666666666666,\"#ed7953\"],[0.7777777777777778,\"#fb9f3a\"],[0.8888888888888888,\"#fdca26\"],[1.0,\"#f0f921\"]],\"diverging\":[[0,\"#8e0152\"],[0.1,\"#c51b7d\"],[0.2,\"#de77ae\"],[0.3,\"#f1b6da\"],[0.4,\"#fde0ef\"],[0.5,\"#f7f7f7\"],[0.6,\"#e6f5d0\"],[0.7,\"#b8e186\"],[0.8,\"#7fbc41\"],[0.9,\"#4d9221\"],[1,\"#276419\"]]},\"xaxis\":{\"gridcolor\":\"white\",\"linecolor\":\"white\",\"ticks\":\"\",\"title\":{\"standoff\":15},\"zerolinecolor\":\"white\",\"automargin\":true,\"zerolinewidth\":2},\"yaxis\":{\"gridcolor\":\"white\",\"linecolor\":\"white\",\"ticks\":\"\",\"title\":{\"standoff\":15},\"zerolinecolor\":\"white\",\"automargin\":true,\"zerolinewidth\":2},\"scene\":{\"xaxis\":{\"backgroundcolor\":\"#E5ECF6\",\"gridcolor\":\"white\",\"linecolor\":\"white\",\"showbackground\":true,\"ticks\":\"\",\"zerolinecolor\":\"white\",\"gridwidth\":2},\"yaxis\":{\"backgroundcolor\":\"#E5ECF6\",\"gridcolor\":\"white\",\"linecolor\":\"white\",\"showbackground\":true,\"ticks\":\"\",\"zerolinecolor\":\"white\",\"gridwidth\":2},\"zaxis\":{\"backgroundcolor\":\"#E5ECF6\",\"gridcolor\":\"white\",\"linecolor\":\"white\",\"showbackground\":true,\"ticks\":\"\",\"zerolinecolor\":\"white\",\"gridwidth\":2}},\"shapedefaults\":{\"line\":{\"color\":\"#2a3f5f\"}},\"annotationdefaults\":{\"arrowcolor\":\"#2a3f5f\",\"arrowhead\":0,\"arrowwidth\":1},\"geo\":{\"bgcolor\":\"white\",\"landcolor\":\"#E5ECF6\",\"subunitcolor\":\"white\",\"showland\":true,\"showlakes\":true,\"lakecolor\":\"white\"},\"title\":{\"x\":0.05},\"mapbox\":{\"style\":\"light\"}}},\"xaxis\":{\"anchor\":\"y\",\"domain\":[0.0,1.0],\"title\":{\"text\":\"Kanton\"}},\"yaxis\":{\"anchor\":\"x\",\"domain\":[0.0,1.0],\"title\":{\"text\":\"Anzahl Skigebiete\"}},\"legend\":{\"title\":{\"text\":\"H\\u00f6henlage\"},\"tracegroupgap\":0},\"title\":{\"text\":\"Verteilung der H\\u00f6henlage der Schweizer Skigebiete\"},\"barmode\":\"group\",\"height\":500,\"margin\":{\"r\":0,\"t\":40,\"l\":0,\"b\":0},\"showlegend\":true},                        {\"responsive\": true}                    ).then(function(){\n",
       "                            \n",
       "var gd = document.getElementById('977d86f8-c984-4735-ada2-687015fde4ef');\n",
       "var x = new MutationObserver(function (mutations, observer) {{\n",
       "        var display = window.getComputedStyle(gd).display;\n",
       "        if (!display || display === 'none') {{\n",
       "            console.log([gd, 'removed!']);\n",
       "            Plotly.purge(gd);\n",
       "            observer.disconnect();\n",
       "        }}\n",
       "}});\n",
       "\n",
       "// Listen for the removal of the full notebook cells\n",
       "var notebookContainer = gd.closest('#notebook-container');\n",
       "if (notebookContainer) {{\n",
       "    x.observe(notebookContainer, {childList: true});\n",
       "}}\n",
       "\n",
       "// Listen for the clearing of the current output cell\n",
       "var outputEl = gd.closest('.output');\n",
       "if (outputEl) {{\n",
       "    x.observe(outputEl, {childList: true});\n",
       "}}\n",
       "\n",
       "                        })                };                });            </script>        </div>"
      ]
     },
     "metadata": {},
     "output_type": "display_data"
    }
   ],
   "source": [
    "fig_bar = px.bar(df_Kanton_Höhe, \n",
    "             x='Kanton', \n",
    "             y = [\"Über 2000\",\"Unter 2000\"],\n",
    "             title=\"Verteilung der Höhenlage der Schweizer Skigebiete\", \n",
    "             height=500,\n",
    "             barmode='group',\n",
    "             labels={'Katnon':'Kanton', 'value': 'Anzahl Skigebiete'}\n",
    ")\n",
    "\n",
    "fig_bar.update_layout(margin={\"r\":0,\"t\":40,\"l\":0,\"b\":0},\n",
    "                  showlegend = True,\n",
    "                  legend=dict(title=\"Höhenlage\",))\n",
    "\n",
    "\n",
    "fig_bar.show()\n",
    "\n"
   ]
  },
  {
   "cell_type": "code",
   "execution_count": 182,
   "id": "c63c6c56-c4b0-4745-bb8d-4a5a2a6b7cd2",
   "metadata": {
    "tags": []
   },
   "outputs": [],
   "source": [
    "fig_bar.write_html('Bar_Plot_Höhe.html')"
   ]
  },
  {
   "cell_type": "markdown",
   "id": "5495ca63-97df-4f3f-a0bb-26db4f02e224",
   "metadata": {},
   "source": [
    "## First try with scatter_geo\n",
    "- Created the scatter_geo plot with lat and lon and set a hover_name.\n",
    "- Updated with title, geo_scope, width and height\n",
    "- Upated update_geos to focus on Switzerland\n",
    "\n",
    "Result ist not satisfying."
   ]
  },
  {
   "cell_type": "code",
   "execution_count": 30,
   "id": "15448c78-24ff-42ee-a3e8-3aa818b8030c",
   "metadata": {
    "tags": []
   },
   "outputs": [
    {
     "data": {
      "text/plain": [
       "Index(['Skiresort_ID', 'Bergfex_ID', 'Ort', 'PLZ', 'Skiresort',\n",
       "       'Höhendifferenz in', 'Min Höhe in', 'Max Höhe in m', 'Pisten_km',\n",
       "       'blaue_Piste', 'rote_Piste', 'schwarze_Piste', 'Anzahl_Bahnen',\n",
       "       'Preis in CHF', 'Preis in EUR', 'Kanton_Kuerzel', 'SPRACHCODE',\n",
       "       'Geo Shape', 'Breitengrad', 'Längengrad', '2000er_Schwelle'],\n",
       "      dtype='object')"
      ]
     },
     "execution_count": 30,
     "metadata": {},
     "output_type": "execute_result"
    }
   ],
   "source": [
    "df.columns"
   ]
  },
  {
   "cell_type": "code",
   "execution_count": 176,
   "id": "c1c5270d-5ed2-4711-8503-7a7d2a5ac8a2",
   "metadata": {
    "tags": []
   },
   "outputs": [
    {
     "data": {
      "application/vnd.plotly.v1+json": {
       "config": {
        "plotlyServerURL": "https://plot.ly"
       },
       "data": [
        {
         "geo": "geo",
         "hovertemplate": "<b>%{hovertext}</b><br><br>Kanton_Kuerzel=BE<br>Breitengrad=%{lat}<br>Längengrad=%{lon}<extra></extra>",
         "hovertext": [
          "Brandalp/Ginals Unterbach  Unterbach  ",
          "Adelboden Adelboden Adelboden ",
          "Aeschiried   ",
          "Ausserschwand Adelboden Adelboden ",
          "Axalp ob Brienz   ",
          "Balmberg   ",
          "Betelberg   Lenk  Lenk ",
          "Bonderlen Adelboden Adelboden ",
          "Bugnenets - Savagnieres Saint-Imier  ",
          "Bumbach (Schangnau)   ",
          "Chuderhuesi  Rothenbach  ",
          "Eggiwil  Netschbuehl  ",
          "Eggli/La Videmanette  Gstaad/Saanen/Rougemont Gstaad ",
          "Elsigen Metsch   Frutigen ",
          "Engstligenalp  Adelboden Adelboden ",
          "Eriz   ",
          "Faltschen  Reichenbach  ",
          "First  Grindelwald Grindelwald ",
          "Gadmen   ",
          "Gantrisch Gurnigel   ",
          "Goldiwil  Multenegg(Heiligenschwendi)  ",
          "Grand Val Oberdorferberg ",
          "Grimmialp   ",
          "Gurnigelbad   ",
          "Gurten  Bern  ",
          "Guttannen   ",
          "Habkern   Sattelegg  ",
          "Hampy  Adelboden  ",
          "Heimenschwand  Buchholterberg  ",
          "Heiti  GsteigbeiGstaad GsteigbeiGstaad ",
          "Hohwald  Beatenberg Waldegg ",
          "Homberg   ",
          "Hubelweid  Heiligenschwendi  ",
          "Jaunpass   Boltigen  ",
          "Kiental (voruebergehend außer Betrieb)   ",
          "Kleine Scheidegg/Mannlichen   Grindelwald/Wengen Grindelwald ",
          "La Golatte s/Montoz  Tavannes  ",
          "Lauenen Lauenen Lauenen ",
          "Le Chaluet  Court  ",
          "Les Orvales  Malleray  ",
          "Les Pres d'Orvin   ",
          "Linden Schindelberg  ",
          "Lucky   Aeschi  ",
          "Marbach   Marbachegg  ",
          "Meiringen-Hasliberg Hasliberg Hasliberg ",
          "Niederhorn   Beatenberg  ",
          "Nods   ",
          "Norro Lift Adelboden ",
          "Oberwangen   ",
          "Oeschinensee  Kandersteg Kandersteg ",
          "Ottenleue  Sangernboden Sangernboden ",
          "Renan   ",
          "Riffenmatt Winterpark   ",
          "Rinderberg/Saanerslochgrat/Horneggli  Zweisimmen/Saanenmoser/Schonried/St. Stephan Zweisimmen ",
          "Rossberg   Oberwil  ",
          "Rueegsau   ",
          "Rueschegg Eywald   Lischboden ",
          "Saint Imier Mont Soleil",
          "Saxeten  Pintli  ",
          "Schermtanne-Stiegelschwand Adelboden Adelboden ",
          "Schilthorn  Muerren/Lauterbrunnen Mürren ",
          "Schwefelberg Badmatte/Louigrat(voruebergehendaußerBetrieb)  ",
          "Selital   Schwarzenbuehl  ",
          "Sous le Mont  Tavannes",
          "Springenboden   ",
          "Trachselwald   ",
          "Tramelan   ",
          "TschentenAlp  Adelboden  ",
          "Wasen im Emmental   ",
          "Wasserngrat  Gstaad Gstaad ",
          "Wiriehorn Diemtigen Diemtigen ",
          "Wispile  Gstaad  "
         ],
         "lat": [
          46.73781596023059,
          46.47362091585067,
          46.65429334721316,
          46.47362091585067,
          46.771083519138,
          46.86546902950586,
          46.42511260122259,
          46.47362091585067,
          47.155863935506936,
          46.81056941498613,
          46.857428943953344,
          46.861330103402175,
          46.47065972588194,
          46.622510950283,
          46.47362091585067,
          46.7804961829772,
          46.61796795909367,
          46.63310663709352,
          46.7112276199662,
          46.76309212263568,
          46.75202351729597,
          47.28362128489225,
          46.646573321555664,
          46.76309212263568,
          46.939799295460666,
          46.59649636042709,
          46.75495650639443,
          46.47362091585067,
          46.82104529085392,
          46.369144084688585,
          46.7170207096703,
          46.77642810733167,
          46.75202351729597,
          46.5661754368673,
          46.55611412957965,
          46.61855251692661,
          47.22157159624032,
          46.39808032367374,
          47.23903863686744,
          47.2597614398432,
          47.15696840669087,
          46.84973894657992,
          46.65429334721316,
          46.91013794693144,
          46.752941344438426,
          46.7170207096703,
          47.12090112909289,
          46.47362091585067,
          46.91251666462493,
          46.46923900871988,
          46.69929512576599,
          47.11568074349161,
          46.75074602693881,
          46.56521016660378,
          46.66606641216645,
          47.02747219757538,
          46.77261993481294,
          47.155863935506936,
          46.62513307773482,
          46.47362091585067,
          46.57657396571659,
          46.69929512576599,
          46.69929512576599,
          47.22157159624032,
          46.67212445065994,
          47.01530515487635,
          47.230038177028426,
          46.47362091585067,
          47.02901104046342,
          46.47065972588194,
          46.646573321555664,
          46.47065972588194
         ],
         "legendgroup": "BE",
         "lon": [
          8.118977404215123,
          7.5551545844706895,
          7.698838241205742,
          7.5551545844706895,
          8.055659954907236,
          7.409280278146844,
          7.456470592128029,
          7.5551545844706895,
          6.993341110450986,
          7.886969099236594,
          7.7413478501974,
          7.812008684417717,
          7.294575862726037,
          7.646435487155931,
          7.5551545844706895,
          7.80478264649604,
          7.691687132974539,
          7.973949637606535,
          8.375713542340746,
          7.456794925878227,
          7.682226132871233,
          7.428004245195527,
          7.5579123638383505,
          7.456794925878227,
          7.450173286795619,
          8.257771661267816,
          7.889889979101182,
          7.5551545844706895,
          7.691294317555795,
          7.259124282323127,
          7.806273234401665,
          7.683250957669258,
          7.682226132871233,
          7.27680221608908,
          7.760807325445556,
          8.053515883423142,
          7.189263169714538,
          7.338646543774625,
          7.3609270516808225,
          7.310638016689402,
          7.212477467392216,
          7.686667748102345,
          7.698838241205742,
          7.852315235739618,
          8.171309443780688,
          7.806273234401665,
          7.074642265332308,
          7.5551545844706895,
          7.360042812010204,
          7.7083091267644095,
          7.370976025305258,
          6.890402480437929,
          7.362112475868722,
          7.393026957016362,
          7.476990934682329,
          7.677272838244293,
          7.377386724654999,
          6.993341110450986,
          7.827451480747841,
          7.5551545844706895,
          7.882672798931136,
          7.370976025305258,
          7.370976025305258,
          7.189263169714538,
          7.589473886439336,
          7.744491146817719,
          7.117275390350014,
          7.5551545844706895,
          7.838558310900703,
          7.294575862726037,
          7.5579123638383505,
          7.294575862726037
         ],
         "marker": {
          "color": "#636efa",
          "symbol": "circle"
         },
         "mode": "markers",
         "name": "BE",
         "showlegend": true,
         "type": "scattergeo"
        },
        {
         "geo": "geo",
         "hovertemplate": "<b>%{hovertext}</b><br><br>Kanton_Kuerzel=GR<br>Breitengrad=%{lat}<br>Längengrad=%{lon}<extra></extra>",
         "hovertext": [
          "Motta Naluns Scuol  Scuol  ",
          "Silvretta Arena Ischgl/Samnaun  Samnaun ",
          "Aela-Maolja  Maloja ",
          "Ardez Ardez Ardez ",
          "Arosa Lenzerheide Arosa Lenzerheide Arosa ",
          "Avers   ",
          "Bivio   ",
          "Brambrueesch/Dreibuendenstein   Chur  ",
          "Brigels Brigels/Waltensburg/Andiast Brigels ",
          "Buegls  S-Chanf S-Chanf ",
          "Buendalift  Davos Davos ",
          "Casaccia Casaccia Casaccia ",
          "Corvatsch/Furtschellas St. Moritz  St. Moritz ",
          "Corviglia St. Moritz  St. Moritz  ",
          "Darlux   Berguen  ",
          "Diavolezza/Lagalb   ",
          "Disentis Disentis Disentis ",
          "Druni KidsArena  Valtgeva  ",
          "Fanas   ",
          "Feldis   ",
          "Fideriser Heuberge   Arflina  ",
          "Flensa  Seewis  ",
          "Gruesch Danusa   ",
          "Guarda Guarda Guarda ",
          "Hochwang   Goldgruben  ",
          "Jakobshorn (Davos Klosters) Davos Klosters Davos ",
          "Laax/Flims/Falera Laax/Flims/Falera Laax ",
          "Lantsch/Lenz Lantsch/Lenz Lantsch/Lenz ",
          "Madrisa (Davos Klosters) Madrisa (Davos Klosters) Klosters ",
          "Mastrils   ",
          "Minschuns   Val Muestair Tschierv ",
          "Mottalift  Serneus  ",
          "Muesella  La Punt La Punt ",
          "Mutten Mutten Mutten ",
          "Obersaxen/Mundaun/Val Lumnezia Obersaxen/Mundaun/Val Lumnezia Obsersaxen ",
          "Pany (Luzein)   ",
          "Parsenn (Davos Klosters) Davos Davos ",
          "Pera  Trun  ",
          "Pian Cales   San Bernardino  ",
          "Pian San Giacomo (voruebergehend außer Betrieb)   ",
          "Pischa (Davos Klosters) Klosters Klosters ",
          "Pontresina   ",
          "Rigi   Scheidegg/Burggeist  ",
          "Rinerhorn (Davos Klosters) Rinerhorn (Davos Klosters) Klosters ",
          "Rossa   ",
          "Samedan   ",
          "San Bernardino (voruebergehend außer Betrieb)   ",
          "Sarn (Heinzenberg)   ",
          "Savognin  Savognin ",
          "Schatzalp   Strela  ",
          "Selfranga  Klosters  ",
          "Spluegen-Tambo Splügen Splügen ",
          "St. Antonien   ",
          "Tarasp Tarasp Tarasp ",
          "Tect/Zinols  Berguen  ",
          "Tenna Tenna Tenna ",
          "Tschappina/Urmein (Heinzenberg)   ",
          "Tschiertschen   ",
          "Vals 3000   Dachberg  ",
          "Wiesen  Davos Davos ",
          "Zuoz   Pizzet/Albanas  "
         ],
         "lat": [
          46.73456073752036,
          46.963293397509545,
          46.364863237751976,
          46.76980545525554,
          46.76985040011519,
          46.43281404244733,
          46.45778143683959,
          46.85280483574362,
          46.79184498138597,
          46.597073034422046,
          46.76794609828249,
          46.38823696263745,
          46.4904718742201,
          46.4904718742201,
          46.64882177648663,
          46.43110812996824,
          46.745616342904725,
          46.637682902317245,
          47.00728213920991,
          46.79677942317628,
          46.88658115022135,
          47.02299025105603,
          46.96269070944919,
          46.80812844527582,
          46.76985040011519,
          46.76794609828249,
          46.80946940361612,
          46.70696894086709,
          46.8456984796935,
          46.95889526103386,
          46.64215047525024,
          46.73171630923618,
          46.5508339915912,
          46.66816493362288,
          46.71969577210207,
          46.94827314594246,
          46.76794609828249,
          46.741122501919165,
          46.471254579019,
          46.402506613089855,
          46.76794609828249,
          46.43110812996824,
          46.36288444000657,
          46.8456984796935,
          46.36288444000657,
          46.53324378447565,
          46.471254579019,
          46.71210058820141,
          46.58143154499836,
          46.76794609828249,
          46.8456984796935,
          46.53711280214744,
          46.92115551204367,
          46.739597015027485,
          46.64882177648663,
          46.74646856076701,
          46.69413277700843,
          46.79293831418264,
          46.57366287742968,
          46.71629979970217,
          46.563092012420135
         ],
         "legendgroup": "GR",
         "lon": [
          10.326322480979911,
          10.402296549386907,
          9.719868839324064,
          10.18571547319242,
          9.668263961155043,
          9.512667855688926,
          9.6617556641193,
          9.529881575391462,
          9.028619913020853,
          10.038542497861902,
          9.8963573314359,
          9.65681095073542,
          9.817397607555568,
          9.817397607555568,
          9.688227081880305,
          9.924945210613515,
          8.848114683935938,
          8.75020518841021,
          9.687390477454327,
          9.442243420206994,
          9.739464523516869,
          9.660334991817129,
          9.639675427069156,
          10.14216852535166,
          9.668263961155043,
          9.8963573314359,
          9.263536440279069,
          9.579432880844514,
          9.965733142695504,
          9.529481317599735,
          10.298098777822313,
          9.548085798001736,
          9.930194998541245,
          9.487628397773571,
          9.071246656433194,
          9.768444073039513,
          9.8963573314359,
          8.978637699606935,
          9.188779447982034,
          9.22604209465057,
          9.8963573314359,
          9.924945210613515,
          9.135254707541376,
          9.965733142695504,
          9.135254707541376,
          9.84916350814332,
          9.188779447982034,
          9.384754528679458,
          9.602390554734022,
          9.8963573314359,
          9.965733142695504,
          9.32901781894772,
          9.762275156577834,
          10.246461268228591,
          9.688227081880305,
          9.325064589801473,
          9.392552765172107,
          9.60667656407656,
          9.13077163189438,
          9.720382650376324,
          9.980244761424686
         ],
         "marker": {
          "color": "#EF553B",
          "symbol": "circle"
         },
         "mode": "markers",
         "name": "GR",
         "showlegend": true,
         "type": "scattergeo"
        },
        {
         "geo": "geo",
         "hovertemplate": "<b>%{hovertext}</b><br><br>Kanton_Kuerzel=VS<br>Breitengrad=%{lat}<br>Längengrad=%{lon}<extra></extra>",
         "hovertext": [
          "4 Vallees  Verbier/La Tzoumaz/Nendaz/Veysonnaz/Thyon Verbier ",
          "Aletsch Arena  Riederalp/Bettmeralp/Fiesch Eggishorn Riederalp ",
          "Anzere   ",
          "Arolla   ",
          "Belalp  Blatten  Blatten ",
          "Bellwald   ",
          "Champex Lac (Orsieres)  ",
          "Crans-Montana Crans-Montana Crans-Montana ",
          "Eischoll   ",
          "Espace Super Saint Bernard Bourg St",
          "Evolene   ",
          "Giw   Visperterminen  ",
          "Grachen  Grachen ",
          "Grimentz/Zinal   ",
          "Gspon (Staldenried)   ",
          "Heidbodme  Saas-Almagell Saas-Almagell ",
          "Hohsaas  Saas-Grund Saas-Grund ",
          "Jeizinen Feselalp   Gampel/Steg  ",
          "La Forclaz   ",
          "La Fouly   ",
          "La Lorette  Bourg-Saint-Pierre Bourg-Saint-Pierre ",
          "Lauchernalp   Lotschental  ",
          "Les Marecottes (Salvan)   ",
          "Les Portes du Soleil  Morzine/Avoriaz/Les Gets/Châtel/Morgins/Champery Morzine ",
          "Leukerbad Leukerbad Leukerbad ",
          "L'Homazo LesHauderes LesHauderes ",
          "Loco Ski Academy  Saillon(Trockenskigebiet)  ",
          "Matterhorn Cervinia/Valtournenche/Zermatt/Breuil Zermatt ",
          "Moosalp Buerchen/Torbel  Buerchen ",
          "Muenster Geschinen  ",
          "Oberwald Oberwald Oberwald ",
          "Ovronnaz Ovronnaz Ovronnaz ",
          "Randa",
          "Reckingen Gluringen  ",
          "Rosswald   Brig  ",
          "Rothwald/Wasenalp (Simplon)   ",
          "Saas-Balem Saas-Balem Saas-Balem ",
          "Saas-Fee Saas-Fee Saas-Fee ",
          "Saint Luc/Chandolin (Anniviers)   ",
          "Tasch Tasch Tasch ",
          "Teleconthey  MayensdeConthey MayensdeConthey ",
          "Trient  Trient ",
          "Vercorin  Vercorin ",
          "Vicheres (Liddes)   ",
          "Wilern (Binn) Wilern(Binn) Wilern(Binn) "
         ],
         "lat": [
          46.10078963243027,
          46.38324689669922,
          46.262812596902286,
          46.12849584255501,
          46.44468051786119,
          46.444264660077,
          46.0296008266854,
          46.29540541268003,
          46.283171070507045,
          45.91958552047053,
          46.12849584255501,
          46.242854924921474,
          46.19667947383438,
          46.218592764037446,
          46.21386685616713,
          46.05398778706653,
          46.13502072096944,
          46.33971682726944,
          46.0299900787028,
          45.92272409582334,
          45.91958552047053,
          46.40744175033126,
          46.10464206000597,
          46.15878476470448,
          46.40186090118191,
          46.09892904180834,
          46.17045940215144,
          45.98971247998463,
          46.26932776492268,
          46.49491214375781,
          46.557616127858566,
          46.201847655003206,
          46.0970203841711,
          46.45355498604726,
          46.32994634256132,
          46.29260842034999,
          46.15278158758781,
          46.08935099845596,
          46.218592764037446,
          46.05396841795874,
          46.27491164960089,
          46.0299900787028,
          46.235637280323495,
          46.01300631355247,
          46.36821691837629
         ],
         "legendgroup": "VS",
         "lon": [
          7.229654722387731,
          8.030317266068764,
          7.408739130450465,
          7.489540749753891,
          7.864555515952031,
          8.157027850788833,
          7.088673948863967,
          7.491754252841265,
          7.760861158603105,
          7.212782676782284,
          7.489540749753891,
          7.941120616712598,
          7.848896749824393,
          7.627190912248169,
          7.834679801104153,
          7.966905573500909,
          7.972356496059153,
          7.733603988074937,
          6.999472308534617,
          7.098041545209672,
          7.212782676782284,
          7.786978045720506,
          6.943422411877173,
          6.845953649475181,
          7.627363559664622,
          7.504504969272778,
          7.177709016696666,
          7.752671435919487,
          7.818288525530894,
          8.299635434688197,
          8.393572673255726,
          7.136419642053497,
          7.779275183773291,
          8.261511504684336,
          8.043078896187016,
          8.030598179279473,
          7.93519887884504,
          7.899558553658686,
          7.627190912248169,
          7.811223367917781,
          7.29248008732216,
          6.999472308534617,
          7.532961869075849,
          7.165678742977503,
          8.235580667928591
         ],
         "marker": {
          "color": "#00cc96",
          "symbol": "circle"
         },
         "mode": "markers",
         "name": "VS",
         "showlegend": true,
         "type": "scattergeo"
        },
        {
         "geo": "geo",
         "hovertemplate": "<b>%{hovertext}</b><br><br>Kanton_Kuerzel=TI<br>Breitengrad=%{lat}<br>Längengrad=%{lon}<extra></extra>",
         "hovertext": [
          "Airolo-Pescüm Airolo Airolo ",
          "Alpe di Neggia   ",
          "Bedea   Novaggio  ",
          "Bosco Gurin   Grossalp  ",
          "Campo Blenio   ",
          "Carì   ",
          "Cioss Prato  Bedretto  ",
          "Dalpe   ",
          "Lueina  Airolo  ",
          "Mogno   ",
          "Nara-Leontica Leontica Leontica ",
          "Prato (Leventina)   "
         ],
         "lat": [
          46.52724920112436,
          46.13070651009939,
          46.0007977332109,
          46.32026934171304,
          46.59064564192835,
          46.49413731460909,
          46.48899164143069,
          46.45720670881445,
          46.52724920112436,
          46.45764891755727,
          46.45686140141737,
          46.47138610787511
         ],
         "legendgroup": "TI",
         "lon": [
          8.63064800879524,
          8.856300109392365,
          8.862243245409564,
          8.483959654328785,
          8.943892416337835,
          8.844713997267677,
          8.477975492135688,
          8.76205206299213,
          8.63064800879524,
          8.641813030516209,
          8.93780985431501,
          8.745827962783105
         ],
         "marker": {
          "color": "#ab63fa",
          "symbol": "circle"
         },
         "mode": "markers",
         "name": "TI",
         "showlegend": true,
         "type": "scattergeo"
        },
        {
         "geo": "geo",
         "hovertemplate": "<b>%{hovertext}</b><br><br>Kanton_Kuerzel=AI<br>Breitengrad=%{lat}<br>Längengrad=%{lon}<extra></extra>",
         "hovertext": [
          "Alpsteinblick   Gonten  ",
          "Ebenalp-Horn Horn  Schwende ",
          "Fischenthal Aurueti  Oberegg ",
          "Oberegg SkiliftSt.Anton  ",
          "Sollegg Appenzell  "
         ],
         "lat": [
          47.306362530106384,
          47.26440419635024,
          47.41650709807815,
          47.41650709807815,
          47.356282463954166
         ],
         "legendgroup": "AI",
         "lon": [
          9.329920654017526,
          9.39184842289109,
          9.553275500570845,
          9.553275500570845,
          9.401495999570932
         ],
         "marker": {
          "color": "#FFA15A",
          "symbol": "circle"
         },
         "mode": "markers",
         "name": "AI",
         "showlegend": true,
         "type": "scattergeo"
        },
        {
         "geo": "geo",
         "hovertemplate": "<b>%{hovertext}</b><br><br>Kanton_Kuerzel=UR<br>Breitengrad=%{lat}<br>Längengrad=%{lon}<extra></extra>",
         "hovertext": [
          "Andermatt/Oberalp/Sedrun Andermatt Andermatt ",
          "Biel Kinzig  Buerglen ",
          "Bruesti   Attinghausen  ",
          "Eggberge  Altdorf  ",
          "Gemsstock   Andermatt  ",
          "Gitschenen  Isenthal  ",
          "Kellerberg- Haldi Schattdorf Schattdorf ",
          "Ratzi  Spiringen  ",
          "Realp (voruebergehend außer Betrieb)   ",
          "Urnerboden Urnerboden Urnerboden "
         ],
         "lat": [
          46.6205227352232,
          46.8854102471779,
          46.85345258248684,
          46.88772086348615,
          46.6205227352232,
          46.88661696319931,
          46.85649718679535,
          46.87598223000994,
          46.58032873671343,
          46.87957457563218
         ],
         "legendgroup": "UR",
         "lon": [
          8.631412588665953,
          8.689736668035382,
          8.598538707032889,
          8.641409070020176,
          8.631412588665953,
          8.525345254078607,
          8.652078587930477,
          8.73517787648612,
          8.47013362821995,
          8.901892747254871
         ],
         "marker": {
          "color": "#19d3f3",
          "symbol": "circle"
         },
         "mode": "markers",
         "name": "UR",
         "showlegend": true,
         "type": "scattergeo"
        },
        {
         "geo": "geo",
         "hovertemplate": "<b>%{hovertext}</b><br><br>Kanton_Kuerzel=SG<br>Breitengrad=%{lat}<br>Längengrad=%{lon}<extra></extra>",
         "hovertext": [
          "Arvenbueel/Mattstock Amden  Amden  ",
          "Atzmannig  Goldingen Goldingen ",
          "Beckenhalde   St. Gallen  ",
          "Bildhaus   Gommiswald am Ricken  ",
          "Buchserberg Malbun Buchs ",
          "Chaserrugg  Unterwasser/Alt St. Johann (Toggenburg) Unterwasser ",
          "Degersheim   Fuchsacker  ",
          "Flumserberg Flumserberg Flumserberg ",
          "Gahwil   ",
          "Gampluet   ",
          "Hemberg   ",
          "Hochwacht  Mosnang  ",
          "Hornli  Hemberg Bachli ",
          "Krinau   ",
          "Lukaslift  Grabs  ",
          "Mittlerwengi  Kaltbrunn  ",
          "Oberhelfenschwil   ",
          "Pizol   Bad Ragaz/Wangs Bad Ragaz ",
          "Santis  Schwagalp Schwagalp ",
          "Schlosslihang St.Gallen  ",
          "Tristeli  St.Margrethenberg St.Margrethenberg ",
          "Walenstadtberg   ",
          "Weisstannen   ",
          "Wildhaus   Gamserrugg (Toggenburg)  ",
          "Wolzenalp  Krummenau  "
         ],
         "lat": [
          47.159937277478924,
          47.28468899034298,
          47.41542320778775,
          47.2315344658155,
          47.17058801086377,
          47.19640189063639,
          47.37336760998512,
          47.080510579678574,
          47.39385268852025,
          47.21653899109159,
          47.30048518581119,
          47.35934751733251,
          47.30048518581119,
          47.317780245425006,
          47.17058801086377,
          47.20996125550636,
          47.34827121672728,
          46.996887498770654,
          47.24549706352807,
          47.40805048061931,
          46.996887498770654,
          47.1223504128056,
          46.97191521650233,
          47.21653899109159,
          47.25801696028455
         ],
         "legendgroup": "SG",
         "lon": [
          9.167879637010529,
          8.973941300328173,
          9.402118008674345,
          9.020101862200692,
          9.458011707493556,
          9.306520672600897,
          9.198077544869747,
          9.268297810961178,
          8.998167254178435,
          9.352737526840947,
          9.20160315186423,
          9.038701711759767,
          9.20160315186423,
          9.052111215793683,
          9.458011707493556,
          9.049151526815889,
          9.106608376376265,
          9.47307401366276,
          9.259205763119262,
          9.335622409645111,
          9.47307401366276,
          9.310672076365112,
          9.304744165089732,
          9.352737526840947,
          9.18689401091768
         ],
         "marker": {
          "color": "#FF6692",
          "symbol": "circle"
         },
         "mode": "markers",
         "name": "SG",
         "showlegend": true,
         "type": "scattergeo"
        },
        {
         "geo": "geo",
         "hovertemplate": "<b>%{hovertext}</b><br><br>Kanton_Kuerzel=AG<br>Breitengrad=%{lat}<br>Längengrad=%{lon}<extra></extra>",
         "hovertext": [
          "Asp (Densbueren)   ",
          "Bottenwil  PizGraben  ",
          "Fohrlimatt  Wegenstetten  ",
          "Holderbank  SkiliftEngi  ",
          "Horben  Lindenberg  ",
          "Rotberg  Villigen  "
         ],
         "lat": [
          47.4187944676473,
          47.284727446778696,
          47.49388233047687,
          47.43093670861296,
          47.24900521493852,
          47.53006881810674
         ],
         "legendgroup": "AG",
         "lon": [
          8.083026786733928,
          8.00207078689998,
          7.931230907875876,
          8.170660199279535,
          8.325980483106619,
          8.20626832408848
         ],
         "marker": {
          "color": "#B6E880",
          "symbol": "circle"
         },
         "mode": "markers",
         "name": "AG",
         "showlegend": true,
         "type": "scattergeo"
        },
        {
         "geo": "geo",
         "hovertemplate": "<b>%{hovertext}</b><br><br>Kanton_Kuerzel=NW<br>Breitengrad=%{lat}<br>Längengrad=%{lon}<extra></extra>",
         "hovertext": [
          "Bannalp   Oberrickenbach  ",
          "Haldigrat Niederrickenbach Niederrickenbach ",
          "Klewenalp/Stockhuette  Beckenried/Emmetten Beckenried ",
          "Langmattli  Hergiswil  ",
          "Wirzweli  Dallenwil Dallenwil "
         ],
         "lat": [
          46.9222625837078,
          46.95878133022972,
          46.95024548032024,
          46.98593583992817,
          46.9222625837078
         ],
         "legendgroup": "NW",
         "lon": [
          8.383619421064276,
          8.363311308496687,
          8.471607128421299,
          8.281314284428433,
          8.383619421064276
         ],
         "marker": {
          "color": "#FF97FF",
          "symbol": "circle"
         },
         "mode": "markers",
         "name": "NW",
         "showlegend": true,
         "type": "scattergeo"
        },
        {
         "geo": "geo",
         "hovertemplate": "<b>%{hovertext}</b><br><br>Kanton_Kuerzel=ZH<br>Breitengrad=%{lat}<br>Längengrad=%{lon}<extra></extra>",
         "hovertext": [
          "Baretswil   ",
          "Dicki   Weisslingen  ",
          "Dietikon   ",
          "Ghoch   ",
          "Oberholz Farner  ",
          "Regensberg Erlenhof  ImBuck ",
          "Steg im Tosstal   ",
          "Sternenberg Schatzbol  ",
          "Wildberg Schafbueel  "
         ],
         "lat": [
          47.33885881311072,
          47.45049253417624,
          47.395034158969146,
          47.34111963791964,
          47.28881201093997,
          47.47818420344301,
          47.34111963791964,
          47.38884556499081,
          47.40520515575772
         ],
         "legendgroup": "ZH",
         "lon": [
          8.871485791943323,
          8.804134041861316,
          8.449001595827898,
          8.95136119206518,
          8.923126425608599,
          8.428312101510604,
          8.95136119206518,
          8.91401823549601,
          8.833107289508837
         ],
         "marker": {
          "color": "#FECB52",
          "symbol": "circle"
         },
         "mode": "markers",
         "name": "ZH",
         "showlegend": true,
         "type": "scattergeo"
        },
        {
         "geo": "geo",
         "hovertemplate": "<b>%{hovertext}</b><br><br>Kanton_Kuerzel=VD<br>Breitengrad=%{lat}<br>Längengrad=%{lon}<extra></extra>",
         "hovertext": [
          "Basse Ruche   ",
          "Dent de Jaman  Montreux Montreux ",
          "Dent de Vaulion  LeMorez  ",
          "Glacier 3000  Les Diablerets  Les Diablerets ",
          "Haut de Caux ",
          "La Braye  Châteaud'Oex Châteaud'Oex ",
          "La Dôle/Les Tuffes (Jura sur Leman)   ",
          "La Trelasse   ",
          "L'Abbaye   ",
          "Le Brassus   ",
          "Les Mosses/La Lecherette   ",
          "Les Pleiades Les Pleiades Les Pleiades ",
          "Les Prevondes   ",
          "Les Rasses   Sainte Sainte-Croix ",
          "Leysin Leysin Leysin ",
          "L'Orient   ",
          "Orgevaux/Les Avants Montreux Montreux ",
          "Rochers de Naye   Montreux  ",
          "Saint George  ",
          "St. Cergue   ",
          "Villars/Gryon/Les Diablerets Villars/Gryon/Les Diablerets Villars "
         ],
         "lat": [
          46.45103884444971,
          46.42430811917527,
          46.77623871899399,
          46.34393976506284,
          46.44245463194165,
          46.453109405926206,
          46.45103884444971,
          46.45103884444971,
          46.64053104806485,
          46.568538943492825,
          46.453109405926206,
          46.45465492545657,
          46.42430811917527,
          46.80852438560281,
          46.35252935486932,
          46.59115267054111,
          46.42430811917527,
          46.42430811917527,
          46.52261211040082,
          46.45103884444971,
          46.29546090705609
         ],
         "legendgroup": "VD",
         "lon": [
          6.141447545729431,
          6.920497482541422,
          6.638517507154847,
          7.175707382026521,
          6.964753535578825,
          7.099815171977348,
          6.141447545729431,
          6.141447545729431,
          6.323997863325195,
          6.190567671432426,
          7.099815171977348,
          6.903515737764544,
          6.920497482541422,
          6.498405200059012,
          7.011130831233223,
          6.257683519055614,
          6.920497482541422,
          6.920497482541422,
          6.257700212851227,
          6.141447545729431,
          7.019080457855518
         ],
         "marker": {
          "color": "#636efa",
          "symbol": "circle"
         },
         "mode": "markers",
         "name": "VD",
         "showlegend": true,
         "type": "scattergeo"
        },
        {
         "geo": "geo",
         "hovertemplate": "<b>%{hovertext}</b><br><br>Kanton_Kuerzel=SZ<br>Breitengrad=%{lat}<br>Längengrad=%{lon}<extra></extra>",
         "hovertext": [
          "Bennau   Einsiedeln  ",
          "Brunni  Alpthal  ",
          "Friherrenberg  Einsiedeln  ",
          "Fronalpstock/Klingenstock Stoos Stoos  ",
          "Hoch Ybrig  Unteriberg/Oberiberg Oberiberg ",
          "Mythenregion Schwyz Schwyz ",
          "Neusell  Rothenthurm Biberegg ",
          "Oberiberg   ",
          "Rigi Rigi Rigi ",
          "Sattelegg   Vorderthal/Einsiedeln Willerzell ",
          "Sattel-Hochstuckli Sattel  Sattel  ",
          "Schnabelsberg Bennau(Einsiedeln)  ",
          "Seebodenalp   Kuessnacht  ",
          "Telli  Morschach  ",
          "Vorderthal SkiliftWagital  "
         ],
         "lat": [
          47.15064032536861,
          47.05779658301815,
          47.13155976005248,
          46.97637206245401,
          47.03077671198638,
          47.034584563807165,
          47.101974211270665,
          47.034584563807165,
          47.07891509687347,
          47.12988696278169,
          47.07992008082552,
          47.15064032536861,
          47.07891509687347,
          46.97637206245401,
          47.12626325849101
         ],
         "legendgroup": "SZ",
         "lon": [
          8.714527787397953,
          8.714512853120672,
          8.744057572485739,
          8.621587288522573,
          8.761717124248628,
          8.66672685809677,
          8.68045957652215,
          8.66672685809677,
          8.445676394831297,
          8.810499250099674,
          8.631212196276863,
          8.714527787397953,
          8.445676394831297,
          8.621587288522573,
          8.889344288245853
         ],
         "marker": {
          "color": "#EF553B",
          "symbol": "circle"
         },
         "mode": "markers",
         "name": "SZ",
         "showlegend": true,
         "type": "scattergeo"
        },
        {
         "geo": "geo",
         "hovertemplate": "<b>%{hovertext}</b><br><br>Kanton_Kuerzel=AR<br>Breitengrad=%{lat}<br>Längengrad=%{lon}<extra></extra>",
         "hovertext": [
          "Blatten  Speicher  ",
          "Gais   ",
          "Grub Kaien  ",
          "Heiden  Bischofsberg  ",
          "Schwellbrunn   ",
          "Urnasch   Osteregg  ",
          "Vogelinsegg  Speicher  "
         ],
         "lat": [
          47.409862286253095,
          47.36795879716399,
          47.44119600880302,
          47.44081827013916,
          47.35161763772511,
          47.29492749237434,
          47.409862286253095
         ],
         "legendgroup": "AR",
         "lon": [
          9.440951839043564,
          9.471413241319576,
          9.501692923483422,
          9.534855238128069,
          9.23622826196516,
          9.277883101970623,
          9.440951839043564
         ],
         "marker": {
          "color": "#00cc96",
          "symbol": "circle"
         },
         "mode": "markers",
         "name": "AR",
         "showlegend": true,
         "type": "scattergeo"
        },
        {
         "geo": "geo",
         "hovertemplate": "<b>%{hovertext}</b><br><br>Kanton_Kuerzel=GL<br>Breitengrad=%{lat}<br>Längengrad=%{lon}<extra></extra>",
         "hovertext": [
          "Braunwald Braunwald Braunwald ",
          "Dreieck   Glarus  ",
          "Elm im Sernftal   ",
          "Kerenzerberg  Filzbach  ",
          "Mugi  Netstal  ",
          "Schilt  Mollis  ",
          "Schwanden   Sigriswil  "
         ],
         "lat": [
          46.94584834554261,
          47.04956343988005,
          46.90606792468636,
          47.10146294306594,
          47.06380999727713,
          47.093821153450165,
          47.01246248853029
         ],
         "legendgroup": "GL",
         "lon": [
          8.984506744734935,
          9.039353103625862,
          9.156363943907312,
          9.125344571730311,
          9.041722412029596,
          9.091373359754918,
          9.1248674416192
         ],
         "marker": {
          "color": "#ab63fa",
          "symbol": "circle"
         },
         "mode": "markers",
         "name": "GL",
         "showlegend": true,
         "type": "scattergeo"
        },
        {
         "geo": "geo",
         "hovertemplate": "<b>%{hovertext}</b><br><br>Kanton_Kuerzel=NE<br>Breitengrad=%{lat}<br>Längengrad=%{lon}<extra></extra>",
         "hovertext": [
          "Brot Plamboz  ",
          "Chapeau Râble   La Chaux de Fonds",
          "La Brevine   ",
          "La Corbatiere   La Roche aux Crocs",
          "La Côte aux Fees ",
          "La Robella   Buttes (Val de Travers)",
          "La Sagne   ",
          "Le Crêt Meuron Fontaines(LesGollieres) ",
          "Les Loges  LaVuedesAlpes  ",
          "Les Verrieres   ",
          "Sommartel  LeLocle  "
         ],
         "lat": [
          46.98310270593748,
          47.11346368460821,
          46.97188919629928,
          47.11346368460821,
          46.8633879470283,
          46.87949085540813,
          47.04744928439978,
          47.06654020285924,
          47.06654020285924,
          46.91439528255655,
          47.03519378227565
         ],
         "legendgroup": "NE",
         "lon": [
          6.748598940529313,
          6.834788342896368,
          6.602857688160449,
          6.834788342896368,
          6.485325767073004,
          6.543208481104002,
          6.802142792720664,
          6.869407833975434,
          6.869407833975434,
          6.474783915790059,
          6.712721011849587
         ],
         "marker": {
          "color": "#FFA15A",
          "symbol": "circle"
         },
         "mode": "markers",
         "name": "NE",
         "showlegend": true,
         "type": "scattergeo"
        },
        {
         "geo": "geo",
         "hovertemplate": "<b>%{hovertext}</b><br><br>Kanton_Kuerzel=OW<br>Breitengrad=%{lat}<br>Längengrad=%{lon}<extra></extra>",
         "hovertext": [
          "Brunni   Engelberg  ",
          "Langis Langis Langis ",
          "Melchsee-Frutt Kerns Kerns ",
          "Morlialp  Giswil Giswil ",
          "Titlis  Engelberg Engelberg "
         ],
         "lat": [
          46.81454661300316,
          46.83752401859071,
          46.90705837457296,
          46.83752401859071,
          46.81454661300316
         ],
         "legendgroup": "OW",
         "lon": [
          8.441246114230253,
          8.121950601420881,
          8.30280660001364,
          8.121950601420881,
          8.441246114230253
         ],
         "marker": {
          "color": "#19d3f3",
          "symbol": "circle"
         },
         "mode": "markers",
         "name": "OW",
         "showlegend": true,
         "type": "scattergeo"
        },
        {
         "geo": "geo",
         "hovertemplate": "<b>%{hovertext}</b><br><br>Kanton_Kuerzel=FR<br>Breitengrad=%{lat}<br>Längengrad=%{lon}<extra></extra>",
         "hovertext": [
          "Charmey   ",
          "Hapfere  Plaffeien  ",
          "Jaun   ",
          "Kaiseregg/Riggisalp  Schwarzsee Schwarzsee ",
          "La Berra  La Roche La Roche ",
          "La Chia  Bulle  ",
          "Le Pâquier   Crêt du Puy",
          "Les Paccots/Châtel Les Paccots/Châtel Les Paccots ",
          "Les Paccots/Granges  Mont Chesau ",
          "Moleson   ",
          "Mont Gibloux   ",
          "Nax  Mont Noble ",
          "Rathvel   Châtel St Denis"
         ],
         "lat": [
          46.59373260297209,
          46.73690503467711,
          46.59129220007462,
          46.73690503467711,
          46.6925149445394,
          46.60214327821387,
          46.59039937984119,
          46.50736129661608,
          46.522961633257225,
          46.58886611971624,
          46.69750560806696,
          46.91237106789664,
          46.50736129661608
         ],
         "legendgroup": "FR",
         "lon": [
          7.195768770679854,
          7.2696940142324,
          7.237415121349573,
          7.2696940142324,
          7.160606301311321,
          7.02230091359197,
          7.051888853664313,
          6.96628380150331,
          6.826278094633602,
          7.035375037769224,
          7.0309409761717125,
          7.174366123624522,
          6.96628380150331
         ],
         "marker": {
          "color": "#FF6692",
          "symbol": "circle"
         },
         "mode": "markers",
         "name": "FR",
         "showlegend": true,
         "type": "scattergeo"
        },
        {
         "geo": "geo",
         "hovertemplate": "<b>%{hovertext}</b><br><br>Kanton_Kuerzel=SH<br>Breitengrad=%{lat}<br>Längengrad=%{lon}<extra></extra>",
         "hovertext": [
          "Egg  Hallau  ",
          "Stich  Opfertshofen  "
         ],
         "lat": [
          47.70045692969688,
          47.77251888070899
         ],
         "legendgroup": "SH",
         "lon": [
          8.44318407762118,
          8.659194169308732
         ],
         "marker": {
          "color": "#B6E880",
          "symbol": "circle"
         },
         "mode": "markers",
         "name": "SH",
         "showlegend": true,
         "type": "scattergeo"
        },
        {
         "geo": "geo",
         "hovertemplate": "<b>%{hovertext}</b><br><br>Kanton_Kuerzel=LU<br>Breitengrad=%{lat}<br>Längengrad=%{lon}<extra></extra>",
         "hovertext": [
          "Gfellen  Entlebuch Finsterwald ",
          "Heiligkreuz First Hasle ",
          "Schratten Fluehli   ",
          "Sorenberg  Sorenberg  Sörenberg "
         ],
         "lat": [
          46.98838863398822,
          46.95915105746656,
          46.88254228861547,
          46.816055638109965
         ],
         "legendgroup": "LU",
         "lon": [
          8.0746769866983,
          8.067043258781686,
          8.024904389987453,
          8.0088804940475
         ],
         "marker": {
          "color": "#FF97FF",
          "symbol": "circle"
         },
         "mode": "markers",
         "name": "LU",
         "showlegend": true,
         "type": "scattergeo"
        },
        {
         "geo": "geo",
         "hovertemplate": "<b>%{hovertext}</b><br><br>Kanton_Kuerzel=SO<br>Breitengrad=%{lat}<br>Längengrad=%{lon}<extra></extra>",
         "hovertext": [
          "Grenchenberg  Grenchen  ",
          "Gsahl  Hauenstein Ifenthal ",
          "Hohe Winde  Beinwil  ",
          "Lommiswil Bitzirain  ",
          "Nunningen   ",
          "Saalhohe   ",
          "Schauenburg   ",
          "Schwengimatt   ",
          "Tanzboden   Ebnat Kappel "
         ],
         "lat": [
          47.19722103317002,
          47.37127715145244,
          47.35777645338548,
          47.247182644396,
          47.39769172998329,
          47.440341888114986,
          47.21746364408902,
          47.31434681121171,
          47.32096026737068
         ],
         "legendgroup": "SO",
         "lon": [
          7.387598226607045,
          7.855839312860544,
          7.595065750585048,
          7.4851994935077375,
          7.616626851360783,
          7.96720967600817,
          7.448068349755802,
          7.700303642644949,
          7.857329500202854
         ],
         "marker": {
          "color": "#FECB52",
          "symbol": "circle"
         },
         "mode": "markers",
         "name": "SO",
         "showlegend": true,
         "type": "scattergeo"
        },
        {
         "geo": "geo",
         "hovertemplate": "<b>%{hovertext}</b><br><br>Kanton_Kuerzel=BL<br>Breitengrad=%{lat}<br>Längengrad=%{lon}<extra></extra>",
         "hovertext": [
          "Langenbruck  Untere/ObereWanne  ",
          "Schafmatt  Oltingen  ",
          "Staffelalp  Zeglingen  "
         ],
         "lat": [
          47.35767024683338,
          47.43023504879295,
          47.41213049086207
         ],
         "legendgroup": "BL",
         "lon": [
          7.771089371088486,
          7.937253431074494,
          7.91233346325035
         ],
         "marker": {
          "color": "#636efa",
          "symbol": "circle"
         },
         "mode": "markers",
         "name": "BL",
         "showlegend": true,
         "type": "scattergeo"
        },
        {
         "geo": "geo",
         "hovertemplate": "<b>%{hovertext}</b><br><br>Kanton_Kuerzel=JU<br>Breitengrad=%{lat}<br>Längengrad=%{lon}<extra></extra>",
         "hovertext": [
          "Les Breuleux   ",
          "Les Genevez   "
         ],
         "lat": [
          47.20303308832165,
          47.2557122817057
         ],
         "legendgroup": "JU",
         "lon": [
          6.992837688364893,
          7.096536070207812
         ],
         "marker": {
          "color": "#EF553B",
          "symbol": "circle"
         },
         "mode": "markers",
         "name": "JU",
         "showlegend": true,
         "type": "scattergeo"
        },
        {
         "geo": "geo",
         "hovertemplate": "<b>%{hovertext}</b><br><br>Kanton_Kuerzel=TG<br>Breitengrad=%{lat}<br>Längengrad=%{lon}<extra></extra>",
         "hovertext": [
          "Mammern Klingenzell  ",
          "Nollen Hosenruck(Wuppenau)  ",
          "Sitzberg  Fischingen  "
         ],
         "lat": [
          47.64666451467656,
          47.497216008932845,
          47.44660298965666
         ],
         "legendgroup": "TG",
         "lon": [
          8.921361706529543,
          9.105808017793684,
          8.98723561921133
         ],
         "marker": {
          "color": "#00cc96",
          "symbol": "circle"
         },
         "mode": "markers",
         "name": "TG",
         "showlegend": true,
         "type": "scattergeo"
        },
        {
         "geo": "geo",
         "hovertemplate": "<b>%{hovertext}</b><br><br>Kanton_Kuerzel=ZG<br>Breitengrad=%{lat}<br>Längengrad=%{lon}<extra></extra>",
         "hovertext": [
          "Nollen  Unterageri  ",
          "Raten  Oberageri  ",
          "Zugerberg   "
         ],
         "lat": [
          47.12001627660013,
          47.14463702980226,
          47.14119363074207
         ],
         "legendgroup": "ZG",
         "lon": [
          8.580724621182197,
          8.655764031050886,
          8.531989125823754
         ],
         "marker": {
          "color": "#ab63fa",
          "symbol": "circle"
         },
         "mode": "markers",
         "name": "ZG",
         "showlegend": true,
         "type": "scattergeo"
        }
       ],
       "layout": {
        "autosize": true,
        "geo": {
         "center": {},
         "domain": {
          "x": [
           0,
           1
          ],
          "y": [
           0,
           1
          ]
         },
         "fitbounds": "locations",
         "scope": "europe"
        },
        "legend": {
         "title": {
          "text": "Kanton_Kuerzel"
         },
         "tracegroupgap": 0
        },
        "margin": {
         "b": 0,
         "l": 0,
         "r": 0,
         "t": 40
        },
        "paper_bgcolor": "#2a2f4a",
        "showlegend": false,
        "template": {
         "data": {
          "bar": [
           {
            "error_x": {
             "color": "#2a3f5f"
            },
            "error_y": {
             "color": "#2a3f5f"
            },
            "marker": {
             "line": {
              "color": "#E5ECF6",
              "width": 0.5
             },
             "pattern": {
              "fillmode": "overlay",
              "size": 10,
              "solidity": 0.2
             }
            },
            "type": "bar"
           }
          ],
          "barpolar": [
           {
            "marker": {
             "line": {
              "color": "#E5ECF6",
              "width": 0.5
             },
             "pattern": {
              "fillmode": "overlay",
              "size": 10,
              "solidity": 0.2
             }
            },
            "type": "barpolar"
           }
          ],
          "carpet": [
           {
            "aaxis": {
             "endlinecolor": "#2a3f5f",
             "gridcolor": "white",
             "linecolor": "white",
             "minorgridcolor": "white",
             "startlinecolor": "#2a3f5f"
            },
            "baxis": {
             "endlinecolor": "#2a3f5f",
             "gridcolor": "white",
             "linecolor": "white",
             "minorgridcolor": "white",
             "startlinecolor": "#2a3f5f"
            },
            "type": "carpet"
           }
          ],
          "choropleth": [
           {
            "colorbar": {
             "outlinewidth": 0,
             "ticks": ""
            },
            "type": "choropleth"
           }
          ],
          "contour": [
           {
            "colorbar": {
             "outlinewidth": 0,
             "ticks": ""
            },
            "colorscale": [
             [
              0,
              "#0d0887"
             ],
             [
              0.1111111111111111,
              "#46039f"
             ],
             [
              0.2222222222222222,
              "#7201a8"
             ],
             [
              0.3333333333333333,
              "#9c179e"
             ],
             [
              0.4444444444444444,
              "#bd3786"
             ],
             [
              0.5555555555555556,
              "#d8576b"
             ],
             [
              0.6666666666666666,
              "#ed7953"
             ],
             [
              0.7777777777777778,
              "#fb9f3a"
             ],
             [
              0.8888888888888888,
              "#fdca26"
             ],
             [
              1,
              "#f0f921"
             ]
            ],
            "type": "contour"
           }
          ],
          "contourcarpet": [
           {
            "colorbar": {
             "outlinewidth": 0,
             "ticks": ""
            },
            "type": "contourcarpet"
           }
          ],
          "heatmap": [
           {
            "colorbar": {
             "outlinewidth": 0,
             "ticks": ""
            },
            "colorscale": [
             [
              0,
              "#0d0887"
             ],
             [
              0.1111111111111111,
              "#46039f"
             ],
             [
              0.2222222222222222,
              "#7201a8"
             ],
             [
              0.3333333333333333,
              "#9c179e"
             ],
             [
              0.4444444444444444,
              "#bd3786"
             ],
             [
              0.5555555555555556,
              "#d8576b"
             ],
             [
              0.6666666666666666,
              "#ed7953"
             ],
             [
              0.7777777777777778,
              "#fb9f3a"
             ],
             [
              0.8888888888888888,
              "#fdca26"
             ],
             [
              1,
              "#f0f921"
             ]
            ],
            "type": "heatmap"
           }
          ],
          "heatmapgl": [
           {
            "colorbar": {
             "outlinewidth": 0,
             "ticks": ""
            },
            "colorscale": [
             [
              0,
              "#0d0887"
             ],
             [
              0.1111111111111111,
              "#46039f"
             ],
             [
              0.2222222222222222,
              "#7201a8"
             ],
             [
              0.3333333333333333,
              "#9c179e"
             ],
             [
              0.4444444444444444,
              "#bd3786"
             ],
             [
              0.5555555555555556,
              "#d8576b"
             ],
             [
              0.6666666666666666,
              "#ed7953"
             ],
             [
              0.7777777777777778,
              "#fb9f3a"
             ],
             [
              0.8888888888888888,
              "#fdca26"
             ],
             [
              1,
              "#f0f921"
             ]
            ],
            "type": "heatmapgl"
           }
          ],
          "histogram": [
           {
            "marker": {
             "pattern": {
              "fillmode": "overlay",
              "size": 10,
              "solidity": 0.2
             }
            },
            "type": "histogram"
           }
          ],
          "histogram2d": [
           {
            "colorbar": {
             "outlinewidth": 0,
             "ticks": ""
            },
            "colorscale": [
             [
              0,
              "#0d0887"
             ],
             [
              0.1111111111111111,
              "#46039f"
             ],
             [
              0.2222222222222222,
              "#7201a8"
             ],
             [
              0.3333333333333333,
              "#9c179e"
             ],
             [
              0.4444444444444444,
              "#bd3786"
             ],
             [
              0.5555555555555556,
              "#d8576b"
             ],
             [
              0.6666666666666666,
              "#ed7953"
             ],
             [
              0.7777777777777778,
              "#fb9f3a"
             ],
             [
              0.8888888888888888,
              "#fdca26"
             ],
             [
              1,
              "#f0f921"
             ]
            ],
            "type": "histogram2d"
           }
          ],
          "histogram2dcontour": [
           {
            "colorbar": {
             "outlinewidth": 0,
             "ticks": ""
            },
            "colorscale": [
             [
              0,
              "#0d0887"
             ],
             [
              0.1111111111111111,
              "#46039f"
             ],
             [
              0.2222222222222222,
              "#7201a8"
             ],
             [
              0.3333333333333333,
              "#9c179e"
             ],
             [
              0.4444444444444444,
              "#bd3786"
             ],
             [
              0.5555555555555556,
              "#d8576b"
             ],
             [
              0.6666666666666666,
              "#ed7953"
             ],
             [
              0.7777777777777778,
              "#fb9f3a"
             ],
             [
              0.8888888888888888,
              "#fdca26"
             ],
             [
              1,
              "#f0f921"
             ]
            ],
            "type": "histogram2dcontour"
           }
          ],
          "mesh3d": [
           {
            "colorbar": {
             "outlinewidth": 0,
             "ticks": ""
            },
            "type": "mesh3d"
           }
          ],
          "parcoords": [
           {
            "line": {
             "colorbar": {
              "outlinewidth": 0,
              "ticks": ""
             }
            },
            "type": "parcoords"
           }
          ],
          "pie": [
           {
            "automargin": true,
            "type": "pie"
           }
          ],
          "scatter": [
           {
            "fillpattern": {
             "fillmode": "overlay",
             "size": 10,
             "solidity": 0.2
            },
            "type": "scatter"
           }
          ],
          "scatter3d": [
           {
            "line": {
             "colorbar": {
              "outlinewidth": 0,
              "ticks": ""
             }
            },
            "marker": {
             "colorbar": {
              "outlinewidth": 0,
              "ticks": ""
             }
            },
            "type": "scatter3d"
           }
          ],
          "scattercarpet": [
           {
            "marker": {
             "colorbar": {
              "outlinewidth": 0,
              "ticks": ""
             }
            },
            "type": "scattercarpet"
           }
          ],
          "scattergeo": [
           {
            "marker": {
             "colorbar": {
              "outlinewidth": 0,
              "ticks": ""
             }
            },
            "type": "scattergeo"
           }
          ],
          "scattergl": [
           {
            "marker": {
             "colorbar": {
              "outlinewidth": 0,
              "ticks": ""
             }
            },
            "type": "scattergl"
           }
          ],
          "scattermapbox": [
           {
            "marker": {
             "colorbar": {
              "outlinewidth": 0,
              "ticks": ""
             }
            },
            "type": "scattermapbox"
           }
          ],
          "scatterpolar": [
           {
            "marker": {
             "colorbar": {
              "outlinewidth": 0,
              "ticks": ""
             }
            },
            "type": "scatterpolar"
           }
          ],
          "scatterpolargl": [
           {
            "marker": {
             "colorbar": {
              "outlinewidth": 0,
              "ticks": ""
             }
            },
            "type": "scatterpolargl"
           }
          ],
          "scatterternary": [
           {
            "marker": {
             "colorbar": {
              "outlinewidth": 0,
              "ticks": ""
             }
            },
            "type": "scatterternary"
           }
          ],
          "surface": [
           {
            "colorbar": {
             "outlinewidth": 0,
             "ticks": ""
            },
            "colorscale": [
             [
              0,
              "#0d0887"
             ],
             [
              0.1111111111111111,
              "#46039f"
             ],
             [
              0.2222222222222222,
              "#7201a8"
             ],
             [
              0.3333333333333333,
              "#9c179e"
             ],
             [
              0.4444444444444444,
              "#bd3786"
             ],
             [
              0.5555555555555556,
              "#d8576b"
             ],
             [
              0.6666666666666666,
              "#ed7953"
             ],
             [
              0.7777777777777778,
              "#fb9f3a"
             ],
             [
              0.8888888888888888,
              "#fdca26"
             ],
             [
              1,
              "#f0f921"
             ]
            ],
            "type": "surface"
           }
          ],
          "table": [
           {
            "cells": {
             "fill": {
              "color": "#EBF0F8"
             },
             "line": {
              "color": "white"
             }
            },
            "header": {
             "fill": {
              "color": "#C8D4E3"
             },
             "line": {
              "color": "white"
             }
            },
            "type": "table"
           }
          ]
         },
         "layout": {
          "annotationdefaults": {
           "arrowcolor": "#2a3f5f",
           "arrowhead": 0,
           "arrowwidth": 1
          },
          "autotypenumbers": "strict",
          "coloraxis": {
           "colorbar": {
            "outlinewidth": 0,
            "ticks": ""
           }
          },
          "colorscale": {
           "diverging": [
            [
             0,
             "#8e0152"
            ],
            [
             0.1,
             "#c51b7d"
            ],
            [
             0.2,
             "#de77ae"
            ],
            [
             0.3,
             "#f1b6da"
            ],
            [
             0.4,
             "#fde0ef"
            ],
            [
             0.5,
             "#f7f7f7"
            ],
            [
             0.6,
             "#e6f5d0"
            ],
            [
             0.7,
             "#b8e186"
            ],
            [
             0.8,
             "#7fbc41"
            ],
            [
             0.9,
             "#4d9221"
            ],
            [
             1,
             "#276419"
            ]
           ],
           "sequential": [
            [
             0,
             "#0d0887"
            ],
            [
             0.1111111111111111,
             "#46039f"
            ],
            [
             0.2222222222222222,
             "#7201a8"
            ],
            [
             0.3333333333333333,
             "#9c179e"
            ],
            [
             0.4444444444444444,
             "#bd3786"
            ],
            [
             0.5555555555555556,
             "#d8576b"
            ],
            [
             0.6666666666666666,
             "#ed7953"
            ],
            [
             0.7777777777777778,
             "#fb9f3a"
            ],
            [
             0.8888888888888888,
             "#fdca26"
            ],
            [
             1,
             "#f0f921"
            ]
           ],
           "sequentialminus": [
            [
             0,
             "#0d0887"
            ],
            [
             0.1111111111111111,
             "#46039f"
            ],
            [
             0.2222222222222222,
             "#7201a8"
            ],
            [
             0.3333333333333333,
             "#9c179e"
            ],
            [
             0.4444444444444444,
             "#bd3786"
            ],
            [
             0.5555555555555556,
             "#d8576b"
            ],
            [
             0.6666666666666666,
             "#ed7953"
            ],
            [
             0.7777777777777778,
             "#fb9f3a"
            ],
            [
             0.8888888888888888,
             "#fdca26"
            ],
            [
             1,
             "#f0f921"
            ]
           ]
          },
          "colorway": [
           "#636efa",
           "#EF553B",
           "#00cc96",
           "#ab63fa",
           "#FFA15A",
           "#19d3f3",
           "#FF6692",
           "#B6E880",
           "#FF97FF",
           "#FECB52"
          ],
          "font": {
           "color": "#2a3f5f"
          },
          "geo": {
           "bgcolor": "white",
           "lakecolor": "white",
           "landcolor": "#E5ECF6",
           "showlakes": true,
           "showland": true,
           "subunitcolor": "white"
          },
          "hoverlabel": {
           "align": "left"
          },
          "hovermode": "closest",
          "mapbox": {
           "style": "light"
          },
          "paper_bgcolor": "white",
          "plot_bgcolor": "#E5ECF6",
          "polar": {
           "angularaxis": {
            "gridcolor": "white",
            "linecolor": "white",
            "ticks": ""
           },
           "bgcolor": "#E5ECF6",
           "radialaxis": {
            "gridcolor": "white",
            "linecolor": "white",
            "ticks": ""
           }
          },
          "scene": {
           "xaxis": {
            "backgroundcolor": "#E5ECF6",
            "gridcolor": "white",
            "gridwidth": 2,
            "linecolor": "white",
            "showbackground": true,
            "ticks": "",
            "zerolinecolor": "white"
           },
           "yaxis": {
            "backgroundcolor": "#E5ECF6",
            "gridcolor": "white",
            "gridwidth": 2,
            "linecolor": "white",
            "showbackground": true,
            "ticks": "",
            "zerolinecolor": "white"
           },
           "zaxis": {
            "backgroundcolor": "#E5ECF6",
            "gridcolor": "white",
            "gridwidth": 2,
            "linecolor": "white",
            "showbackground": true,
            "ticks": "",
            "zerolinecolor": "white"
           }
          },
          "shapedefaults": {
           "line": {
            "color": "#2a3f5f"
           }
          },
          "ternary": {
           "aaxis": {
            "gridcolor": "white",
            "linecolor": "white",
            "ticks": ""
           },
           "baxis": {
            "gridcolor": "white",
            "linecolor": "white",
            "ticks": ""
           },
           "bgcolor": "#E5ECF6",
           "caxis": {
            "gridcolor": "white",
            "linecolor": "white",
            "ticks": ""
           }
          },
          "title": {
           "x": 0.05
          },
          "xaxis": {
           "automargin": true,
           "gridcolor": "white",
           "linecolor": "white",
           "ticks": "",
           "title": {
            "standoff": 15
           },
           "zerolinecolor": "white",
           "zerolinewidth": 2
          },
          "yaxis": {
           "automargin": true,
           "gridcolor": "white",
           "linecolor": "white",
           "ticks": "",
           "title": {
            "standoff": 15
           },
           "zerolinecolor": "white",
           "zerolinewidth": 2
          }
         }
        }
       }
      },
      "image/png": "[encoded data removed]",
      "text/html": [
       "<div>                            <div id=\"8e9f3a16-bda1-49a3-abb9-c74069c19d68\" class=\"plotly-graph-div\" style=\"height:600px; width:100%;\"></div>            <script type=\"text/javascript\">                require([\"plotly\"], function(Plotly) {                    window.PLOTLYENV=window.PLOTLYENV || {};                                    if (document.getElementById(\"8e9f3a16-bda1-49a3-abb9-c74069c19d68\")) {                    Plotly.newPlot(                        \"8e9f3a16-bda1-49a3-abb9-c74069c19d68\",                        [{\"geo\":\"geo\",\"hovertemplate\":\"<b>%{hovertext}</b><br><br>Kanton_Kuerzel=BE<br>Breitengrad=%{lat}<br>L\\u00e4ngengrad=%{lon}<extra></extra>\",\"hovertext\":[\"Brandalp/Ginals Unterbach  Unterbach  \",\"Adelboden Adelboden Adelboden \",\"Aeschiried   \",\"Ausserschwand Adelboden Adelboden \",\"Axalp ob Brienz   \",\"Balmberg   \",\"Betelberg   Lenk  Lenk \",\"Bonderlen Adelboden Adelboden \",\"Bugnenets - Savagnieres Saint-Imier  \",\"Bumbach (Schangnau)   \",\"Chuderhuesi  Rothenbach  \",\"Eggiwil  Netschbuehl  \",\"Eggli/La Videmanette  Gstaad/Saanen/Rougemont Gstaad \",\"Elsigen Metsch   Frutigen \",\"Engstligenalp  Adelboden Adelboden \",\"Eriz   \",\"Faltschen  Reichenbach  \",\"First  Grindelwald Grindelwald \",\"Gadmen   \",\"Gantrisch Gurnigel   \",\"Goldiwil  Multenegg(Heiligenschwendi)  \",\"Grand Val Oberdorferberg \",\"Grimmialp   \",\"Gurnigelbad   \",\"Gurten  Bern  \",\"Guttannen   \",\"Habkern   Sattelegg  \",\"Hampy  Adelboden  \",\"Heimenschwand  Buchholterberg  \",\"Heiti  GsteigbeiGstaad GsteigbeiGstaad \",\"Hohwald  Beatenberg Waldegg \",\"Homberg   \",\"Hubelweid  Heiligenschwendi  \",\"Jaunpass   Boltigen  \",\"Kiental (voruebergehend au\\u00dfer Betrieb)   \",\"Kleine Scheidegg/Mannlichen   Grindelwald/Wengen Grindelwald \",\"La Golatte s/Montoz  Tavannes  \",\"Lauenen Lauenen Lauenen \",\"Le Chaluet  Court  \",\"Les Orvales  Malleray  \",\"Les Pres d'Orvin   \",\"Linden Schindelberg  \",\"Lucky   Aeschi  \",\"Marbach   Marbachegg  \",\"Meiringen-Hasliberg Hasliberg Hasliberg \",\"Niederhorn   Beatenberg  \",\"Nods   \",\"Norro Lift Adelboden \",\"Oberwangen   \",\"Oeschinensee  Kandersteg Kandersteg \",\"Ottenleue  Sangernboden Sangernboden \",\"Renan   \",\"Riffenmatt Winterpark   \",\"Rinderberg/Saanerslochgrat/Horneggli  Zweisimmen/Saanenmoser/Schonried/St. Stephan Zweisimmen \",\"Rossberg   Oberwil  \",\"Rueegsau   \",\"Rueschegg Eywald   Lischboden \",\"Saint Imier Mont Soleil\",\"Saxeten  Pintli  \",\"Schermtanne-Stiegelschwand Adelboden Adelboden \",\"Schilthorn  Muerren/Lauterbrunnen M\\u00fcrren \",\"Schwefelberg Badmatte/Louigrat(voruebergehendau\\u00dferBetrieb)  \",\"Selital   Schwarzenbuehl  \",\"Sous le Mont  Tavannes\",\"Springenboden   \",\"Trachselwald   \",\"Tramelan   \",\"TschentenAlp  Adelboden  \",\"Wasen im Emmental   \",\"Wasserngrat  Gstaad Gstaad \",\"Wiriehorn Diemtigen Diemtigen \",\"Wispile  Gstaad  \"],\"lat\":[46.73781596023059,46.47362091585067,46.65429334721316,46.47362091585067,46.771083519138,46.86546902950586,46.42511260122259,46.47362091585067,47.155863935506936,46.81056941498613,46.857428943953344,46.861330103402175,46.47065972588194,46.622510950283,46.47362091585067,46.7804961829772,46.61796795909367,46.63310663709352,46.7112276199662,46.76309212263568,46.75202351729597,47.28362128489225,46.646573321555664,46.76309212263568,46.939799295460666,46.59649636042709,46.75495650639443,46.47362091585067,46.82104529085392,46.369144084688585,46.7170207096703,46.77642810733167,46.75202351729597,46.5661754368673,46.55611412957965,46.61855251692661,47.22157159624032,46.39808032367374,47.23903863686744,47.2597614398432,47.15696840669087,46.84973894657992,46.65429334721316,46.91013794693144,46.752941344438426,46.7170207096703,47.12090112909289,46.47362091585067,46.91251666462493,46.46923900871988,46.69929512576599,47.11568074349161,46.75074602693881,46.56521016660378,46.66606641216645,47.02747219757538,46.77261993481294,47.155863935506936,46.62513307773482,46.47362091585067,46.57657396571659,46.69929512576599,46.69929512576599,47.22157159624032,46.67212445065994,47.01530515487635,47.230038177028426,46.47362091585067,47.02901104046342,46.47065972588194,46.646573321555664,46.47065972588194],\"legendgroup\":\"BE\",\"lon\":[8.118977404215123,7.5551545844706895,7.698838241205742,7.5551545844706895,8.055659954907236,7.409280278146844,7.456470592128029,7.5551545844706895,6.993341110450986,7.886969099236594,7.7413478501974,7.812008684417717,7.294575862726037,7.646435487155931,7.5551545844706895,7.80478264649604,7.691687132974539,7.973949637606535,8.375713542340746,7.456794925878227,7.682226132871233,7.428004245195527,7.5579123638383505,7.456794925878227,7.450173286795619,8.257771661267816,7.889889979101182,7.5551545844706895,7.691294317555795,7.259124282323127,7.806273234401665,7.683250957669258,7.682226132871233,7.27680221608908,7.760807325445556,8.053515883423142,7.189263169714538,7.338646543774625,7.3609270516808225,7.310638016689402,7.212477467392216,7.686667748102345,7.698838241205742,7.852315235739618,8.171309443780688,7.806273234401665,7.074642265332308,7.5551545844706895,7.360042812010204,7.7083091267644095,7.370976025305258,6.890402480437929,7.362112475868722,7.393026957016362,7.476990934682329,7.677272838244293,7.377386724654999,6.993341110450986,7.827451480747841,7.5551545844706895,7.882672798931136,7.370976025305258,7.370976025305258,7.189263169714538,7.589473886439336,7.744491146817719,7.117275390350014,7.5551545844706895,7.838558310900703,7.294575862726037,7.5579123638383505,7.294575862726037],\"marker\":{\"color\":\"#636efa\",\"symbol\":\"circle\"},\"mode\":\"markers\",\"name\":\"BE\",\"showlegend\":true,\"type\":\"scattergeo\"},{\"geo\":\"geo\",\"hovertemplate\":\"<b>%{hovertext}</b><br><br>Kanton_Kuerzel=GR<br>Breitengrad=%{lat}<br>L\\u00e4ngengrad=%{lon}<extra></extra>\",\"hovertext\":[\"Motta Naluns Scuol  Scuol  \",\"Silvretta Arena Ischgl/Samnaun  Samnaun \",\"Aela-Maolja  Maloja \",\"Ardez Ardez Ardez \",\"Arosa Lenzerheide Arosa Lenzerheide Arosa \",\"Avers   \",\"Bivio   \",\"Brambrueesch/Dreibuendenstein   Chur  \",\"Brigels Brigels/Waltensburg/Andiast Brigels \",\"Buegls  S-Chanf S-Chanf \",\"Buendalift  Davos Davos \",\"Casaccia Casaccia Casaccia \",\"Corvatsch/Furtschellas St. Moritz  St. Moritz \",\"Corviglia St. Moritz  St. Moritz  \",\"Darlux   Berguen  \",\"Diavolezza/Lagalb   \",\"Disentis Disentis Disentis \",\"Druni KidsArena  Valtgeva  \",\"Fanas   \",\"Feldis   \",\"Fideriser Heuberge   Arflina  \",\"Flensa  Seewis  \",\"Gruesch Danusa   \",\"Guarda Guarda Guarda \",\"Hochwang   Goldgruben  \",\"Jakobshorn (Davos Klosters) Davos Klosters Davos \",\"Laax/Flims/Falera Laax/Flims/Falera Laax \",\"Lantsch/Lenz Lantsch/Lenz Lantsch/Lenz \",\"Madrisa (Davos Klosters) Madrisa (Davos Klosters) Klosters \",\"Mastrils   \",\"Minschuns   Val Muestair Tschierv \",\"Mottalift  Serneus  \",\"Muesella  La Punt La Punt \",\"Mutten Mutten Mutten \",\"Obersaxen/Mundaun/Val Lumnezia Obersaxen/Mundaun/Val Lumnezia Obsersaxen \",\"Pany (Luzein)   \",\"Parsenn (Davos Klosters) Davos Davos \",\"Pera  Trun  \",\"Pian Cales   San Bernardino  \",\"Pian San Giacomo (voruebergehend au\\u00dfer Betrieb)   \",\"Pischa (Davos Klosters) Klosters Klosters \",\"Pontresina   \",\"Rigi   Scheidegg/Burggeist  \",\"Rinerhorn (Davos Klosters) Rinerhorn (Davos Klosters) Klosters \",\"Rossa   \",\"Samedan   \",\"San Bernardino (voruebergehend au\\u00dfer Betrieb)   \",\"Sarn (Heinzenberg)   \",\"Savognin  Savognin \",\"Schatzalp   Strela  \",\"Selfranga  Klosters  \",\"Spluegen-Tambo Spl\\u00fcgen Spl\\u00fcgen \",\"St. Antonien   \",\"Tarasp Tarasp Tarasp \",\"Tect/Zinols  Berguen  \",\"Tenna Tenna Tenna \",\"Tschappina/Urmein (Heinzenberg)   \",\"Tschiertschen   \",\"Vals 3000   Dachberg  \",\"Wiesen  Davos Davos \",\"Zuoz   Pizzet/Albanas  \"],\"lat\":[46.73456073752036,46.963293397509545,46.364863237751976,46.76980545525554,46.76985040011519,46.43281404244733,46.45778143683959,46.85280483574362,46.79184498138597,46.597073034422046,46.76794609828249,46.38823696263745,46.4904718742201,46.4904718742201,46.64882177648663,46.43110812996824,46.745616342904725,46.637682902317245,47.00728213920991,46.79677942317628,46.88658115022135,47.02299025105603,46.96269070944919,46.80812844527582,46.76985040011519,46.76794609828249,46.80946940361612,46.70696894086709,46.8456984796935,46.95889526103386,46.64215047525024,46.73171630923618,46.5508339915912,46.66816493362288,46.71969577210207,46.94827314594246,46.76794609828249,46.741122501919165,46.471254579019,46.402506613089855,46.76794609828249,46.43110812996824,46.36288444000657,46.8456984796935,46.36288444000657,46.53324378447565,46.471254579019,46.71210058820141,46.58143154499836,46.76794609828249,46.8456984796935,46.53711280214744,46.92115551204367,46.739597015027485,46.64882177648663,46.74646856076701,46.69413277700843,46.79293831418264,46.57366287742968,46.71629979970217,46.563092012420135],\"legendgroup\":\"GR\",\"lon\":[10.326322480979911,10.402296549386907,9.719868839324064,10.18571547319242,9.668263961155043,9.512667855688926,9.6617556641193,9.529881575391462,9.028619913020853,10.038542497861902,9.8963573314359,9.65681095073542,9.817397607555568,9.817397607555568,9.688227081880305,9.924945210613515,8.848114683935938,8.75020518841021,9.687390477454327,9.442243420206994,9.739464523516869,9.660334991817129,9.639675427069156,10.14216852535166,9.668263961155043,9.8963573314359,9.263536440279069,9.579432880844514,9.965733142695504,9.529481317599735,10.298098777822313,9.548085798001736,9.930194998541245,9.487628397773571,9.071246656433194,9.768444073039513,9.8963573314359,8.978637699606935,9.188779447982034,9.22604209465057,9.8963573314359,9.924945210613515,9.135254707541376,9.965733142695504,9.135254707541376,9.84916350814332,9.188779447982034,9.384754528679458,9.602390554734022,9.8963573314359,9.965733142695504,9.32901781894772,9.762275156577834,10.246461268228591,9.688227081880305,9.325064589801473,9.392552765172107,9.60667656407656,9.13077163189438,9.720382650376324,9.980244761424686],\"marker\":{\"color\":\"#EF553B\",\"symbol\":\"circle\"},\"mode\":\"markers\",\"name\":\"GR\",\"showlegend\":true,\"type\":\"scattergeo\"},{\"geo\":\"geo\",\"hovertemplate\":\"<b>%{hovertext}</b><br><br>Kanton_Kuerzel=VS<br>Breitengrad=%{lat}<br>L\\u00e4ngengrad=%{lon}<extra></extra>\",\"hovertext\":[\"4 Vallees  Verbier/La Tzoumaz/Nendaz/Veysonnaz/Thyon Verbier \",\"Aletsch Arena  Riederalp/Bettmeralp/Fiesch Eggishorn Riederalp \",\"Anzere   \",\"Arolla   \",\"Belalp  Blatten  Blatten \",\"Bellwald   \",\"Champex Lac (Orsieres)  \",\"Crans-Montana Crans-Montana Crans-Montana \",\"Eischoll   \",\"Espace Super Saint Bernard Bourg St\",\"Evolene   \",\"Giw   Visperterminen  \",\"Grachen  Grachen \",\"Grimentz/Zinal   \",\"Gspon (Staldenried)   \",\"Heidbodme  Saas-Almagell Saas-Almagell \",\"Hohsaas  Saas-Grund Saas-Grund \",\"Jeizinen Feselalp   Gampel/Steg  \",\"La Forclaz   \",\"La Fouly   \",\"La Lorette  Bourg-Saint-Pierre Bourg-Saint-Pierre \",\"Lauchernalp   Lotschental  \",\"Les Marecottes (Salvan)   \",\"Les Portes du Soleil  Morzine/Avoriaz/Les Gets/Ch\\u00e2tel/Morgins/Champery Morzine \",\"Leukerbad Leukerbad Leukerbad \",\"L'Homazo LesHauderes LesHauderes \",\"Loco Ski Academy  Saillon(Trockenskigebiet)  \",\"Matterhorn Cervinia/Valtournenche/Zermatt/Breuil Zermatt \",\"Moosalp Buerchen/Torbel  Buerchen \",\"Muenster Geschinen  \",\"Oberwald Oberwald Oberwald \",\"Ovronnaz Ovronnaz Ovronnaz \",\"Randa\",\"Reckingen Gluringen  \",\"Rosswald   Brig  \",\"Rothwald/Wasenalp (Simplon)   \",\"Saas-Balem Saas-Balem Saas-Balem \",\"Saas-Fee Saas-Fee Saas-Fee \",\"Saint Luc/Chandolin (Anniviers)   \",\"Tasch Tasch Tasch \",\"Teleconthey  MayensdeConthey MayensdeConthey \",\"Trient  Trient \",\"Vercorin  Vercorin \",\"Vicheres (Liddes)   \",\"Wilern (Binn) Wilern(Binn) Wilern(Binn) \"],\"lat\":[46.10078963243027,46.38324689669922,46.262812596902286,46.12849584255501,46.44468051786119,46.444264660077,46.0296008266854,46.29540541268003,46.283171070507045,45.91958552047053,46.12849584255501,46.242854924921474,46.19667947383438,46.218592764037446,46.21386685616713,46.05398778706653,46.13502072096944,46.33971682726944,46.0299900787028,45.92272409582334,45.91958552047053,46.40744175033126,46.10464206000597,46.15878476470448,46.40186090118191,46.09892904180834,46.17045940215144,45.98971247998463,46.26932776492268,46.49491214375781,46.557616127858566,46.201847655003206,46.0970203841711,46.45355498604726,46.32994634256132,46.29260842034999,46.15278158758781,46.08935099845596,46.218592764037446,46.05396841795874,46.27491164960089,46.0299900787028,46.235637280323495,46.01300631355247,46.36821691837629],\"legendgroup\":\"VS\",\"lon\":[7.229654722387731,8.030317266068764,7.408739130450465,7.489540749753891,7.864555515952031,8.157027850788833,7.088673948863967,7.491754252841265,7.760861158603105,7.212782676782284,7.489540749753891,7.941120616712598,7.848896749824393,7.627190912248169,7.834679801104153,7.966905573500909,7.972356496059153,7.733603988074937,6.999472308534617,7.098041545209672,7.212782676782284,7.786978045720506,6.943422411877173,6.845953649475181,7.627363559664622,7.504504969272778,7.177709016696666,7.752671435919487,7.818288525530894,8.299635434688197,8.393572673255726,7.136419642053497,7.779275183773291,8.261511504684336,8.043078896187016,8.030598179279473,7.93519887884504,7.899558553658686,7.627190912248169,7.811223367917781,7.29248008732216,6.999472308534617,7.532961869075849,7.165678742977503,8.235580667928591],\"marker\":{\"color\":\"#00cc96\",\"symbol\":\"circle\"},\"mode\":\"markers\",\"name\":\"VS\",\"showlegend\":true,\"type\":\"scattergeo\"},{\"geo\":\"geo\",\"hovertemplate\":\"<b>%{hovertext}</b><br><br>Kanton_Kuerzel=TI<br>Breitengrad=%{lat}<br>L\\u00e4ngengrad=%{lon}<extra></extra>\",\"hovertext\":[\"Airolo-Pesc\\u00fcm Airolo Airolo \",\"Alpe di Neggia   \",\"Bedea   Novaggio  \",\"Bosco Gurin   Grossalp  \",\"Campo Blenio   \",\"Car\\u00ec   \",\"Cioss Prato  Bedretto  \",\"Dalpe   \",\"Lueina  Airolo  \",\"Mogno   \",\"Nara-Leontica Leontica Leontica \",\"Prato (Leventina)   \"],\"lat\":[46.52724920112436,46.13070651009939,46.0007977332109,46.32026934171304,46.59064564192835,46.49413731460909,46.48899164143069,46.45720670881445,46.52724920112436,46.45764891755727,46.45686140141737,46.47138610787511],\"legendgroup\":\"TI\",\"lon\":[8.63064800879524,8.856300109392365,8.862243245409564,8.483959654328785,8.943892416337835,8.844713997267677,8.477975492135688,8.76205206299213,8.63064800879524,8.641813030516209,8.93780985431501,8.745827962783105],\"marker\":{\"color\":\"#ab63fa\",\"symbol\":\"circle\"},\"mode\":\"markers\",\"name\":\"TI\",\"showlegend\":true,\"type\":\"scattergeo\"},{\"geo\":\"geo\",\"hovertemplate\":\"<b>%{hovertext}</b><br><br>Kanton_Kuerzel=AI<br>Breitengrad=%{lat}<br>L\\u00e4ngengrad=%{lon}<extra></extra>\",\"hovertext\":[\"Alpsteinblick   Gonten  \",\"Ebenalp-Horn Horn  Schwende \",\"Fischenthal Aurueti  Oberegg \",\"Oberegg SkiliftSt.Anton  \",\"Sollegg Appenzell  \"],\"lat\":[47.306362530106384,47.26440419635024,47.41650709807815,47.41650709807815,47.356282463954166],\"legendgroup\":\"AI\",\"lon\":[9.329920654017526,9.39184842289109,9.553275500570845,9.553275500570845,9.401495999570932],\"marker\":{\"color\":\"#FFA15A\",\"symbol\":\"circle\"},\"mode\":\"markers\",\"name\":\"AI\",\"showlegend\":true,\"type\":\"scattergeo\"},{\"geo\":\"geo\",\"hovertemplate\":\"<b>%{hovertext}</b><br><br>Kanton_Kuerzel=UR<br>Breitengrad=%{lat}<br>L\\u00e4ngengrad=%{lon}<extra></extra>\",\"hovertext\":[\"Andermatt/Oberalp/Sedrun Andermatt Andermatt \",\"Biel Kinzig  Buerglen \",\"Bruesti   Attinghausen  \",\"Eggberge  Altdorf  \",\"Gemsstock   Andermatt  \",\"Gitschenen  Isenthal  \",\"Kellerberg- Haldi Schattdorf Schattdorf \",\"Ratzi  Spiringen  \",\"Realp (voruebergehend au\\u00dfer Betrieb)   \",\"Urnerboden Urnerboden Urnerboden \"],\"lat\":[46.6205227352232,46.8854102471779,46.85345258248684,46.88772086348615,46.6205227352232,46.88661696319931,46.85649718679535,46.87598223000994,46.58032873671343,46.87957457563218],\"legendgroup\":\"UR\",\"lon\":[8.631412588665953,8.689736668035382,8.598538707032889,8.641409070020176,8.631412588665953,8.525345254078607,8.652078587930477,8.73517787648612,8.47013362821995,8.901892747254871],\"marker\":{\"color\":\"#19d3f3\",\"symbol\":\"circle\"},\"mode\":\"markers\",\"name\":\"UR\",\"showlegend\":true,\"type\":\"scattergeo\"},{\"geo\":\"geo\",\"hovertemplate\":\"<b>%{hovertext}</b><br><br>Kanton_Kuerzel=SG<br>Breitengrad=%{lat}<br>L\\u00e4ngengrad=%{lon}<extra></extra>\",\"hovertext\":[\"Arvenbueel/Mattstock Amden  Amden  \",\"Atzmannig  Goldingen Goldingen \",\"Beckenhalde   St. Gallen  \",\"Bildhaus   Gommiswald am Ricken  \",\"Buchserberg Malbun Buchs \",\"Chaserrugg  Unterwasser/Alt St. Johann (Toggenburg) Unterwasser \",\"Degersheim   Fuchsacker  \",\"Flumserberg Flumserberg Flumserberg \",\"Gahwil   \",\"Gampluet   \",\"Hemberg   \",\"Hochwacht  Mosnang  \",\"Hornli  Hemberg Bachli \",\"Krinau   \",\"Lukaslift  Grabs  \",\"Mittlerwengi  Kaltbrunn  \",\"Oberhelfenschwil   \",\"Pizol   Bad Ragaz/Wangs Bad Ragaz \",\"Santis  Schwagalp Schwagalp \",\"Schlosslihang St.Gallen  \",\"Tristeli  St.Margrethenberg St.Margrethenberg \",\"Walenstadtberg   \",\"Weisstannen   \",\"Wildhaus   Gamserrugg (Toggenburg)  \",\"Wolzenalp  Krummenau  \"],\"lat\":[47.159937277478924,47.28468899034298,47.41542320778775,47.2315344658155,47.17058801086377,47.19640189063639,47.37336760998512,47.080510579678574,47.39385268852025,47.21653899109159,47.30048518581119,47.35934751733251,47.30048518581119,47.317780245425006,47.17058801086377,47.20996125550636,47.34827121672728,46.996887498770654,47.24549706352807,47.40805048061931,46.996887498770654,47.1223504128056,46.97191521650233,47.21653899109159,47.25801696028455],\"legendgroup\":\"SG\",\"lon\":[9.167879637010529,8.973941300328173,9.402118008674345,9.020101862200692,9.458011707493556,9.306520672600897,9.198077544869747,9.268297810961178,8.998167254178435,9.352737526840947,9.20160315186423,9.038701711759767,9.20160315186423,9.052111215793683,9.458011707493556,9.049151526815889,9.106608376376265,9.47307401366276,9.259205763119262,9.335622409645111,9.47307401366276,9.310672076365112,9.304744165089732,9.352737526840947,9.18689401091768],\"marker\":{\"color\":\"#FF6692\",\"symbol\":\"circle\"},\"mode\":\"markers\",\"name\":\"SG\",\"showlegend\":true,\"type\":\"scattergeo\"},{\"geo\":\"geo\",\"hovertemplate\":\"<b>%{hovertext}</b><br><br>Kanton_Kuerzel=AG<br>Breitengrad=%{lat}<br>L\\u00e4ngengrad=%{lon}<extra></extra>\",\"hovertext\":[\"Asp (Densbueren)   \",\"Bottenwil  PizGraben  \",\"Fohrlimatt  Wegenstetten  \",\"Holderbank  SkiliftEngi  \",\"Horben  Lindenberg  \",\"Rotberg  Villigen  \"],\"lat\":[47.4187944676473,47.284727446778696,47.49388233047687,47.43093670861296,47.24900521493852,47.53006881810674],\"legendgroup\":\"AG\",\"lon\":[8.083026786733928,8.00207078689998,7.931230907875876,8.170660199279535,8.325980483106619,8.20626832408848],\"marker\":{\"color\":\"#B6E880\",\"symbol\":\"circle\"},\"mode\":\"markers\",\"name\":\"AG\",\"showlegend\":true,\"type\":\"scattergeo\"},{\"geo\":\"geo\",\"hovertemplate\":\"<b>%{hovertext}</b><br><br>Kanton_Kuerzel=NW<br>Breitengrad=%{lat}<br>L\\u00e4ngengrad=%{lon}<extra></extra>\",\"hovertext\":[\"Bannalp   Oberrickenbach  \",\"Haldigrat Niederrickenbach Niederrickenbach \",\"Klewenalp/Stockhuette  Beckenried/Emmetten Beckenried \",\"Langmattli  Hergiswil  \",\"Wirzweli  Dallenwil Dallenwil \"],\"lat\":[46.9222625837078,46.95878133022972,46.95024548032024,46.98593583992817,46.9222625837078],\"legendgroup\":\"NW\",\"lon\":[8.383619421064276,8.363311308496687,8.471607128421299,8.281314284428433,8.383619421064276],\"marker\":{\"color\":\"#FF97FF\",\"symbol\":\"circle\"},\"mode\":\"markers\",\"name\":\"NW\",\"showlegend\":true,\"type\":\"scattergeo\"},{\"geo\":\"geo\",\"hovertemplate\":\"<b>%{hovertext}</b><br><br>Kanton_Kuerzel=ZH<br>Breitengrad=%{lat}<br>L\\u00e4ngengrad=%{lon}<extra></extra>\",\"hovertext\":[\"Baretswil   \",\"Dicki   Weisslingen  \",\"Dietikon   \",\"Ghoch   \",\"Oberholz Farner  \",\"Regensberg Erlenhof  ImBuck \",\"Steg im Tosstal   \",\"Sternenberg Schatzbol  \",\"Wildberg Schafbueel  \"],\"lat\":[47.33885881311072,47.45049253417624,47.395034158969146,47.34111963791964,47.28881201093997,47.47818420344301,47.34111963791964,47.38884556499081,47.40520515575772],\"legendgroup\":\"ZH\",\"lon\":[8.871485791943323,8.804134041861316,8.449001595827898,8.95136119206518,8.923126425608599,8.428312101510604,8.95136119206518,8.91401823549601,8.833107289508837],\"marker\":{\"color\":\"#FECB52\",\"symbol\":\"circle\"},\"mode\":\"markers\",\"name\":\"ZH\",\"showlegend\":true,\"type\":\"scattergeo\"},{\"geo\":\"geo\",\"hovertemplate\":\"<b>%{hovertext}</b><br><br>Kanton_Kuerzel=VD<br>Breitengrad=%{lat}<br>L\\u00e4ngengrad=%{lon}<extra></extra>\",\"hovertext\":[\"Basse Ruche   \",\"Dent de Jaman  Montreux Montreux \",\"Dent de Vaulion  LeMorez  \",\"Glacier 3000  Les Diablerets  Les Diablerets \",\"Haut de Caux \",\"La Braye  Ch\\u00e2teaud'Oex Ch\\u00e2teaud'Oex \",\"La D\\u00f4le/Les Tuffes (Jura sur Leman)   \",\"La Trelasse   \",\"L'Abbaye   \",\"Le Brassus   \",\"Les Mosses/La Lecherette   \",\"Les Pleiades Les Pleiades Les Pleiades \",\"Les Prevondes   \",\"Les Rasses   Sainte Sainte-Croix \",\"Leysin Leysin Leysin \",\"L'Orient   \",\"Orgevaux/Les Avants Montreux Montreux \",\"Rochers de Naye   Montreux  \",\"Saint George  \",\"St. Cergue   \",\"Villars/Gryon/Les Diablerets Villars/Gryon/Les Diablerets Villars \"],\"lat\":[46.45103884444971,46.42430811917527,46.77623871899399,46.34393976506284,46.44245463194165,46.453109405926206,46.45103884444971,46.45103884444971,46.64053104806485,46.568538943492825,46.453109405926206,46.45465492545657,46.42430811917527,46.80852438560281,46.35252935486932,46.59115267054111,46.42430811917527,46.42430811917527,46.52261211040082,46.45103884444971,46.29546090705609],\"legendgroup\":\"VD\",\"lon\":[6.141447545729431,6.920497482541422,6.638517507154847,7.175707382026521,6.964753535578825,7.099815171977348,6.141447545729431,6.141447545729431,6.323997863325195,6.190567671432426,7.099815171977348,6.903515737764544,6.920497482541422,6.498405200059012,7.011130831233223,6.257683519055614,6.920497482541422,6.920497482541422,6.257700212851227,6.141447545729431,7.019080457855518],\"marker\":{\"color\":\"#636efa\",\"symbol\":\"circle\"},\"mode\":\"markers\",\"name\":\"VD\",\"showlegend\":true,\"type\":\"scattergeo\"},{\"geo\":\"geo\",\"hovertemplate\":\"<b>%{hovertext}</b><br><br>Kanton_Kuerzel=SZ<br>Breitengrad=%{lat}<br>L\\u00e4ngengrad=%{lon}<extra></extra>\",\"hovertext\":[\"Bennau   Einsiedeln  \",\"Brunni  Alpthal  \",\"Friherrenberg  Einsiedeln  \",\"Fronalpstock/Klingenstock Stoos Stoos  \",\"Hoch Ybrig  Unteriberg/Oberiberg Oberiberg \",\"Mythenregion Schwyz Schwyz \",\"Neusell  Rothenthurm Biberegg \",\"Oberiberg   \",\"Rigi Rigi Rigi \",\"Sattelegg   Vorderthal/Einsiedeln Willerzell \",\"Sattel-Hochstuckli Sattel  Sattel  \",\"Schnabelsberg Bennau(Einsiedeln)  \",\"Seebodenalp   Kuessnacht  \",\"Telli  Morschach  \",\"Vorderthal SkiliftWagital  \"],\"lat\":[47.15064032536861,47.05779658301815,47.13155976005248,46.97637206245401,47.03077671198638,47.034584563807165,47.101974211270665,47.034584563807165,47.07891509687347,47.12988696278169,47.07992008082552,47.15064032536861,47.07891509687347,46.97637206245401,47.12626325849101],\"legendgroup\":\"SZ\",\"lon\":[8.714527787397953,8.714512853120672,8.744057572485739,8.621587288522573,8.761717124248628,8.66672685809677,8.68045957652215,8.66672685809677,8.445676394831297,8.810499250099674,8.631212196276863,8.714527787397953,8.445676394831297,8.621587288522573,8.889344288245853],\"marker\":{\"color\":\"#EF553B\",\"symbol\":\"circle\"},\"mode\":\"markers\",\"name\":\"SZ\",\"showlegend\":true,\"type\":\"scattergeo\"},{\"geo\":\"geo\",\"hovertemplate\":\"<b>%{hovertext}</b><br><br>Kanton_Kuerzel=AR<br>Breitengrad=%{lat}<br>L\\u00e4ngengrad=%{lon}<extra></extra>\",\"hovertext\":[\"Blatten  Speicher  \",\"Gais   \",\"Grub Kaien  \",\"Heiden  Bischofsberg  \",\"Schwellbrunn   \",\"Urnasch   Osteregg  \",\"Vogelinsegg  Speicher  \"],\"lat\":[47.409862286253095,47.36795879716399,47.44119600880302,47.44081827013916,47.35161763772511,47.29492749237434,47.409862286253095],\"legendgroup\":\"AR\",\"lon\":[9.440951839043564,9.471413241319576,9.501692923483422,9.534855238128069,9.23622826196516,9.277883101970623,9.440951839043564],\"marker\":{\"color\":\"#00cc96\",\"symbol\":\"circle\"},\"mode\":\"markers\",\"name\":\"AR\",\"showlegend\":true,\"type\":\"scattergeo\"},{\"geo\":\"geo\",\"hovertemplate\":\"<b>%{hovertext}</b><br><br>Kanton_Kuerzel=GL<br>Breitengrad=%{lat}<br>L\\u00e4ngengrad=%{lon}<extra></extra>\",\"hovertext\":[\"Braunwald Braunwald Braunwald \",\"Dreieck   Glarus  \",\"Elm im Sernftal   \",\"Kerenzerberg  Filzbach  \",\"Mugi  Netstal  \",\"Schilt  Mollis  \",\"Schwanden   Sigriswil  \"],\"lat\":[46.94584834554261,47.04956343988005,46.90606792468636,47.10146294306594,47.06380999727713,47.093821153450165,47.01246248853029],\"legendgroup\":\"GL\",\"lon\":[8.984506744734935,9.039353103625862,9.156363943907312,9.125344571730311,9.041722412029596,9.091373359754918,9.1248674416192],\"marker\":{\"color\":\"#ab63fa\",\"symbol\":\"circle\"},\"mode\":\"markers\",\"name\":\"GL\",\"showlegend\":true,\"type\":\"scattergeo\"},{\"geo\":\"geo\",\"hovertemplate\":\"<b>%{hovertext}</b><br><br>Kanton_Kuerzel=NE<br>Breitengrad=%{lat}<br>L\\u00e4ngengrad=%{lon}<extra></extra>\",\"hovertext\":[\"Brot Plamboz  \",\"Chapeau R\\u00e2ble   La Chaux de Fonds\",\"La Brevine   \",\"La Corbatiere   La Roche aux Crocs\",\"La C\\u00f4te aux Fees \",\"La Robella   Buttes (Val de Travers)\",\"La Sagne   \",\"Le Cr\\u00eat Meuron Fontaines(LesGollieres) \",\"Les Loges  LaVuedesAlpes  \",\"Les Verrieres   \",\"Sommartel  LeLocle  \"],\"lat\":[46.98310270593748,47.11346368460821,46.97188919629928,47.11346368460821,46.8633879470283,46.87949085540813,47.04744928439978,47.06654020285924,47.06654020285924,46.91439528255655,47.03519378227565],\"legendgroup\":\"NE\",\"lon\":[6.748598940529313,6.834788342896368,6.602857688160449,6.834788342896368,6.485325767073004,6.543208481104002,6.802142792720664,6.869407833975434,6.869407833975434,6.474783915790059,6.712721011849587],\"marker\":{\"color\":\"#FFA15A\",\"symbol\":\"circle\"},\"mode\":\"markers\",\"name\":\"NE\",\"showlegend\":true,\"type\":\"scattergeo\"},{\"geo\":\"geo\",\"hovertemplate\":\"<b>%{hovertext}</b><br><br>Kanton_Kuerzel=OW<br>Breitengrad=%{lat}<br>L\\u00e4ngengrad=%{lon}<extra></extra>\",\"hovertext\":[\"Brunni   Engelberg  \",\"Langis Langis Langis \",\"Melchsee-Frutt Kerns Kerns \",\"Morlialp  Giswil Giswil \",\"Titlis  Engelberg Engelberg \"],\"lat\":[46.81454661300316,46.83752401859071,46.90705837457296,46.83752401859071,46.81454661300316],\"legendgroup\":\"OW\",\"lon\":[8.441246114230253,8.121950601420881,8.30280660001364,8.121950601420881,8.441246114230253],\"marker\":{\"color\":\"#19d3f3\",\"symbol\":\"circle\"},\"mode\":\"markers\",\"name\":\"OW\",\"showlegend\":true,\"type\":\"scattergeo\"},{\"geo\":\"geo\",\"hovertemplate\":\"<b>%{hovertext}</b><br><br>Kanton_Kuerzel=FR<br>Breitengrad=%{lat}<br>L\\u00e4ngengrad=%{lon}<extra></extra>\",\"hovertext\":[\"Charmey   \",\"Hapfere  Plaffeien  \",\"Jaun   \",\"Kaiseregg/Riggisalp  Schwarzsee Schwarzsee \",\"La Berra  La Roche La Roche \",\"La Chia  Bulle  \",\"Le P\\u00e2quier   Cr\\u00eat du Puy\",\"Les Paccots/Ch\\u00e2tel Les Paccots/Ch\\u00e2tel Les Paccots \",\"Les Paccots/Granges  Mont Chesau \",\"Moleson   \",\"Mont Gibloux   \",\"Nax  Mont Noble \",\"Rathvel   Ch\\u00e2tel St Denis\"],\"lat\":[46.59373260297209,46.73690503467711,46.59129220007462,46.73690503467711,46.6925149445394,46.60214327821387,46.59039937984119,46.50736129661608,46.522961633257225,46.58886611971624,46.69750560806696,46.91237106789664,46.50736129661608],\"legendgroup\":\"FR\",\"lon\":[7.195768770679854,7.2696940142324,7.237415121349573,7.2696940142324,7.160606301311321,7.02230091359197,7.051888853664313,6.96628380150331,6.826278094633602,7.035375037769224,7.0309409761717125,7.174366123624522,6.96628380150331],\"marker\":{\"color\":\"#FF6692\",\"symbol\":\"circle\"},\"mode\":\"markers\",\"name\":\"FR\",\"showlegend\":true,\"type\":\"scattergeo\"},{\"geo\":\"geo\",\"hovertemplate\":\"<b>%{hovertext}</b><br><br>Kanton_Kuerzel=SH<br>Breitengrad=%{lat}<br>L\\u00e4ngengrad=%{lon}<extra></extra>\",\"hovertext\":[\"Egg  Hallau  \",\"Stich  Opfertshofen  \"],\"lat\":[47.70045692969688,47.77251888070899],\"legendgroup\":\"SH\",\"lon\":[8.44318407762118,8.659194169308732],\"marker\":{\"color\":\"#B6E880\",\"symbol\":\"circle\"},\"mode\":\"markers\",\"name\":\"SH\",\"showlegend\":true,\"type\":\"scattergeo\"},{\"geo\":\"geo\",\"hovertemplate\":\"<b>%{hovertext}</b><br><br>Kanton_Kuerzel=LU<br>Breitengrad=%{lat}<br>L\\u00e4ngengrad=%{lon}<extra></extra>\",\"hovertext\":[\"Gfellen  Entlebuch Finsterwald \",\"Heiligkreuz First Hasle \",\"Schratten Fluehli   \",\"Sorenberg  Sorenberg  S\\u00f6renberg \"],\"lat\":[46.98838863398822,46.95915105746656,46.88254228861547,46.816055638109965],\"legendgroup\":\"LU\",\"lon\":[8.0746769866983,8.067043258781686,8.024904389987453,8.0088804940475],\"marker\":{\"color\":\"#FF97FF\",\"symbol\":\"circle\"},\"mode\":\"markers\",\"name\":\"LU\",\"showlegend\":true,\"type\":\"scattergeo\"},{\"geo\":\"geo\",\"hovertemplate\":\"<b>%{hovertext}</b><br><br>Kanton_Kuerzel=SO<br>Breitengrad=%{lat}<br>L\\u00e4ngengrad=%{lon}<extra></extra>\",\"hovertext\":[\"Grenchenberg  Grenchen  \",\"Gsahl  Hauenstein Ifenthal \",\"Hohe Winde  Beinwil  \",\"Lommiswil Bitzirain  \",\"Nunningen   \",\"Saalhohe   \",\"Schauenburg   \",\"Schwengimatt   \",\"Tanzboden   Ebnat Kappel \"],\"lat\":[47.19722103317002,47.37127715145244,47.35777645338548,47.247182644396,47.39769172998329,47.440341888114986,47.21746364408902,47.31434681121171,47.32096026737068],\"legendgroup\":\"SO\",\"lon\":[7.387598226607045,7.855839312860544,7.595065750585048,7.4851994935077375,7.616626851360783,7.96720967600817,7.448068349755802,7.700303642644949,7.857329500202854],\"marker\":{\"color\":\"#FECB52\",\"symbol\":\"circle\"},\"mode\":\"markers\",\"name\":\"SO\",\"showlegend\":true,\"type\":\"scattergeo\"},{\"geo\":\"geo\",\"hovertemplate\":\"<b>%{hovertext}</b><br><br>Kanton_Kuerzel=BL<br>Breitengrad=%{lat}<br>L\\u00e4ngengrad=%{lon}<extra></extra>\",\"hovertext\":[\"Langenbruck  Untere/ObereWanne  \",\"Schafmatt  Oltingen  \",\"Staffelalp  Zeglingen  \"],\"lat\":[47.35767024683338,47.43023504879295,47.41213049086207],\"legendgroup\":\"BL\",\"lon\":[7.771089371088486,7.937253431074494,7.91233346325035],\"marker\":{\"color\":\"#636efa\",\"symbol\":\"circle\"},\"mode\":\"markers\",\"name\":\"BL\",\"showlegend\":true,\"type\":\"scattergeo\"},{\"geo\":\"geo\",\"hovertemplate\":\"<b>%{hovertext}</b><br><br>Kanton_Kuerzel=JU<br>Breitengrad=%{lat}<br>L\\u00e4ngengrad=%{lon}<extra></extra>\",\"hovertext\":[\"Les Breuleux   \",\"Les Genevez   \"],\"lat\":[47.20303308832165,47.2557122817057],\"legendgroup\":\"JU\",\"lon\":[6.992837688364893,7.096536070207812],\"marker\":{\"color\":\"#EF553B\",\"symbol\":\"circle\"},\"mode\":\"markers\",\"name\":\"JU\",\"showlegend\":true,\"type\":\"scattergeo\"},{\"geo\":\"geo\",\"hovertemplate\":\"<b>%{hovertext}</b><br><br>Kanton_Kuerzel=TG<br>Breitengrad=%{lat}<br>L\\u00e4ngengrad=%{lon}<extra></extra>\",\"hovertext\":[\"Mammern Klingenzell  \",\"Nollen Hosenruck(Wuppenau)  \",\"Sitzberg  Fischingen  \"],\"lat\":[47.64666451467656,47.497216008932845,47.44660298965666],\"legendgroup\":\"TG\",\"lon\":[8.921361706529543,9.105808017793684,8.98723561921133],\"marker\":{\"color\":\"#00cc96\",\"symbol\":\"circle\"},\"mode\":\"markers\",\"name\":\"TG\",\"showlegend\":true,\"type\":\"scattergeo\"},{\"geo\":\"geo\",\"hovertemplate\":\"<b>%{hovertext}</b><br><br>Kanton_Kuerzel=ZG<br>Breitengrad=%{lat}<br>L\\u00e4ngengrad=%{lon}<extra></extra>\",\"hovertext\":[\"Nollen  Unterageri  \",\"Raten  Oberageri  \",\"Zugerberg   \"],\"lat\":[47.12001627660013,47.14463702980226,47.14119363074207],\"legendgroup\":\"ZG\",\"lon\":[8.580724621182197,8.655764031050886,8.531989125823754],\"marker\":{\"color\":\"#ab63fa\",\"symbol\":\"circle\"},\"mode\":\"markers\",\"name\":\"ZG\",\"showlegend\":true,\"type\":\"scattergeo\"}],                        {\"template\":{\"data\":{\"histogram2dcontour\":[{\"type\":\"histogram2dcontour\",\"colorbar\":{\"outlinewidth\":0,\"ticks\":\"\"},\"colorscale\":[[0.0,\"#0d0887\"],[0.1111111111111111,\"#46039f\"],[0.2222222222222222,\"#7201a8\"],[0.3333333333333333,\"#9c179e\"],[0.4444444444444444,\"#bd3786\"],[0.5555555555555556,\"#d8576b\"],[0.6666666666666666,\"#ed7953\"],[0.7777777777777778,\"#fb9f3a\"],[0.8888888888888888,\"#fdca26\"],[1.0,\"#f0f921\"]]}],\"choropleth\":[{\"type\":\"choropleth\",\"colorbar\":{\"outlinewidth\":0,\"ticks\":\"\"}}],\"histogram2d\":[{\"type\":\"histogram2d\",\"colorbar\":{\"outlinewidth\":0,\"ticks\":\"\"},\"colorscale\":[[0.0,\"#0d0887\"],[0.1111111111111111,\"#46039f\"],[0.2222222222222222,\"#7201a8\"],[0.3333333333333333,\"#9c179e\"],[0.4444444444444444,\"#bd3786\"],[0.5555555555555556,\"#d8576b\"],[0.6666666666666666,\"#ed7953\"],[0.7777777777777778,\"#fb9f3a\"],[0.8888888888888888,\"#fdca26\"],[1.0,\"#f0f921\"]]}],\"heatmap\":[{\"type\":\"heatmap\",\"colorbar\":{\"outlinewidth\":0,\"ticks\":\"\"},\"colorscale\":[[0.0,\"#0d0887\"],[0.1111111111111111,\"#46039f\"],[0.2222222222222222,\"#7201a8\"],[0.3333333333333333,\"#9c179e\"],[0.4444444444444444,\"#bd3786\"],[0.5555555555555556,\"#d8576b\"],[0.6666666666666666,\"#ed7953\"],[0.7777777777777778,\"#fb9f3a\"],[0.8888888888888888,\"#fdca26\"],[1.0,\"#f0f921\"]]}],\"heatmapgl\":[{\"type\":\"heatmapgl\",\"colorbar\":{\"outlinewidth\":0,\"ticks\":\"\"},\"colorscale\":[[0.0,\"#0d0887\"],[0.1111111111111111,\"#46039f\"],[0.2222222222222222,\"#7201a8\"],[0.3333333333333333,\"#9c179e\"],[0.4444444444444444,\"#bd3786\"],[0.5555555555555556,\"#d8576b\"],[0.6666666666666666,\"#ed7953\"],[0.7777777777777778,\"#fb9f3a\"],[0.8888888888888888,\"#fdca26\"],[1.0,\"#f0f921\"]]}],\"contourcarpet\":[{\"type\":\"contourcarpet\",\"colorbar\":{\"outlinewidth\":0,\"ticks\":\"\"}}],\"contour\":[{\"type\":\"contour\",\"colorbar\":{\"outlinewidth\":0,\"ticks\":\"\"},\"colorscale\":[[0.0,\"#0d0887\"],[0.1111111111111111,\"#46039f\"],[0.2222222222222222,\"#7201a8\"],[0.3333333333333333,\"#9c179e\"],[0.4444444444444444,\"#bd3786\"],[0.5555555555555556,\"#d8576b\"],[0.6666666666666666,\"#ed7953\"],[0.7777777777777778,\"#fb9f3a\"],[0.8888888888888888,\"#fdca26\"],[1.0,\"#f0f921\"]]}],\"surface\":[{\"type\":\"surface\",\"colorbar\":{\"outlinewidth\":0,\"ticks\":\"\"},\"colorscale\":[[0.0,\"#0d0887\"],[0.1111111111111111,\"#46039f\"],[0.2222222222222222,\"#7201a8\"],[0.3333333333333333,\"#9c179e\"],[0.4444444444444444,\"#bd3786\"],[0.5555555555555556,\"#d8576b\"],[0.6666666666666666,\"#ed7953\"],[0.7777777777777778,\"#fb9f3a\"],[0.8888888888888888,\"#fdca26\"],[1.0,\"#f0f921\"]]}],\"mesh3d\":[{\"type\":\"mesh3d\",\"colorbar\":{\"outlinewidth\":0,\"ticks\":\"\"}}],\"scatter\":[{\"fillpattern\":{\"fillmode\":\"overlay\",\"size\":10,\"solidity\":0.2},\"type\":\"scatter\"}],\"parcoords\":[{\"type\":\"parcoords\",\"line\":{\"colorbar\":{\"outlinewidth\":0,\"ticks\":\"\"}}}],\"scatterpolargl\":[{\"type\":\"scatterpolargl\",\"marker\":{\"colorbar\":{\"outlinewidth\":0,\"ticks\":\"\"}}}],\"bar\":[{\"error_x\":{\"color\":\"#2a3f5f\"},\"error_y\":{\"color\":\"#2a3f5f\"},\"marker\":{\"line\":{\"color\":\"#E5ECF6\",\"width\":0.5},\"pattern\":{\"fillmode\":\"overlay\",\"size\":10,\"solidity\":0.2}},\"type\":\"bar\"}],\"scattergeo\":[{\"type\":\"scattergeo\",\"marker\":{\"colorbar\":{\"outlinewidth\":0,\"ticks\":\"\"}}}],\"scatterpolar\":[{\"type\":\"scatterpolar\",\"marker\":{\"colorbar\":{\"outlinewidth\":0,\"ticks\":\"\"}}}],\"histogram\":[{\"marker\":{\"pattern\":{\"fillmode\":\"overlay\",\"size\":10,\"solidity\":0.2}},\"type\":\"histogram\"}],\"scattergl\":[{\"type\":\"scattergl\",\"marker\":{\"colorbar\":{\"outlinewidth\":0,\"ticks\":\"\"}}}],\"scatter3d\":[{\"type\":\"scatter3d\",\"line\":{\"colorbar\":{\"outlinewidth\":0,\"ticks\":\"\"}},\"marker\":{\"colorbar\":{\"outlinewidth\":0,\"ticks\":\"\"}}}],\"scattermapbox\":[{\"type\":\"scattermapbox\",\"marker\":{\"colorbar\":{\"outlinewidth\":0,\"ticks\":\"\"}}}],\"scatterternary\":[{\"type\":\"scatterternary\",\"marker\":{\"colorbar\":{\"outlinewidth\":0,\"ticks\":\"\"}}}],\"scattercarpet\":[{\"type\":\"scattercarpet\",\"marker\":{\"colorbar\":{\"outlinewidth\":0,\"ticks\":\"\"}}}],\"carpet\":[{\"aaxis\":{\"endlinecolor\":\"#2a3f5f\",\"gridcolor\":\"white\",\"linecolor\":\"white\",\"minorgridcolor\":\"white\",\"startlinecolor\":\"#2a3f5f\"},\"baxis\":{\"endlinecolor\":\"#2a3f5f\",\"gridcolor\":\"white\",\"linecolor\":\"white\",\"minorgridcolor\":\"white\",\"startlinecolor\":\"#2a3f5f\"},\"type\":\"carpet\"}],\"table\":[{\"cells\":{\"fill\":{\"color\":\"#EBF0F8\"},\"line\":{\"color\":\"white\"}},\"header\":{\"fill\":{\"color\":\"#C8D4E3\"},\"line\":{\"color\":\"white\"}},\"type\":\"table\"}],\"barpolar\":[{\"marker\":{\"line\":{\"color\":\"#E5ECF6\",\"width\":0.5},\"pattern\":{\"fillmode\":\"overlay\",\"size\":10,\"solidity\":0.2}},\"type\":\"barpolar\"}],\"pie\":[{\"automargin\":true,\"type\":\"pie\"}]},\"layout\":{\"autotypenumbers\":\"strict\",\"colorway\":[\"#636efa\",\"#EF553B\",\"#00cc96\",\"#ab63fa\",\"#FFA15A\",\"#19d3f3\",\"#FF6692\",\"#B6E880\",\"#FF97FF\",\"#FECB52\"],\"font\":{\"color\":\"#2a3f5f\"},\"hovermode\":\"closest\",\"hoverlabel\":{\"align\":\"left\"},\"paper_bgcolor\":\"white\",\"plot_bgcolor\":\"#E5ECF6\",\"polar\":{\"bgcolor\":\"#E5ECF6\",\"angularaxis\":{\"gridcolor\":\"white\",\"linecolor\":\"white\",\"ticks\":\"\"},\"radialaxis\":{\"gridcolor\":\"white\",\"linecolor\":\"white\",\"ticks\":\"\"}},\"ternary\":{\"bgcolor\":\"#E5ECF6\",\"aaxis\":{\"gridcolor\":\"white\",\"linecolor\":\"white\",\"ticks\":\"\"},\"baxis\":{\"gridcolor\":\"white\",\"linecolor\":\"white\",\"ticks\":\"\"},\"caxis\":{\"gridcolor\":\"white\",\"linecolor\":\"white\",\"ticks\":\"\"}},\"coloraxis\":{\"colorbar\":{\"outlinewidth\":0,\"ticks\":\"\"}},\"colorscale\":{\"sequential\":[[0.0,\"#0d0887\"],[0.1111111111111111,\"#46039f\"],[0.2222222222222222,\"#7201a8\"],[0.3333333333333333,\"#9c179e\"],[0.4444444444444444,\"#bd3786\"],[0.5555555555555556,\"#d8576b\"],[0.6666666666666666,\"#ed7953\"],[0.7777777777777778,\"#fb9f3a\"],[0.8888888888888888,\"#fdca26\"],[1.0,\"#f0f921\"]],\"sequentialminus\":[[0.0,\"#0d0887\"],[0.1111111111111111,\"#46039f\"],[0.2222222222222222,\"#7201a8\"],[0.3333333333333333,\"#9c179e\"],[0.4444444444444444,\"#bd3786\"],[0.5555555555555556,\"#d8576b\"],[0.6666666666666666,\"#ed7953\"],[0.7777777777777778,\"#fb9f3a\"],[0.8888888888888888,\"#fdca26\"],[1.0,\"#f0f921\"]],\"diverging\":[[0,\"#8e0152\"],[0.1,\"#c51b7d\"],[0.2,\"#de77ae\"],[0.3,\"#f1b6da\"],[0.4,\"#fde0ef\"],[0.5,\"#f7f7f7\"],[0.6,\"#e6f5d0\"],[0.7,\"#b8e186\"],[0.8,\"#7fbc41\"],[0.9,\"#4d9221\"],[1,\"#276419\"]]},\"xaxis\":{\"gridcolor\":\"white\",\"linecolor\":\"white\",\"ticks\":\"\",\"title\":{\"standoff\":15},\"zerolinecolor\":\"white\",\"automargin\":true,\"zerolinewidth\":2},\"yaxis\":{\"gridcolor\":\"white\",\"linecolor\":\"white\",\"ticks\":\"\",\"title\":{\"standoff\":15},\"zerolinecolor\":\"white\",\"automargin\":true,\"zerolinewidth\":2},\"scene\":{\"xaxis\":{\"backgroundcolor\":\"#E5ECF6\",\"gridcolor\":\"white\",\"linecolor\":\"white\",\"showbackground\":true,\"ticks\":\"\",\"zerolinecolor\":\"white\",\"gridwidth\":2},\"yaxis\":{\"backgroundcolor\":\"#E5ECF6\",\"gridcolor\":\"white\",\"linecolor\":\"white\",\"showbackground\":true,\"ticks\":\"\",\"zerolinecolor\":\"white\",\"gridwidth\":2},\"zaxis\":{\"backgroundcolor\":\"#E5ECF6\",\"gridcolor\":\"white\",\"linecolor\":\"white\",\"showbackground\":true,\"ticks\":\"\",\"zerolinecolor\":\"white\",\"gridwidth\":2}},\"shapedefaults\":{\"line\":{\"color\":\"#2a3f5f\"}},\"annotationdefaults\":{\"arrowcolor\":\"#2a3f5f\",\"arrowhead\":0,\"arrowwidth\":1},\"geo\":{\"bgcolor\":\"white\",\"landcolor\":\"#E5ECF6\",\"subunitcolor\":\"white\",\"showland\":true,\"showlakes\":true,\"lakecolor\":\"white\"},\"title\":{\"x\":0.05},\"mapbox\":{\"style\":\"light\"}}},\"geo\":{\"domain\":{\"x\":[0.0,1.0],\"y\":[0.0,1.0]},\"center\":{},\"scope\":\"europe\",\"fitbounds\":\"locations\"},\"legend\":{\"title\":{\"text\":\"Kanton_Kuerzel\"},\"tracegroupgap\":0},\"margin\":{\"t\":40,\"r\":0,\"l\":0,\"b\":0},\"height\":600,\"showlegend\":false,\"paper_bgcolor\":\"#2a2f4a\"},                        {\"responsive\": true}                    ).then(function(){\n",
       "                            \n",
       "var gd = document.getElementById('8e9f3a16-bda1-49a3-abb9-c74069c19d68');\n",
       "var x = new MutationObserver(function (mutations, observer) {{\n",
       "        var display = window.getComputedStyle(gd).display;\n",
       "        if (!display || display === 'none') {{\n",
       "            console.log([gd, 'removed!']);\n",
       "            Plotly.purge(gd);\n",
       "            observer.disconnect();\n",
       "        }}\n",
       "}});\n",
       "\n",
       "// Listen for the removal of the full notebook cells\n",
       "var notebookContainer = gd.closest('#notebook-container');\n",
       "if (notebookContainer) {{\n",
       "    x.observe(notebookContainer, {childList: true});\n",
       "}}\n",
       "\n",
       "// Listen for the clearing of the current output cell\n",
       "var outputEl = gd.closest('.output');\n",
       "if (outputEl) {{\n",
       "    x.observe(outputEl, {childList: true});\n",
       "}}\n",
       "\n",
       "                        })                };                });            </script>        </div>"
      ]
     },
     "metadata": {},
     "output_type": "display_data"
    }
   ],
   "source": [
    "fig_standard = px.scatter_geo(df,\n",
    "                    lat=df.Breitengrad,\n",
    "                    lon=df.Längengrad,\n",
    "                    color = df.Kanton_Kuerzel,\n",
    "                    hover_name=\"Skiresort\")\n",
    "\n",
    "fig_standard.update_layout(\n",
    "    geo_scope='europe',\n",
    "    height = 600,\n",
    "    margin={\"r\":0,\"t\":40,\"l\":0,\"b\":0},\n",
    "    showlegend = False)\n",
    "\n",
    "fig_standard.update_geos(fitbounds=\"locations\")\n",
    "\n",
    "fig_standard.update_layout(paper_bgcolor=\"#2a2f4a\")\n",
    "\n",
    "fig_standard.show()\n"
   ]
  },
  {
   "cell_type": "code",
   "execution_count": 179,
   "id": "df3f7cc5-0aef-443a-b73f-2c4124e97916",
   "metadata": {
    "tags": []
   },
   "outputs": [],
   "source": [
    "fig_standard.write_html('Map_Switzerland_Standard.html')"
   ]
  },
  {
   "cell_type": "markdown",
   "id": "70393b0c-faf6-4476-a538-8ea75d994675",
   "metadata": {
    "tags": []
   },
   "source": [
    "## Second try with scatter_mapbox\n",
    "- Created the scatter_geo plot with lat and lon and set a hover_name and added zoom\n",
    "- Updated with mapbox_style, title, geo_scope, width and height\n",
    "- Upated update_geos to focus on Switzerland"
   ]
  },
  {
   "cell_type": "code",
   "execution_count": 175,
   "id": "f300ce3b-3834-4b36-a2a0-1929071259e6",
   "metadata": {
    "tags": []
   },
   "outputs": [
    {
     "data": {
      "application/vnd.plotly.v1+json": {
       "config": {
        "plotlyServerURL": "https://plot.ly"
       },
       "data": [
        {
         "hovertemplate": "<b>%{hovertext}</b><br><br>Kanton_Kuerzel=BE<br>Breitengrad=%{lat}<br>Längengrad=%{lon}<extra></extra>",
         "hovertext": [
          "Brandalp/Ginals Unterbach  Unterbach  ",
          "Adelboden Adelboden Adelboden ",
          "Aeschiried   ",
          "Ausserschwand Adelboden Adelboden ",
          "Axalp ob Brienz   ",
          "Balmberg   ",
          "Betelberg   Lenk  Lenk ",
          "Bonderlen Adelboden Adelboden ",
          "Bugnenets - Savagnieres Saint-Imier  ",
          "Bumbach (Schangnau)   ",
          "Chuderhuesi  Rothenbach  ",
          "Eggiwil  Netschbuehl  ",
          "Eggli/La Videmanette  Gstaad/Saanen/Rougemont Gstaad ",
          "Elsigen Metsch   Frutigen ",
          "Engstligenalp  Adelboden Adelboden ",
          "Eriz   ",
          "Faltschen  Reichenbach  ",
          "First  Grindelwald Grindelwald ",
          "Gadmen   ",
          "Gantrisch Gurnigel   ",
          "Goldiwil  Multenegg(Heiligenschwendi)  ",
          "Grand Val Oberdorferberg ",
          "Grimmialp   ",
          "Gurnigelbad   ",
          "Gurten  Bern  ",
          "Guttannen   ",
          "Habkern   Sattelegg  ",
          "Hampy  Adelboden  ",
          "Heimenschwand  Buchholterberg  ",
          "Heiti  GsteigbeiGstaad GsteigbeiGstaad ",
          "Hohwald  Beatenberg Waldegg ",
          "Homberg   ",
          "Hubelweid  Heiligenschwendi  ",
          "Jaunpass   Boltigen  ",
          "Kiental (voruebergehend außer Betrieb)   ",
          "Kleine Scheidegg/Mannlichen   Grindelwald/Wengen Grindelwald ",
          "La Golatte s/Montoz  Tavannes  ",
          "Lauenen Lauenen Lauenen ",
          "Le Chaluet  Court  ",
          "Les Orvales  Malleray  ",
          "Les Pres d'Orvin   ",
          "Linden Schindelberg  ",
          "Lucky   Aeschi  ",
          "Marbach   Marbachegg  ",
          "Meiringen-Hasliberg Hasliberg Hasliberg ",
          "Niederhorn   Beatenberg  ",
          "Nods   ",
          "Norro Lift Adelboden ",
          "Oberwangen   ",
          "Oeschinensee  Kandersteg Kandersteg ",
          "Ottenleue  Sangernboden Sangernboden ",
          "Renan   ",
          "Riffenmatt Winterpark   ",
          "Rinderberg/Saanerslochgrat/Horneggli  Zweisimmen/Saanenmoser/Schonried/St. Stephan Zweisimmen ",
          "Rossberg   Oberwil  ",
          "Rueegsau   ",
          "Rueschegg Eywald   Lischboden ",
          "Saint Imier Mont Soleil",
          "Saxeten  Pintli  ",
          "Schermtanne-Stiegelschwand Adelboden Adelboden ",
          "Schilthorn  Muerren/Lauterbrunnen Mürren ",
          "Schwefelberg Badmatte/Louigrat(voruebergehendaußerBetrieb)  ",
          "Selital   Schwarzenbuehl  ",
          "Sous le Mont  Tavannes",
          "Springenboden   ",
          "Trachselwald   ",
          "Tramelan   ",
          "TschentenAlp  Adelboden  ",
          "Wasen im Emmental   ",
          "Wasserngrat  Gstaad Gstaad ",
          "Wiriehorn Diemtigen Diemtigen ",
          "Wispile  Gstaad  "
         ],
         "lat": [
          46.73781596023059,
          46.47362091585067,
          46.65429334721316,
          46.47362091585067,
          46.771083519138,
          46.86546902950586,
          46.42511260122259,
          46.47362091585067,
          47.155863935506936,
          46.81056941498613,
          46.857428943953344,
          46.861330103402175,
          46.47065972588194,
          46.622510950283,
          46.47362091585067,
          46.7804961829772,
          46.61796795909367,
          46.63310663709352,
          46.7112276199662,
          46.76309212263568,
          46.75202351729597,
          47.28362128489225,
          46.646573321555664,
          46.76309212263568,
          46.939799295460666,
          46.59649636042709,
          46.75495650639443,
          46.47362091585067,
          46.82104529085392,
          46.369144084688585,
          46.7170207096703,
          46.77642810733167,
          46.75202351729597,
          46.5661754368673,
          46.55611412957965,
          46.61855251692661,
          47.22157159624032,
          46.39808032367374,
          47.23903863686744,
          47.2597614398432,
          47.15696840669087,
          46.84973894657992,
          46.65429334721316,
          46.91013794693144,
          46.752941344438426,
          46.7170207096703,
          47.12090112909289,
          46.47362091585067,
          46.91251666462493,
          46.46923900871988,
          46.69929512576599,
          47.11568074349161,
          46.75074602693881,
          46.56521016660378,
          46.66606641216645,
          47.02747219757538,
          46.77261993481294,
          47.155863935506936,
          46.62513307773482,
          46.47362091585067,
          46.57657396571659,
          46.69929512576599,
          46.69929512576599,
          47.22157159624032,
          46.67212445065994,
          47.01530515487635,
          47.230038177028426,
          46.47362091585067,
          47.02901104046342,
          46.47065972588194,
          46.646573321555664,
          46.47065972588194
         ],
         "legendgroup": "BE",
         "lon": [
          8.118977404215123,
          7.5551545844706895,
          7.698838241205742,
          7.5551545844706895,
          8.055659954907236,
          7.409280278146844,
          7.456470592128029,
          7.5551545844706895,
          6.993341110450986,
          7.886969099236594,
          7.7413478501974,
          7.812008684417717,
          7.294575862726037,
          7.646435487155931,
          7.5551545844706895,
          7.80478264649604,
          7.691687132974539,
          7.973949637606535,
          8.375713542340746,
          7.456794925878227,
          7.682226132871233,
          7.428004245195527,
          7.5579123638383505,
          7.456794925878227,
          7.450173286795619,
          8.257771661267816,
          7.889889979101182,
          7.5551545844706895,
          7.691294317555795,
          7.259124282323127,
          7.806273234401665,
          7.683250957669258,
          7.682226132871233,
          7.27680221608908,
          7.760807325445556,
          8.053515883423142,
          7.189263169714538,
          7.338646543774625,
          7.3609270516808225,
          7.310638016689402,
          7.212477467392216,
          7.686667748102345,
          7.698838241205742,
          7.852315235739618,
          8.171309443780688,
          7.806273234401665,
          7.074642265332308,
          7.5551545844706895,
          7.360042812010204,
          7.7083091267644095,
          7.370976025305258,
          6.890402480437929,
          7.362112475868722,
          7.393026957016362,
          7.476990934682329,
          7.677272838244293,
          7.377386724654999,
          6.993341110450986,
          7.827451480747841,
          7.5551545844706895,
          7.882672798931136,
          7.370976025305258,
          7.370976025305258,
          7.189263169714538,
          7.589473886439336,
          7.744491146817719,
          7.117275390350014,
          7.5551545844706895,
          7.838558310900703,
          7.294575862726037,
          7.5579123638383505,
          7.294575862726037
         ],
         "marker": {
          "color": "#636efa"
         },
         "mode": "markers",
         "name": "BE",
         "showlegend": true,
         "subplot": "mapbox",
         "type": "scattermapbox"
        },
        {
         "hovertemplate": "<b>%{hovertext}</b><br><br>Kanton_Kuerzel=GR<br>Breitengrad=%{lat}<br>Längengrad=%{lon}<extra></extra>",
         "hovertext": [
          "Motta Naluns Scuol  Scuol  ",
          "Silvretta Arena Ischgl/Samnaun  Samnaun ",
          "Aela-Maolja  Maloja ",
          "Ardez Ardez Ardez ",
          "Arosa Lenzerheide Arosa Lenzerheide Arosa ",
          "Avers   ",
          "Bivio   ",
          "Brambrueesch/Dreibuendenstein   Chur  ",
          "Brigels Brigels/Waltensburg/Andiast Brigels ",
          "Buegls  S-Chanf S-Chanf ",
          "Buendalift  Davos Davos ",
          "Casaccia Casaccia Casaccia ",
          "Corvatsch/Furtschellas St. Moritz  St. Moritz ",
          "Corviglia St. Moritz  St. Moritz  ",
          "Darlux   Berguen  ",
          "Diavolezza/Lagalb   ",
          "Disentis Disentis Disentis ",
          "Druni KidsArena  Valtgeva  ",
          "Fanas   ",
          "Feldis   ",
          "Fideriser Heuberge   Arflina  ",
          "Flensa  Seewis  ",
          "Gruesch Danusa   ",
          "Guarda Guarda Guarda ",
          "Hochwang   Goldgruben  ",
          "Jakobshorn (Davos Klosters) Davos Klosters Davos ",
          "Laax/Flims/Falera Laax/Flims/Falera Laax ",
          "Lantsch/Lenz Lantsch/Lenz Lantsch/Lenz ",
          "Madrisa (Davos Klosters) Madrisa (Davos Klosters) Klosters ",
          "Mastrils   ",
          "Minschuns   Val Muestair Tschierv ",
          "Mottalift  Serneus  ",
          "Muesella  La Punt La Punt ",
          "Mutten Mutten Mutten ",
          "Obersaxen/Mundaun/Val Lumnezia Obersaxen/Mundaun/Val Lumnezia Obsersaxen ",
          "Pany (Luzein)   ",
          "Parsenn (Davos Klosters) Davos Davos ",
          "Pera  Trun  ",
          "Pian Cales   San Bernardino  ",
          "Pian San Giacomo (voruebergehend außer Betrieb)   ",
          "Pischa (Davos Klosters) Klosters Klosters ",
          "Pontresina   ",
          "Rigi   Scheidegg/Burggeist  ",
          "Rinerhorn (Davos Klosters) Rinerhorn (Davos Klosters) Klosters ",
          "Rossa   ",
          "Samedan   ",
          "San Bernardino (voruebergehend außer Betrieb)   ",
          "Sarn (Heinzenberg)   ",
          "Savognin  Savognin ",
          "Schatzalp   Strela  ",
          "Selfranga  Klosters  ",
          "Spluegen-Tambo Splügen Splügen ",
          "St. Antonien   ",
          "Tarasp Tarasp Tarasp ",
          "Tect/Zinols  Berguen  ",
          "Tenna Tenna Tenna ",
          "Tschappina/Urmein (Heinzenberg)   ",
          "Tschiertschen   ",
          "Vals 3000   Dachberg  ",
          "Wiesen  Davos Davos ",
          "Zuoz   Pizzet/Albanas  "
         ],
         "lat": [
          46.73456073752036,
          46.963293397509545,
          46.364863237751976,
          46.76980545525554,
          46.76985040011519,
          46.43281404244733,
          46.45778143683959,
          46.85280483574362,
          46.79184498138597,
          46.597073034422046,
          46.76794609828249,
          46.38823696263745,
          46.4904718742201,
          46.4904718742201,
          46.64882177648663,
          46.43110812996824,
          46.745616342904725,
          46.637682902317245,
          47.00728213920991,
          46.79677942317628,
          46.88658115022135,
          47.02299025105603,
          46.96269070944919,
          46.80812844527582,
          46.76985040011519,
          46.76794609828249,
          46.80946940361612,
          46.70696894086709,
          46.8456984796935,
          46.95889526103386,
          46.64215047525024,
          46.73171630923618,
          46.5508339915912,
          46.66816493362288,
          46.71969577210207,
          46.94827314594246,
          46.76794609828249,
          46.741122501919165,
          46.471254579019,
          46.402506613089855,
          46.76794609828249,
          46.43110812996824,
          46.36288444000657,
          46.8456984796935,
          46.36288444000657,
          46.53324378447565,
          46.471254579019,
          46.71210058820141,
          46.58143154499836,
          46.76794609828249,
          46.8456984796935,
          46.53711280214744,
          46.92115551204367,
          46.739597015027485,
          46.64882177648663,
          46.74646856076701,
          46.69413277700843,
          46.79293831418264,
          46.57366287742968,
          46.71629979970217,
          46.563092012420135
         ],
         "legendgroup": "GR",
         "lon": [
          10.326322480979911,
          10.402296549386907,
          9.719868839324064,
          10.18571547319242,
          9.668263961155043,
          9.512667855688926,
          9.6617556641193,
          9.529881575391462,
          9.028619913020853,
          10.038542497861902,
          9.8963573314359,
          9.65681095073542,
          9.817397607555568,
          9.817397607555568,
          9.688227081880305,
          9.924945210613515,
          8.848114683935938,
          8.75020518841021,
          9.687390477454327,
          9.442243420206994,
          9.739464523516869,
          9.660334991817129,
          9.639675427069156,
          10.14216852535166,
          9.668263961155043,
          9.8963573314359,
          9.263536440279069,
          9.579432880844514,
          9.965733142695504,
          9.529481317599735,
          10.298098777822313,
          9.548085798001736,
          9.930194998541245,
          9.487628397773571,
          9.071246656433194,
          9.768444073039513,
          9.8963573314359,
          8.978637699606935,
          9.188779447982034,
          9.22604209465057,
          9.8963573314359,
          9.924945210613515,
          9.135254707541376,
          9.965733142695504,
          9.135254707541376,
          9.84916350814332,
          9.188779447982034,
          9.384754528679458,
          9.602390554734022,
          9.8963573314359,
          9.965733142695504,
          9.32901781894772,
          9.762275156577834,
          10.246461268228591,
          9.688227081880305,
          9.325064589801473,
          9.392552765172107,
          9.60667656407656,
          9.13077163189438,
          9.720382650376324,
          9.980244761424686
         ],
         "marker": {
          "color": "#EF553B"
         },
         "mode": "markers",
         "name": "GR",
         "showlegend": true,
         "subplot": "mapbox",
         "type": "scattermapbox"
        },
        {
         "hovertemplate": "<b>%{hovertext}</b><br><br>Kanton_Kuerzel=VS<br>Breitengrad=%{lat}<br>Längengrad=%{lon}<extra></extra>",
         "hovertext": [
          "4 Vallees  Verbier/La Tzoumaz/Nendaz/Veysonnaz/Thyon Verbier ",
          "Aletsch Arena  Riederalp/Bettmeralp/Fiesch Eggishorn Riederalp ",
          "Anzere   ",
          "Arolla   ",
          "Belalp  Blatten  Blatten ",
          "Bellwald   ",
          "Champex Lac (Orsieres)  ",
          "Crans-Montana Crans-Montana Crans-Montana ",
          "Eischoll   ",
          "Espace Super Saint Bernard Bourg St",
          "Evolene   ",
          "Giw   Visperterminen  ",
          "Grachen  Grachen ",
          "Grimentz/Zinal   ",
          "Gspon (Staldenried)   ",
          "Heidbodme  Saas-Almagell Saas-Almagell ",
          "Hohsaas  Saas-Grund Saas-Grund ",
          "Jeizinen Feselalp   Gampel/Steg  ",
          "La Forclaz   ",
          "La Fouly   ",
          "La Lorette  Bourg-Saint-Pierre Bourg-Saint-Pierre ",
          "Lauchernalp   Lotschental  ",
          "Les Marecottes (Salvan)   ",
          "Les Portes du Soleil  Morzine/Avoriaz/Les Gets/Châtel/Morgins/Champery Morzine ",
          "Leukerbad Leukerbad Leukerbad ",
          "L'Homazo LesHauderes LesHauderes ",
          "Loco Ski Academy  Saillon(Trockenskigebiet)  ",
          "Matterhorn Cervinia/Valtournenche/Zermatt/Breuil Zermatt ",
          "Moosalp Buerchen/Torbel  Buerchen ",
          "Muenster Geschinen  ",
          "Oberwald Oberwald Oberwald ",
          "Ovronnaz Ovronnaz Ovronnaz ",
          "Randa",
          "Reckingen Gluringen  ",
          "Rosswald   Brig  ",
          "Rothwald/Wasenalp (Simplon)   ",
          "Saas-Balem Saas-Balem Saas-Balem ",
          "Saas-Fee Saas-Fee Saas-Fee ",
          "Saint Luc/Chandolin (Anniviers)   ",
          "Tasch Tasch Tasch ",
          "Teleconthey  MayensdeConthey MayensdeConthey ",
          "Trient  Trient ",
          "Vercorin  Vercorin ",
          "Vicheres (Liddes)   ",
          "Wilern (Binn) Wilern(Binn) Wilern(Binn) "
         ],
         "lat": [
          46.10078963243027,
          46.38324689669922,
          46.262812596902286,
          46.12849584255501,
          46.44468051786119,
          46.444264660077,
          46.0296008266854,
          46.29540541268003,
          46.283171070507045,
          45.91958552047053,
          46.12849584255501,
          46.242854924921474,
          46.19667947383438,
          46.218592764037446,
          46.21386685616713,
          46.05398778706653,
          46.13502072096944,
          46.33971682726944,
          46.0299900787028,
          45.92272409582334,
          45.91958552047053,
          46.40744175033126,
          46.10464206000597,
          46.15878476470448,
          46.40186090118191,
          46.09892904180834,
          46.17045940215144,
          45.98971247998463,
          46.26932776492268,
          46.49491214375781,
          46.557616127858566,
          46.201847655003206,
          46.0970203841711,
          46.45355498604726,
          46.32994634256132,
          46.29260842034999,
          46.15278158758781,
          46.08935099845596,
          46.218592764037446,
          46.05396841795874,
          46.27491164960089,
          46.0299900787028,
          46.235637280323495,
          46.01300631355247,
          46.36821691837629
         ],
         "legendgroup": "VS",
         "lon": [
          7.229654722387731,
          8.030317266068764,
          7.408739130450465,
          7.489540749753891,
          7.864555515952031,
          8.157027850788833,
          7.088673948863967,
          7.491754252841265,
          7.760861158603105,
          7.212782676782284,
          7.489540749753891,
          7.941120616712598,
          7.848896749824393,
          7.627190912248169,
          7.834679801104153,
          7.966905573500909,
          7.972356496059153,
          7.733603988074937,
          6.999472308534617,
          7.098041545209672,
          7.212782676782284,
          7.786978045720506,
          6.943422411877173,
          6.845953649475181,
          7.627363559664622,
          7.504504969272778,
          7.177709016696666,
          7.752671435919487,
          7.818288525530894,
          8.299635434688197,
          8.393572673255726,
          7.136419642053497,
          7.779275183773291,
          8.261511504684336,
          8.043078896187016,
          8.030598179279473,
          7.93519887884504,
          7.899558553658686,
          7.627190912248169,
          7.811223367917781,
          7.29248008732216,
          6.999472308534617,
          7.532961869075849,
          7.165678742977503,
          8.235580667928591
         ],
         "marker": {
          "color": "#00cc96"
         },
         "mode": "markers",
         "name": "VS",
         "showlegend": true,
         "subplot": "mapbox",
         "type": "scattermapbox"
        },
        {
         "hovertemplate": "<b>%{hovertext}</b><br><br>Kanton_Kuerzel=TI<br>Breitengrad=%{lat}<br>Längengrad=%{lon}<extra></extra>",
         "hovertext": [
          "Airolo-Pescüm Airolo Airolo ",
          "Alpe di Neggia   ",
          "Bedea   Novaggio  ",
          "Bosco Gurin   Grossalp  ",
          "Campo Blenio   ",
          "Carì   ",
          "Cioss Prato  Bedretto  ",
          "Dalpe   ",
          "Lueina  Airolo  ",
          "Mogno   ",
          "Nara-Leontica Leontica Leontica ",
          "Prato (Leventina)   "
         ],
         "lat": [
          46.52724920112436,
          46.13070651009939,
          46.0007977332109,
          46.32026934171304,
          46.59064564192835,
          46.49413731460909,
          46.48899164143069,
          46.45720670881445,
          46.52724920112436,
          46.45764891755727,
          46.45686140141737,
          46.47138610787511
         ],
         "legendgroup": "TI",
         "lon": [
          8.63064800879524,
          8.856300109392365,
          8.862243245409564,
          8.483959654328785,
          8.943892416337835,
          8.844713997267677,
          8.477975492135688,
          8.76205206299213,
          8.63064800879524,
          8.641813030516209,
          8.93780985431501,
          8.745827962783105
         ],
         "marker": {
          "color": "#ab63fa"
         },
         "mode": "markers",
         "name": "TI",
         "showlegend": true,
         "subplot": "mapbox",
         "type": "scattermapbox"
        },
        {
         "hovertemplate": "<b>%{hovertext}</b><br><br>Kanton_Kuerzel=AI<br>Breitengrad=%{lat}<br>Längengrad=%{lon}<extra></extra>",
         "hovertext": [
          "Alpsteinblick   Gonten  ",
          "Ebenalp-Horn Horn  Schwende ",
          "Fischenthal Aurueti  Oberegg ",
          "Oberegg SkiliftSt.Anton  ",
          "Sollegg Appenzell  "
         ],
         "lat": [
          47.306362530106384,
          47.26440419635024,
          47.41650709807815,
          47.41650709807815,
          47.356282463954166
         ],
         "legendgroup": "AI",
         "lon": [
          9.329920654017526,
          9.39184842289109,
          9.553275500570845,
          9.553275500570845,
          9.401495999570932
         ],
         "marker": {
          "color": "#FFA15A"
         },
         "mode": "markers",
         "name": "AI",
         "showlegend": true,
         "subplot": "mapbox",
         "type": "scattermapbox"
        },
        {
         "hovertemplate": "<b>%{hovertext}</b><br><br>Kanton_Kuerzel=UR<br>Breitengrad=%{lat}<br>Längengrad=%{lon}<extra></extra>",
         "hovertext": [
          "Andermatt/Oberalp/Sedrun Andermatt Andermatt ",
          "Biel Kinzig  Buerglen ",
          "Bruesti   Attinghausen  ",
          "Eggberge  Altdorf  ",
          "Gemsstock   Andermatt  ",
          "Gitschenen  Isenthal  ",
          "Kellerberg- Haldi Schattdorf Schattdorf ",
          "Ratzi  Spiringen  ",
          "Realp (voruebergehend außer Betrieb)   ",
          "Urnerboden Urnerboden Urnerboden "
         ],
         "lat": [
          46.6205227352232,
          46.8854102471779,
          46.85345258248684,
          46.88772086348615,
          46.6205227352232,
          46.88661696319931,
          46.85649718679535,
          46.87598223000994,
          46.58032873671343,
          46.87957457563218
         ],
         "legendgroup": "UR",
         "lon": [
          8.631412588665953,
          8.689736668035382,
          8.598538707032889,
          8.641409070020176,
          8.631412588665953,
          8.525345254078607,
          8.652078587930477,
          8.73517787648612,
          8.47013362821995,
          8.901892747254871
         ],
         "marker": {
          "color": "#19d3f3"
         },
         "mode": "markers",
         "name": "UR",
         "showlegend": true,
         "subplot": "mapbox",
         "type": "scattermapbox"
        },
        {
         "hovertemplate": "<b>%{hovertext}</b><br><br>Kanton_Kuerzel=SG<br>Breitengrad=%{lat}<br>Längengrad=%{lon}<extra></extra>",
         "hovertext": [
          "Arvenbueel/Mattstock Amden  Amden  ",
          "Atzmannig  Goldingen Goldingen ",
          "Beckenhalde   St. Gallen  ",
          "Bildhaus   Gommiswald am Ricken  ",
          "Buchserberg Malbun Buchs ",
          "Chaserrugg  Unterwasser/Alt St. Johann (Toggenburg) Unterwasser ",
          "Degersheim   Fuchsacker  ",
          "Flumserberg Flumserberg Flumserberg ",
          "Gahwil   ",
          "Gampluet   ",
          "Hemberg   ",
          "Hochwacht  Mosnang  ",
          "Hornli  Hemberg Bachli ",
          "Krinau   ",
          "Lukaslift  Grabs  ",
          "Mittlerwengi  Kaltbrunn  ",
          "Oberhelfenschwil   ",
          "Pizol   Bad Ragaz/Wangs Bad Ragaz ",
          "Santis  Schwagalp Schwagalp ",
          "Schlosslihang St.Gallen  ",
          "Tristeli  St.Margrethenberg St.Margrethenberg ",
          "Walenstadtberg   ",
          "Weisstannen   ",
          "Wildhaus   Gamserrugg (Toggenburg)  ",
          "Wolzenalp  Krummenau  "
         ],
         "lat": [
          47.159937277478924,
          47.28468899034298,
          47.41542320778775,
          47.2315344658155,
          47.17058801086377,
          47.19640189063639,
          47.37336760998512,
          47.080510579678574,
          47.39385268852025,
          47.21653899109159,
          47.30048518581119,
          47.35934751733251,
          47.30048518581119,
          47.317780245425006,
          47.17058801086377,
          47.20996125550636,
          47.34827121672728,
          46.996887498770654,
          47.24549706352807,
          47.40805048061931,
          46.996887498770654,
          47.1223504128056,
          46.97191521650233,
          47.21653899109159,
          47.25801696028455
         ],
         "legendgroup": "SG",
         "lon": [
          9.167879637010529,
          8.973941300328173,
          9.402118008674345,
          9.020101862200692,
          9.458011707493556,
          9.306520672600897,
          9.198077544869747,
          9.268297810961178,
          8.998167254178435,
          9.352737526840947,
          9.20160315186423,
          9.038701711759767,
          9.20160315186423,
          9.052111215793683,
          9.458011707493556,
          9.049151526815889,
          9.106608376376265,
          9.47307401366276,
          9.259205763119262,
          9.335622409645111,
          9.47307401366276,
          9.310672076365112,
          9.304744165089732,
          9.352737526840947,
          9.18689401091768
         ],
         "marker": {
          "color": "#FF6692"
         },
         "mode": "markers",
         "name": "SG",
         "showlegend": true,
         "subplot": "mapbox",
         "type": "scattermapbox"
        },
        {
         "hovertemplate": "<b>%{hovertext}</b><br><br>Kanton_Kuerzel=AG<br>Breitengrad=%{lat}<br>Längengrad=%{lon}<extra></extra>",
         "hovertext": [
          "Asp (Densbueren)   ",
          "Bottenwil  PizGraben  ",
          "Fohrlimatt  Wegenstetten  ",
          "Holderbank  SkiliftEngi  ",
          "Horben  Lindenberg  ",
          "Rotberg  Villigen  "
         ],
         "lat": [
          47.4187944676473,
          47.284727446778696,
          47.49388233047687,
          47.43093670861296,
          47.24900521493852,
          47.53006881810674
         ],
         "legendgroup": "AG",
         "lon": [
          8.083026786733928,
          8.00207078689998,
          7.931230907875876,
          8.170660199279535,
          8.325980483106619,
          8.20626832408848
         ],
         "marker": {
          "color": "#B6E880"
         },
         "mode": "markers",
         "name": "AG",
         "showlegend": true,
         "subplot": "mapbox",
         "type": "scattermapbox"
        },
        {
         "hovertemplate": "<b>%{hovertext}</b><br><br>Kanton_Kuerzel=NW<br>Breitengrad=%{lat}<br>Längengrad=%{lon}<extra></extra>",
         "hovertext": [
          "Bannalp   Oberrickenbach  ",
          "Haldigrat Niederrickenbach Niederrickenbach ",
          "Klewenalp/Stockhuette  Beckenried/Emmetten Beckenried ",
          "Langmattli  Hergiswil  ",
          "Wirzweli  Dallenwil Dallenwil "
         ],
         "lat": [
          46.9222625837078,
          46.95878133022972,
          46.95024548032024,
          46.98593583992817,
          46.9222625837078
         ],
         "legendgroup": "NW",
         "lon": [
          8.383619421064276,
          8.363311308496687,
          8.471607128421299,
          8.281314284428433,
          8.383619421064276
         ],
         "marker": {
          "color": "#FF97FF"
         },
         "mode": "markers",
         "name": "NW",
         "showlegend": true,
         "subplot": "mapbox",
         "type": "scattermapbox"
        },
        {
         "hovertemplate": "<b>%{hovertext}</b><br><br>Kanton_Kuerzel=ZH<br>Breitengrad=%{lat}<br>Längengrad=%{lon}<extra></extra>",
         "hovertext": [
          "Baretswil   ",
          "Dicki   Weisslingen  ",
          "Dietikon   ",
          "Ghoch   ",
          "Oberholz Farner  ",
          "Regensberg Erlenhof  ImBuck ",
          "Steg im Tosstal   ",
          "Sternenberg Schatzbol  ",
          "Wildberg Schafbueel  "
         ],
         "lat": [
          47.33885881311072,
          47.45049253417624,
          47.395034158969146,
          47.34111963791964,
          47.28881201093997,
          47.47818420344301,
          47.34111963791964,
          47.38884556499081,
          47.40520515575772
         ],
         "legendgroup": "ZH",
         "lon": [
          8.871485791943323,
          8.804134041861316,
          8.449001595827898,
          8.95136119206518,
          8.923126425608599,
          8.428312101510604,
          8.95136119206518,
          8.91401823549601,
          8.833107289508837
         ],
         "marker": {
          "color": "#FECB52"
         },
         "mode": "markers",
         "name": "ZH",
         "showlegend": true,
         "subplot": "mapbox",
         "type": "scattermapbox"
        },
        {
         "hovertemplate": "<b>%{hovertext}</b><br><br>Kanton_Kuerzel=VD<br>Breitengrad=%{lat}<br>Längengrad=%{lon}<extra></extra>",
         "hovertext": [
          "Basse Ruche   ",
          "Dent de Jaman  Montreux Montreux ",
          "Dent de Vaulion  LeMorez  ",
          "Glacier 3000  Les Diablerets  Les Diablerets ",
          "Haut de Caux ",
          "La Braye  Châteaud'Oex Châteaud'Oex ",
          "La Dôle/Les Tuffes (Jura sur Leman)   ",
          "La Trelasse   ",
          "L'Abbaye   ",
          "Le Brassus   ",
          "Les Mosses/La Lecherette   ",
          "Les Pleiades Les Pleiades Les Pleiades ",
          "Les Prevondes   ",
          "Les Rasses   Sainte Sainte-Croix ",
          "Leysin Leysin Leysin ",
          "L'Orient   ",
          "Orgevaux/Les Avants Montreux Montreux ",
          "Rochers de Naye   Montreux  ",
          "Saint George  ",
          "St. Cergue   ",
          "Villars/Gryon/Les Diablerets Villars/Gryon/Les Diablerets Villars "
         ],
         "lat": [
          46.45103884444971,
          46.42430811917527,
          46.77623871899399,
          46.34393976506284,
          46.44245463194165,
          46.453109405926206,
          46.45103884444971,
          46.45103884444971,
          46.64053104806485,
          46.568538943492825,
          46.453109405926206,
          46.45465492545657,
          46.42430811917527,
          46.80852438560281,
          46.35252935486932,
          46.59115267054111,
          46.42430811917527,
          46.42430811917527,
          46.52261211040082,
          46.45103884444971,
          46.29546090705609
         ],
         "legendgroup": "VD",
         "lon": [
          6.141447545729431,
          6.920497482541422,
          6.638517507154847,
          7.175707382026521,
          6.964753535578825,
          7.099815171977348,
          6.141447545729431,
          6.141447545729431,
          6.323997863325195,
          6.190567671432426,
          7.099815171977348,
          6.903515737764544,
          6.920497482541422,
          6.498405200059012,
          7.011130831233223,
          6.257683519055614,
          6.920497482541422,
          6.920497482541422,
          6.257700212851227,
          6.141447545729431,
          7.019080457855518
         ],
         "marker": {
          "color": "#636efa"
         },
         "mode": "markers",
         "name": "VD",
         "showlegend": true,
         "subplot": "mapbox",
         "type": "scattermapbox"
        },
        {
         "hovertemplate": "<b>%{hovertext}</b><br><br>Kanton_Kuerzel=SZ<br>Breitengrad=%{lat}<br>Längengrad=%{lon}<extra></extra>",
         "hovertext": [
          "Bennau   Einsiedeln  ",
          "Brunni  Alpthal  ",
          "Friherrenberg  Einsiedeln  ",
          "Fronalpstock/Klingenstock Stoos Stoos  ",
          "Hoch Ybrig  Unteriberg/Oberiberg Oberiberg ",
          "Mythenregion Schwyz Schwyz ",
          "Neusell  Rothenthurm Biberegg ",
          "Oberiberg   ",
          "Rigi Rigi Rigi ",
          "Sattelegg   Vorderthal/Einsiedeln Willerzell ",
          "Sattel-Hochstuckli Sattel  Sattel  ",
          "Schnabelsberg Bennau(Einsiedeln)  ",
          "Seebodenalp   Kuessnacht  ",
          "Telli  Morschach  ",
          "Vorderthal SkiliftWagital  "
         ],
         "lat": [
          47.15064032536861,
          47.05779658301815,
          47.13155976005248,
          46.97637206245401,
          47.03077671198638,
          47.034584563807165,
          47.101974211270665,
          47.034584563807165,
          47.07891509687347,
          47.12988696278169,
          47.07992008082552,
          47.15064032536861,
          47.07891509687347,
          46.97637206245401,
          47.12626325849101
         ],
         "legendgroup": "SZ",
         "lon": [
          8.714527787397953,
          8.714512853120672,
          8.744057572485739,
          8.621587288522573,
          8.761717124248628,
          8.66672685809677,
          8.68045957652215,
          8.66672685809677,
          8.445676394831297,
          8.810499250099674,
          8.631212196276863,
          8.714527787397953,
          8.445676394831297,
          8.621587288522573,
          8.889344288245853
         ],
         "marker": {
          "color": "#EF553B"
         },
         "mode": "markers",
         "name": "SZ",
         "showlegend": true,
         "subplot": "mapbox",
         "type": "scattermapbox"
        },
        {
         "hovertemplate": "<b>%{hovertext}</b><br><br>Kanton_Kuerzel=AR<br>Breitengrad=%{lat}<br>Längengrad=%{lon}<extra></extra>",
         "hovertext": [
          "Blatten  Speicher  ",
          "Gais   ",
          "Grub Kaien  ",
          "Heiden  Bischofsberg  ",
          "Schwellbrunn   ",
          "Urnasch   Osteregg  ",
          "Vogelinsegg  Speicher  "
         ],
         "lat": [
          47.409862286253095,
          47.36795879716399,
          47.44119600880302,
          47.44081827013916,
          47.35161763772511,
          47.29492749237434,
          47.409862286253095
         ],
         "legendgroup": "AR",
         "lon": [
          9.440951839043564,
          9.471413241319576,
          9.501692923483422,
          9.534855238128069,
          9.23622826196516,
          9.277883101970623,
          9.440951839043564
         ],
         "marker": {
          "color": "#00cc96"
         },
         "mode": "markers",
         "name": "AR",
         "showlegend": true,
         "subplot": "mapbox",
         "type": "scattermapbox"
        },
        {
         "hovertemplate": "<b>%{hovertext}</b><br><br>Kanton_Kuerzel=GL<br>Breitengrad=%{lat}<br>Längengrad=%{lon}<extra></extra>",
         "hovertext": [
          "Braunwald Braunwald Braunwald ",
          "Dreieck   Glarus  ",
          "Elm im Sernftal   ",
          "Kerenzerberg  Filzbach  ",
          "Mugi  Netstal  ",
          "Schilt  Mollis  ",
          "Schwanden   Sigriswil  "
         ],
         "lat": [
          46.94584834554261,
          47.04956343988005,
          46.90606792468636,
          47.10146294306594,
          47.06380999727713,
          47.093821153450165,
          47.01246248853029
         ],
         "legendgroup": "GL",
         "lon": [
          8.984506744734935,
          9.039353103625862,
          9.156363943907312,
          9.125344571730311,
          9.041722412029596,
          9.091373359754918,
          9.1248674416192
         ],
         "marker": {
          "color": "#ab63fa"
         },
         "mode": "markers",
         "name": "GL",
         "showlegend": true,
         "subplot": "mapbox",
         "type": "scattermapbox"
        },
        {
         "hovertemplate": "<b>%{hovertext}</b><br><br>Kanton_Kuerzel=NE<br>Breitengrad=%{lat}<br>Längengrad=%{lon}<extra></extra>",
         "hovertext": [
          "Brot Plamboz  ",
          "Chapeau Râble   La Chaux de Fonds",
          "La Brevine   ",
          "La Corbatiere   La Roche aux Crocs",
          "La Côte aux Fees ",
          "La Robella   Buttes (Val de Travers)",
          "La Sagne   ",
          "Le Crêt Meuron Fontaines(LesGollieres) ",
          "Les Loges  LaVuedesAlpes  ",
          "Les Verrieres   ",
          "Sommartel  LeLocle  "
         ],
         "lat": [
          46.98310270593748,
          47.11346368460821,
          46.97188919629928,
          47.11346368460821,
          46.8633879470283,
          46.87949085540813,
          47.04744928439978,
          47.06654020285924,
          47.06654020285924,
          46.91439528255655,
          47.03519378227565
         ],
         "legendgroup": "NE",
         "lon": [
          6.748598940529313,
          6.834788342896368,
          6.602857688160449,
          6.834788342896368,
          6.485325767073004,
          6.543208481104002,
          6.802142792720664,
          6.869407833975434,
          6.869407833975434,
          6.474783915790059,
          6.712721011849587
         ],
         "marker": {
          "color": "#FFA15A"
         },
         "mode": "markers",
         "name": "NE",
         "showlegend": true,
         "subplot": "mapbox",
         "type": "scattermapbox"
        },
        {
         "hovertemplate": "<b>%{hovertext}</b><br><br>Kanton_Kuerzel=OW<br>Breitengrad=%{lat}<br>Längengrad=%{lon}<extra></extra>",
         "hovertext": [
          "Brunni   Engelberg  ",
          "Langis Langis Langis ",
          "Melchsee-Frutt Kerns Kerns ",
          "Morlialp  Giswil Giswil ",
          "Titlis  Engelberg Engelberg "
         ],
         "lat": [
          46.81454661300316,
          46.83752401859071,
          46.90705837457296,
          46.83752401859071,
          46.81454661300316
         ],
         "legendgroup": "OW",
         "lon": [
          8.441246114230253,
          8.121950601420881,
          8.30280660001364,
          8.121950601420881,
          8.441246114230253
         ],
         "marker": {
          "color": "#19d3f3"
         },
         "mode": "markers",
         "name": "OW",
         "showlegend": true,
         "subplot": "mapbox",
         "type": "scattermapbox"
        },
        {
         "hovertemplate": "<b>%{hovertext}</b><br><br>Kanton_Kuerzel=FR<br>Breitengrad=%{lat}<br>Längengrad=%{lon}<extra></extra>",
         "hovertext": [
          "Charmey   ",
          "Hapfere  Plaffeien  ",
          "Jaun   ",
          "Kaiseregg/Riggisalp  Schwarzsee Schwarzsee ",
          "La Berra  La Roche La Roche ",
          "La Chia  Bulle  ",
          "Le Pâquier   Crêt du Puy",
          "Les Paccots/Châtel Les Paccots/Châtel Les Paccots ",
          "Les Paccots/Granges  Mont Chesau ",
          "Moleson   ",
          "Mont Gibloux   ",
          "Nax  Mont Noble ",
          "Rathvel   Châtel St Denis"
         ],
         "lat": [
          46.59373260297209,
          46.73690503467711,
          46.59129220007462,
          46.73690503467711,
          46.6925149445394,
          46.60214327821387,
          46.59039937984119,
          46.50736129661608,
          46.522961633257225,
          46.58886611971624,
          46.69750560806696,
          46.91237106789664,
          46.50736129661608
         ],
         "legendgroup": "FR",
         "lon": [
          7.195768770679854,
          7.2696940142324,
          7.237415121349573,
          7.2696940142324,
          7.160606301311321,
          7.02230091359197,
          7.051888853664313,
          6.96628380150331,
          6.826278094633602,
          7.035375037769224,
          7.0309409761717125,
          7.174366123624522,
          6.96628380150331
         ],
         "marker": {
          "color": "#FF6692"
         },
         "mode": "markers",
         "name": "FR",
         "showlegend": true,
         "subplot": "mapbox",
         "type": "scattermapbox"
        },
        {
         "hovertemplate": "<b>%{hovertext}</b><br><br>Kanton_Kuerzel=SH<br>Breitengrad=%{lat}<br>Längengrad=%{lon}<extra></extra>",
         "hovertext": [
          "Egg  Hallau  ",
          "Stich  Opfertshofen  "
         ],
         "lat": [
          47.70045692969688,
          47.77251888070899
         ],
         "legendgroup": "SH",
         "lon": [
          8.44318407762118,
          8.659194169308732
         ],
         "marker": {
          "color": "#B6E880"
         },
         "mode": "markers",
         "name": "SH",
         "showlegend": true,
         "subplot": "mapbox",
         "type": "scattermapbox"
        },
        {
         "hovertemplate": "<b>%{hovertext}</b><br><br>Kanton_Kuerzel=LU<br>Breitengrad=%{lat}<br>Längengrad=%{lon}<extra></extra>",
         "hovertext": [
          "Gfellen  Entlebuch Finsterwald ",
          "Heiligkreuz First Hasle ",
          "Schratten Fluehli   ",
          "Sorenberg  Sorenberg  Sörenberg "
         ],
         "lat": [
          46.98838863398822,
          46.95915105746656,
          46.88254228861547,
          46.816055638109965
         ],
         "legendgroup": "LU",
         "lon": [
          8.0746769866983,
          8.067043258781686,
          8.024904389987453,
          8.0088804940475
         ],
         "marker": {
          "color": "#FF97FF"
         },
         "mode": "markers",
         "name": "LU",
         "showlegend": true,
         "subplot": "mapbox",
         "type": "scattermapbox"
        },
        {
         "hovertemplate": "<b>%{hovertext}</b><br><br>Kanton_Kuerzel=SO<br>Breitengrad=%{lat}<br>Längengrad=%{lon}<extra></extra>",
         "hovertext": [
          "Grenchenberg  Grenchen  ",
          "Gsahl  Hauenstein Ifenthal ",
          "Hohe Winde  Beinwil  ",
          "Lommiswil Bitzirain  ",
          "Nunningen   ",
          "Saalhohe   ",
          "Schauenburg   ",
          "Schwengimatt   ",
          "Tanzboden   Ebnat Kappel "
         ],
         "lat": [
          47.19722103317002,
          47.37127715145244,
          47.35777645338548,
          47.247182644396,
          47.39769172998329,
          47.440341888114986,
          47.21746364408902,
          47.31434681121171,
          47.32096026737068
         ],
         "legendgroup": "SO",
         "lon": [
          7.387598226607045,
          7.855839312860544,
          7.595065750585048,
          7.4851994935077375,
          7.616626851360783,
          7.96720967600817,
          7.448068349755802,
          7.700303642644949,
          7.857329500202854
         ],
         "marker": {
          "color": "#FECB52"
         },
         "mode": "markers",
         "name": "SO",
         "showlegend": true,
         "subplot": "mapbox",
         "type": "scattermapbox"
        },
        {
         "hovertemplate": "<b>%{hovertext}</b><br><br>Kanton_Kuerzel=BL<br>Breitengrad=%{lat}<br>Längengrad=%{lon}<extra></extra>",
         "hovertext": [
          "Langenbruck  Untere/ObereWanne  ",
          "Schafmatt  Oltingen  ",
          "Staffelalp  Zeglingen  "
         ],
         "lat": [
          47.35767024683338,
          47.43023504879295,
          47.41213049086207
         ],
         "legendgroup": "BL",
         "lon": [
          7.771089371088486,
          7.937253431074494,
          7.91233346325035
         ],
         "marker": {
          "color": "#636efa"
         },
         "mode": "markers",
         "name": "BL",
         "showlegend": true,
         "subplot": "mapbox",
         "type": "scattermapbox"
        },
        {
         "hovertemplate": "<b>%{hovertext}</b><br><br>Kanton_Kuerzel=JU<br>Breitengrad=%{lat}<br>Längengrad=%{lon}<extra></extra>",
         "hovertext": [
          "Les Breuleux   ",
          "Les Genevez   "
         ],
         "lat": [
          47.20303308832165,
          47.2557122817057
         ],
         "legendgroup": "JU",
         "lon": [
          6.992837688364893,
          7.096536070207812
         ],
         "marker": {
          "color": "#EF553B"
         },
         "mode": "markers",
         "name": "JU",
         "showlegend": true,
         "subplot": "mapbox",
         "type": "scattermapbox"
        },
        {
         "hovertemplate": "<b>%{hovertext}</b><br><br>Kanton_Kuerzel=TG<br>Breitengrad=%{lat}<br>Längengrad=%{lon}<extra></extra>",
         "hovertext": [
          "Mammern Klingenzell  ",
          "Nollen Hosenruck(Wuppenau)  ",
          "Sitzberg  Fischingen  "
         ],
         "lat": [
          47.64666451467656,
          47.497216008932845,
          47.44660298965666
         ],
         "legendgroup": "TG",
         "lon": [
          8.921361706529543,
          9.105808017793684,
          8.98723561921133
         ],
         "marker": {
          "color": "#00cc96"
         },
         "mode": "markers",
         "name": "TG",
         "showlegend": true,
         "subplot": "mapbox",
         "type": "scattermapbox"
        },
        {
         "hovertemplate": "<b>%{hovertext}</b><br><br>Kanton_Kuerzel=ZG<br>Breitengrad=%{lat}<br>Längengrad=%{lon}<extra></extra>",
         "hovertext": [
          "Nollen  Unterageri  ",
          "Raten  Oberageri  ",
          "Zugerberg   "
         ],
         "lat": [
          47.12001627660013,
          47.14463702980226,
          47.14119363074207
         ],
         "legendgroup": "ZG",
         "lon": [
          8.580724621182197,
          8.655764031050886,
          8.531989125823754
         ],
         "marker": {
          "color": "#ab63fa"
         },
         "mode": "markers",
         "name": "ZG",
         "showlegend": true,
         "subplot": "mapbox",
         "type": "scattermapbox"
        }
       ],
       "layout": {
        "autosize": true,
        "legend": {
         "title": {
          "text": "Kanton_Kuerzel"
         },
         "tracegroupgap": 0
        },
        "mapbox": {
         "center": {
          "lat": 46.79345238138266,
          "lon": 8.257286017866878
         },
         "domain": {
          "x": [
           0,
           1
          ],
          "y": [
           0,
           1
          ]
         },
         "style": "carto-positron",
         "zoom": 6.5
        },
        "margin": {
         "b": 0,
         "l": 0,
         "r": 0,
         "t": 40
        },
        "paper_bgcolor": "#2a2f4a",
        "showlegend": false,
        "template": {
         "data": {
          "bar": [
           {
            "error_x": {
             "color": "#2a3f5f"
            },
            "error_y": {
             "color": "#2a3f5f"
            },
            "marker": {
             "line": {
              "color": "#E5ECF6",
              "width": 0.5
             },
             "pattern": {
              "fillmode": "overlay",
              "size": 10,
              "solidity": 0.2
             }
            },
            "type": "bar"
           }
          ],
          "barpolar": [
           {
            "marker": {
             "line": {
              "color": "#E5ECF6",
              "width": 0.5
             },
             "pattern": {
              "fillmode": "overlay",
              "size": 10,
              "solidity": 0.2
             }
            },
            "type": "barpolar"
           }
          ],
          "carpet": [
           {
            "aaxis": {
             "endlinecolor": "#2a3f5f",
             "gridcolor": "white",
             "linecolor": "white",
             "minorgridcolor": "white",
             "startlinecolor": "#2a3f5f"
            },
            "baxis": {
             "endlinecolor": "#2a3f5f",
             "gridcolor": "white",
             "linecolor": "white",
             "minorgridcolor": "white",
             "startlinecolor": "#2a3f5f"
            },
            "type": "carpet"
           }
          ],
          "choropleth": [
           {
            "colorbar": {
             "outlinewidth": 0,
             "ticks": ""
            },
            "type": "choropleth"
           }
          ],
          "contour": [
           {
            "colorbar": {
             "outlinewidth": 0,
             "ticks": ""
            },
            "colorscale": [
             [
              0,
              "#0d0887"
             ],
             [
              0.1111111111111111,
              "#46039f"
             ],
             [
              0.2222222222222222,
              "#7201a8"
             ],
             [
              0.3333333333333333,
              "#9c179e"
             ],
             [
              0.4444444444444444,
              "#bd3786"
             ],
             [
              0.5555555555555556,
              "#d8576b"
             ],
             [
              0.6666666666666666,
              "#ed7953"
             ],
             [
              0.7777777777777778,
              "#fb9f3a"
             ],
             [
              0.8888888888888888,
              "#fdca26"
             ],
             [
              1,
              "#f0f921"
             ]
            ],
            "type": "contour"
           }
          ],
          "contourcarpet": [
           {
            "colorbar": {
             "outlinewidth": 0,
             "ticks": ""
            },
            "type": "contourcarpet"
           }
          ],
          "heatmap": [
           {
            "colorbar": {
             "outlinewidth": 0,
             "ticks": ""
            },
            "colorscale": [
             [
              0,
              "#0d0887"
             ],
             [
              0.1111111111111111,
              "#46039f"
             ],
             [
              0.2222222222222222,
              "#7201a8"
             ],
             [
              0.3333333333333333,
              "#9c179e"
             ],
             [
              0.4444444444444444,
              "#bd3786"
             ],
             [
              0.5555555555555556,
              "#d8576b"
             ],
             [
              0.6666666666666666,
              "#ed7953"
             ],
             [
              0.7777777777777778,
              "#fb9f3a"
             ],
             [
              0.8888888888888888,
              "#fdca26"
             ],
             [
              1,
              "#f0f921"
             ]
            ],
            "type": "heatmap"
           }
          ],
          "heatmapgl": [
           {
            "colorbar": {
             "outlinewidth": 0,
             "ticks": ""
            },
            "colorscale": [
             [
              0,
              "#0d0887"
             ],
             [
              0.1111111111111111,
              "#46039f"
             ],
             [
              0.2222222222222222,
              "#7201a8"
             ],
             [
              0.3333333333333333,
              "#9c179e"
             ],
             [
              0.4444444444444444,
              "#bd3786"
             ],
             [
              0.5555555555555556,
              "#d8576b"
             ],
             [
              0.6666666666666666,
              "#ed7953"
             ],
             [
              0.7777777777777778,
              "#fb9f3a"
             ],
             [
              0.8888888888888888,
              "#fdca26"
             ],
             [
              1,
              "#f0f921"
             ]
            ],
            "type": "heatmapgl"
           }
          ],
          "histogram": [
           {
            "marker": {
             "pattern": {
              "fillmode": "overlay",
              "size": 10,
              "solidity": 0.2
             }
            },
            "type": "histogram"
           }
          ],
          "histogram2d": [
           {
            "colorbar": {
             "outlinewidth": 0,
             "ticks": ""
            },
            "colorscale": [
             [
              0,
              "#0d0887"
             ],
             [
              0.1111111111111111,
              "#46039f"
             ],
             [
              0.2222222222222222,
              "#7201a8"
             ],
             [
              0.3333333333333333,
              "#9c179e"
             ],
             [
              0.4444444444444444,
              "#bd3786"
             ],
             [
              0.5555555555555556,
              "#d8576b"
             ],
             [
              0.6666666666666666,
              "#ed7953"
             ],
             [
              0.7777777777777778,
              "#fb9f3a"
             ],
             [
              0.8888888888888888,
              "#fdca26"
             ],
             [
              1,
              "#f0f921"
             ]
            ],
            "type": "histogram2d"
           }
          ],
          "histogram2dcontour": [
           {
            "colorbar": {
             "outlinewidth": 0,
             "ticks": ""
            },
            "colorscale": [
             [
              0,
              "#0d0887"
             ],
             [
              0.1111111111111111,
              "#46039f"
             ],
             [
              0.2222222222222222,
              "#7201a8"
             ],
             [
              0.3333333333333333,
              "#9c179e"
             ],
             [
              0.4444444444444444,
              "#bd3786"
             ],
             [
              0.5555555555555556,
              "#d8576b"
             ],
             [
              0.6666666666666666,
              "#ed7953"
             ],
             [
              0.7777777777777778,
              "#fb9f3a"
             ],
             [
              0.8888888888888888,
              "#fdca26"
             ],
             [
              1,
              "#f0f921"
             ]
            ],
            "type": "histogram2dcontour"
           }
          ],
          "mesh3d": [
           {
            "colorbar": {
             "outlinewidth": 0,
             "ticks": ""
            },
            "type": "mesh3d"
           }
          ],
          "parcoords": [
           {
            "line": {
             "colorbar": {
              "outlinewidth": 0,
              "ticks": ""
             }
            },
            "type": "parcoords"
           }
          ],
          "pie": [
           {
            "automargin": true,
            "type": "pie"
           }
          ],
          "scatter": [
           {
            "fillpattern": {
             "fillmode": "overlay",
             "size": 10,
             "solidity": 0.2
            },
            "type": "scatter"
           }
          ],
          "scatter3d": [
           {
            "line": {
             "colorbar": {
              "outlinewidth": 0,
              "ticks": ""
             }
            },
            "marker": {
             "colorbar": {
              "outlinewidth": 0,
              "ticks": ""
             }
            },
            "type": "scatter3d"
           }
          ],
          "scattercarpet": [
           {
            "marker": {
             "colorbar": {
              "outlinewidth": 0,
              "ticks": ""
             }
            },
            "type": "scattercarpet"
           }
          ],
          "scattergeo": [
           {
            "marker": {
             "colorbar": {
              "outlinewidth": 0,
              "ticks": ""
             }
            },
            "type": "scattergeo"
           }
          ],
          "scattergl": [
           {
            "marker": {
             "colorbar": {
              "outlinewidth": 0,
              "ticks": ""
             }
            },
            "type": "scattergl"
           }
          ],
          "scattermapbox": [
           {
            "marker": {
             "colorbar": {
              "outlinewidth": 0,
              "ticks": ""
             }
            },
            "type": "scattermapbox"
           }
          ],
          "scatterpolar": [
           {
            "marker": {
             "colorbar": {
              "outlinewidth": 0,
              "ticks": ""
             }
            },
            "type": "scatterpolar"
           }
          ],
          "scatterpolargl": [
           {
            "marker": {
             "colorbar": {
              "outlinewidth": 0,
              "ticks": ""
             }
            },
            "type": "scatterpolargl"
           }
          ],
          "scatterternary": [
           {
            "marker": {
             "colorbar": {
              "outlinewidth": 0,
              "ticks": ""
             }
            },
            "type": "scatterternary"
           }
          ],
          "surface": [
           {
            "colorbar": {
             "outlinewidth": 0,
             "ticks": ""
            },
            "colorscale": [
             [
              0,
              "#0d0887"
             ],
             [
              0.1111111111111111,
              "#46039f"
             ],
             [
              0.2222222222222222,
              "#7201a8"
             ],
             [
              0.3333333333333333,
              "#9c179e"
             ],
             [
              0.4444444444444444,
              "#bd3786"
             ],
             [
              0.5555555555555556,
              "#d8576b"
             ],
             [
              0.6666666666666666,
              "#ed7953"
             ],
             [
              0.7777777777777778,
              "#fb9f3a"
             ],
             [
              0.8888888888888888,
              "#fdca26"
             ],
             [
              1,
              "#f0f921"
             ]
            ],
            "type": "surface"
           }
          ],
          "table": [
           {
            "cells": {
             "fill": {
              "color": "#EBF0F8"
             },
             "line": {
              "color": "white"
             }
            },
            "header": {
             "fill": {
              "color": "#C8D4E3"
             },
             "line": {
              "color": "white"
             }
            },
            "type": "table"
           }
          ]
         },
         "layout": {
          "annotationdefaults": {
           "arrowcolor": "#2a3f5f",
           "arrowhead": 0,
           "arrowwidth": 1
          },
          "autotypenumbers": "strict",
          "coloraxis": {
           "colorbar": {
            "outlinewidth": 0,
            "ticks": ""
           }
          },
          "colorscale": {
           "diverging": [
            [
             0,
             "#8e0152"
            ],
            [
             0.1,
             "#c51b7d"
            ],
            [
             0.2,
             "#de77ae"
            ],
            [
             0.3,
             "#f1b6da"
            ],
            [
             0.4,
             "#fde0ef"
            ],
            [
             0.5,
             "#f7f7f7"
            ],
            [
             0.6,
             "#e6f5d0"
            ],
            [
             0.7,
             "#b8e186"
            ],
            [
             0.8,
             "#7fbc41"
            ],
            [
             0.9,
             "#4d9221"
            ],
            [
             1,
             "#276419"
            ]
           ],
           "sequential": [
            [
             0,
             "#0d0887"
            ],
            [
             0.1111111111111111,
             "#46039f"
            ],
            [
             0.2222222222222222,
             "#7201a8"
            ],
            [
             0.3333333333333333,
             "#9c179e"
            ],
            [
             0.4444444444444444,
             "#bd3786"
            ],
            [
             0.5555555555555556,
             "#d8576b"
            ],
            [
             0.6666666666666666,
             "#ed7953"
            ],
            [
             0.7777777777777778,
             "#fb9f3a"
            ],
            [
             0.8888888888888888,
             "#fdca26"
            ],
            [
             1,
             "#f0f921"
            ]
           ],
           "sequentialminus": [
            [
             0,
             "#0d0887"
            ],
            [
             0.1111111111111111,
             "#46039f"
            ],
            [
             0.2222222222222222,
             "#7201a8"
            ],
            [
             0.3333333333333333,
             "#9c179e"
            ],
            [
             0.4444444444444444,
             "#bd3786"
            ],
            [
             0.5555555555555556,
             "#d8576b"
            ],
            [
             0.6666666666666666,
             "#ed7953"
            ],
            [
             0.7777777777777778,
             "#fb9f3a"
            ],
            [
             0.8888888888888888,
             "#fdca26"
            ],
            [
             1,
             "#f0f921"
            ]
           ]
          },
          "colorway": [
           "#636efa",
           "#EF553B",
           "#00cc96",
           "#ab63fa",
           "#FFA15A",
           "#19d3f3",
           "#FF6692",
           "#B6E880",
           "#FF97FF",
           "#FECB52"
          ],
          "font": {
           "color": "#2a3f5f"
          },
          "geo": {
           "bgcolor": "white",
           "lakecolor": "white",
           "landcolor": "#E5ECF6",
           "showlakes": true,
           "showland": true,
           "subunitcolor": "white"
          },
          "hoverlabel": {
           "align": "left"
          },
          "hovermode": "closest",
          "mapbox": {
           "style": "light"
          },
          "paper_bgcolor": "white",
          "plot_bgcolor": "#E5ECF6",
          "polar": {
           "angularaxis": {
            "gridcolor": "white",
            "linecolor": "white",
            "ticks": ""
           },
           "bgcolor": "#E5ECF6",
           "radialaxis": {
            "gridcolor": "white",
            "linecolor": "white",
            "ticks": ""
           }
          },
          "scene": {
           "xaxis": {
            "backgroundcolor": "#E5ECF6",
            "gridcolor": "white",
            "gridwidth": 2,
            "linecolor": "white",
            "showbackground": true,
            "ticks": "",
            "zerolinecolor": "white"
           },
           "yaxis": {
            "backgroundcolor": "#E5ECF6",
            "gridcolor": "white",
            "gridwidth": 2,
            "linecolor": "white",
            "showbackground": true,
            "ticks": "",
            "zerolinecolor": "white"
           },
           "zaxis": {
            "backgroundcolor": "#E5ECF6",
            "gridcolor": "white",
            "gridwidth": 2,
            "linecolor": "white",
            "showbackground": true,
            "ticks": "",
            "zerolinecolor": "white"
           }
          },
          "shapedefaults": {
           "line": {
            "color": "#2a3f5f"
           }
          },
          "ternary": {
           "aaxis": {
            "gridcolor": "white",
            "linecolor": "white",
            "ticks": ""
           },
           "baxis": {
            "gridcolor": "white",
            "linecolor": "white",
            "ticks": ""
           },
           "bgcolor": "#E5ECF6",
           "caxis": {
            "gridcolor": "white",
            "linecolor": "white",
            "ticks": ""
           }
          },
          "title": {
           "x": 0.05
          },
          "xaxis": {
           "automargin": true,
           "gridcolor": "white",
           "linecolor": "white",
           "ticks": "",
           "title": {
            "standoff": 15
           },
           "zerolinecolor": "white",
           "zerolinewidth": 2
          },
          "yaxis": {
           "automargin": true,
           "gridcolor": "white",
           "linecolor": "white",
           "ticks": "",
           "title": {
            "standoff": 15
           },
           "zerolinecolor": "white",
           "zerolinewidth": 2
          }
         }
        }
       }
      },
      "image/png": "[encoded data removed]",
      "text/html": [
       "<div>                            <div id=\"a06082de-9d70-4746-bf37-7a415cc050ce\" class=\"plotly-graph-div\" style=\"height:600px; width:100%;\"></div>            <script type=\"text/javascript\">                require([\"plotly\"], function(Plotly) {                    window.PLOTLYENV=window.PLOTLYENV || {};                                    if (document.getElementById(\"a06082de-9d70-4746-bf37-7a415cc050ce\")) {                    Plotly.newPlot(                        \"a06082de-9d70-4746-bf37-7a415cc050ce\",                        [{\"hovertemplate\":\"<b>%{hovertext}</b><br><br>Kanton_Kuerzel=BE<br>Breitengrad=%{lat}<br>L\\u00e4ngengrad=%{lon}<extra></extra>\",\"hovertext\":[\"Brandalp/Ginals Unterbach  Unterbach  \",\"Adelboden Adelboden Adelboden \",\"Aeschiried   \",\"Ausserschwand Adelboden Adelboden \",\"Axalp ob Brienz   \",\"Balmberg   \",\"Betelberg   Lenk  Lenk \",\"Bonderlen Adelboden Adelboden \",\"Bugnenets - Savagnieres Saint-Imier  \",\"Bumbach (Schangnau)   \",\"Chuderhuesi  Rothenbach  \",\"Eggiwil  Netschbuehl  \",\"Eggli/La Videmanette  Gstaad/Saanen/Rougemont Gstaad \",\"Elsigen Metsch   Frutigen \",\"Engstligenalp  Adelboden Adelboden \",\"Eriz   \",\"Faltschen  Reichenbach  \",\"First  Grindelwald Grindelwald \",\"Gadmen   \",\"Gantrisch Gurnigel   \",\"Goldiwil  Multenegg(Heiligenschwendi)  \",\"Grand Val Oberdorferberg \",\"Grimmialp   \",\"Gurnigelbad   \",\"Gurten  Bern  \",\"Guttannen   \",\"Habkern   Sattelegg  \",\"Hampy  Adelboden  \",\"Heimenschwand  Buchholterberg  \",\"Heiti  GsteigbeiGstaad GsteigbeiGstaad \",\"Hohwald  Beatenberg Waldegg \",\"Homberg   \",\"Hubelweid  Heiligenschwendi  \",\"Jaunpass   Boltigen  \",\"Kiental (voruebergehend au\\u00dfer Betrieb)   \",\"Kleine Scheidegg/Mannlichen   Grindelwald/Wengen Grindelwald \",\"La Golatte s/Montoz  Tavannes  \",\"Lauenen Lauenen Lauenen \",\"Le Chaluet  Court  \",\"Les Orvales  Malleray  \",\"Les Pres d'Orvin   \",\"Linden Schindelberg  \",\"Lucky   Aeschi  \",\"Marbach   Marbachegg  \",\"Meiringen-Hasliberg Hasliberg Hasliberg \",\"Niederhorn   Beatenberg  \",\"Nods   \",\"Norro Lift Adelboden \",\"Oberwangen   \",\"Oeschinensee  Kandersteg Kandersteg \",\"Ottenleue  Sangernboden Sangernboden \",\"Renan   \",\"Riffenmatt Winterpark   \",\"Rinderberg/Saanerslochgrat/Horneggli  Zweisimmen/Saanenmoser/Schonried/St. Stephan Zweisimmen \",\"Rossberg   Oberwil  \",\"Rueegsau   \",\"Rueschegg Eywald   Lischboden \",\"Saint Imier Mont Soleil\",\"Saxeten  Pintli  \",\"Schermtanne-Stiegelschwand Adelboden Adelboden \",\"Schilthorn  Muerren/Lauterbrunnen M\\u00fcrren \",\"Schwefelberg Badmatte/Louigrat(voruebergehendau\\u00dferBetrieb)  \",\"Selital   Schwarzenbuehl  \",\"Sous le Mont  Tavannes\",\"Springenboden   \",\"Trachselwald   \",\"Tramelan   \",\"TschentenAlp  Adelboden  \",\"Wasen im Emmental   \",\"Wasserngrat  Gstaad Gstaad \",\"Wiriehorn Diemtigen Diemtigen \",\"Wispile  Gstaad  \"],\"lat\":[46.73781596023059,46.47362091585067,46.65429334721316,46.47362091585067,46.771083519138,46.86546902950586,46.42511260122259,46.47362091585067,47.155863935506936,46.81056941498613,46.857428943953344,46.861330103402175,46.47065972588194,46.622510950283,46.47362091585067,46.7804961829772,46.61796795909367,46.63310663709352,46.7112276199662,46.76309212263568,46.75202351729597,47.28362128489225,46.646573321555664,46.76309212263568,46.939799295460666,46.59649636042709,46.75495650639443,46.47362091585067,46.82104529085392,46.369144084688585,46.7170207096703,46.77642810733167,46.75202351729597,46.5661754368673,46.55611412957965,46.61855251692661,47.22157159624032,46.39808032367374,47.23903863686744,47.2597614398432,47.15696840669087,46.84973894657992,46.65429334721316,46.91013794693144,46.752941344438426,46.7170207096703,47.12090112909289,46.47362091585067,46.91251666462493,46.46923900871988,46.69929512576599,47.11568074349161,46.75074602693881,46.56521016660378,46.66606641216645,47.02747219757538,46.77261993481294,47.155863935506936,46.62513307773482,46.47362091585067,46.57657396571659,46.69929512576599,46.69929512576599,47.22157159624032,46.67212445065994,47.01530515487635,47.230038177028426,46.47362091585067,47.02901104046342,46.47065972588194,46.646573321555664,46.47065972588194],\"legendgroup\":\"BE\",\"lon\":[8.118977404215123,7.5551545844706895,7.698838241205742,7.5551545844706895,8.055659954907236,7.409280278146844,7.456470592128029,7.5551545844706895,6.993341110450986,7.886969099236594,7.7413478501974,7.812008684417717,7.294575862726037,7.646435487155931,7.5551545844706895,7.80478264649604,7.691687132974539,7.973949637606535,8.375713542340746,7.456794925878227,7.682226132871233,7.428004245195527,7.5579123638383505,7.456794925878227,7.450173286795619,8.257771661267816,7.889889979101182,7.5551545844706895,7.691294317555795,7.259124282323127,7.806273234401665,7.683250957669258,7.682226132871233,7.27680221608908,7.760807325445556,8.053515883423142,7.189263169714538,7.338646543774625,7.3609270516808225,7.310638016689402,7.212477467392216,7.686667748102345,7.698838241205742,7.852315235739618,8.171309443780688,7.806273234401665,7.074642265332308,7.5551545844706895,7.360042812010204,7.7083091267644095,7.370976025305258,6.890402480437929,7.362112475868722,7.393026957016362,7.476990934682329,7.677272838244293,7.377386724654999,6.993341110450986,7.827451480747841,7.5551545844706895,7.882672798931136,7.370976025305258,7.370976025305258,7.189263169714538,7.589473886439336,7.744491146817719,7.117275390350014,7.5551545844706895,7.838558310900703,7.294575862726037,7.5579123638383505,7.294575862726037],\"marker\":{\"color\":\"#636efa\"},\"mode\":\"markers\",\"name\":\"BE\",\"showlegend\":true,\"subplot\":\"mapbox\",\"type\":\"scattermapbox\"},{\"hovertemplate\":\"<b>%{hovertext}</b><br><br>Kanton_Kuerzel=GR<br>Breitengrad=%{lat}<br>L\\u00e4ngengrad=%{lon}<extra></extra>\",\"hovertext\":[\"Motta Naluns Scuol  Scuol  \",\"Silvretta Arena Ischgl/Samnaun  Samnaun \",\"Aela-Maolja  Maloja \",\"Ardez Ardez Ardez \",\"Arosa Lenzerheide Arosa Lenzerheide Arosa \",\"Avers   \",\"Bivio   \",\"Brambrueesch/Dreibuendenstein   Chur  \",\"Brigels Brigels/Waltensburg/Andiast Brigels \",\"Buegls  S-Chanf S-Chanf \",\"Buendalift  Davos Davos \",\"Casaccia Casaccia Casaccia \",\"Corvatsch/Furtschellas St. Moritz  St. Moritz \",\"Corviglia St. Moritz  St. Moritz  \",\"Darlux   Berguen  \",\"Diavolezza/Lagalb   \",\"Disentis Disentis Disentis \",\"Druni KidsArena  Valtgeva  \",\"Fanas   \",\"Feldis   \",\"Fideriser Heuberge   Arflina  \",\"Flensa  Seewis  \",\"Gruesch Danusa   \",\"Guarda Guarda Guarda \",\"Hochwang   Goldgruben  \",\"Jakobshorn (Davos Klosters) Davos Klosters Davos \",\"Laax/Flims/Falera Laax/Flims/Falera Laax \",\"Lantsch/Lenz Lantsch/Lenz Lantsch/Lenz \",\"Madrisa (Davos Klosters) Madrisa (Davos Klosters) Klosters \",\"Mastrils   \",\"Minschuns   Val Muestair Tschierv \",\"Mottalift  Serneus  \",\"Muesella  La Punt La Punt \",\"Mutten Mutten Mutten \",\"Obersaxen/Mundaun/Val Lumnezia Obersaxen/Mundaun/Val Lumnezia Obsersaxen \",\"Pany (Luzein)   \",\"Parsenn (Davos Klosters) Davos Davos \",\"Pera  Trun  \",\"Pian Cales   San Bernardino  \",\"Pian San Giacomo (voruebergehend au\\u00dfer Betrieb)   \",\"Pischa (Davos Klosters) Klosters Klosters \",\"Pontresina   \",\"Rigi   Scheidegg/Burggeist  \",\"Rinerhorn (Davos Klosters) Rinerhorn (Davos Klosters) Klosters \",\"Rossa   \",\"Samedan   \",\"San Bernardino (voruebergehend au\\u00dfer Betrieb)   \",\"Sarn (Heinzenberg)   \",\"Savognin  Savognin \",\"Schatzalp   Strela  \",\"Selfranga  Klosters  \",\"Spluegen-Tambo Spl\\u00fcgen Spl\\u00fcgen \",\"St. Antonien   \",\"Tarasp Tarasp Tarasp \",\"Tect/Zinols  Berguen  \",\"Tenna Tenna Tenna \",\"Tschappina/Urmein (Heinzenberg)   \",\"Tschiertschen   \",\"Vals 3000   Dachberg  \",\"Wiesen  Davos Davos \",\"Zuoz   Pizzet/Albanas  \"],\"lat\":[46.73456073752036,46.963293397509545,46.364863237751976,46.76980545525554,46.76985040011519,46.43281404244733,46.45778143683959,46.85280483574362,46.79184498138597,46.597073034422046,46.76794609828249,46.38823696263745,46.4904718742201,46.4904718742201,46.64882177648663,46.43110812996824,46.745616342904725,46.637682902317245,47.00728213920991,46.79677942317628,46.88658115022135,47.02299025105603,46.96269070944919,46.80812844527582,46.76985040011519,46.76794609828249,46.80946940361612,46.70696894086709,46.8456984796935,46.95889526103386,46.64215047525024,46.73171630923618,46.5508339915912,46.66816493362288,46.71969577210207,46.94827314594246,46.76794609828249,46.741122501919165,46.471254579019,46.402506613089855,46.76794609828249,46.43110812996824,46.36288444000657,46.8456984796935,46.36288444000657,46.53324378447565,46.471254579019,46.71210058820141,46.58143154499836,46.76794609828249,46.8456984796935,46.53711280214744,46.92115551204367,46.739597015027485,46.64882177648663,46.74646856076701,46.69413277700843,46.79293831418264,46.57366287742968,46.71629979970217,46.563092012420135],\"legendgroup\":\"GR\",\"lon\":[10.326322480979911,10.402296549386907,9.719868839324064,10.18571547319242,9.668263961155043,9.512667855688926,9.6617556641193,9.529881575391462,9.028619913020853,10.038542497861902,9.8963573314359,9.65681095073542,9.817397607555568,9.817397607555568,9.688227081880305,9.924945210613515,8.848114683935938,8.75020518841021,9.687390477454327,9.442243420206994,9.739464523516869,9.660334991817129,9.639675427069156,10.14216852535166,9.668263961155043,9.8963573314359,9.263536440279069,9.579432880844514,9.965733142695504,9.529481317599735,10.298098777822313,9.548085798001736,9.930194998541245,9.487628397773571,9.071246656433194,9.768444073039513,9.8963573314359,8.978637699606935,9.188779447982034,9.22604209465057,9.8963573314359,9.924945210613515,9.135254707541376,9.965733142695504,9.135254707541376,9.84916350814332,9.188779447982034,9.384754528679458,9.602390554734022,9.8963573314359,9.965733142695504,9.32901781894772,9.762275156577834,10.246461268228591,9.688227081880305,9.325064589801473,9.392552765172107,9.60667656407656,9.13077163189438,9.720382650376324,9.980244761424686],\"marker\":{\"color\":\"#EF553B\"},\"mode\":\"markers\",\"name\":\"GR\",\"showlegend\":true,\"subplot\":\"mapbox\",\"type\":\"scattermapbox\"},{\"hovertemplate\":\"<b>%{hovertext}</b><br><br>Kanton_Kuerzel=VS<br>Breitengrad=%{lat}<br>L\\u00e4ngengrad=%{lon}<extra></extra>\",\"hovertext\":[\"4 Vallees  Verbier/La Tzoumaz/Nendaz/Veysonnaz/Thyon Verbier \",\"Aletsch Arena  Riederalp/Bettmeralp/Fiesch Eggishorn Riederalp \",\"Anzere   \",\"Arolla   \",\"Belalp  Blatten  Blatten \",\"Bellwald   \",\"Champex Lac (Orsieres)  \",\"Crans-Montana Crans-Montana Crans-Montana \",\"Eischoll   \",\"Espace Super Saint Bernard Bourg St\",\"Evolene   \",\"Giw   Visperterminen  \",\"Grachen  Grachen \",\"Grimentz/Zinal   \",\"Gspon (Staldenried)   \",\"Heidbodme  Saas-Almagell Saas-Almagell \",\"Hohsaas  Saas-Grund Saas-Grund \",\"Jeizinen Feselalp   Gampel/Steg  \",\"La Forclaz   \",\"La Fouly   \",\"La Lorette  Bourg-Saint-Pierre Bourg-Saint-Pierre \",\"Lauchernalp   Lotschental  \",\"Les Marecottes (Salvan)   \",\"Les Portes du Soleil  Morzine/Avoriaz/Les Gets/Ch\\u00e2tel/Morgins/Champery Morzine \",\"Leukerbad Leukerbad Leukerbad \",\"L'Homazo LesHauderes LesHauderes \",\"Loco Ski Academy  Saillon(Trockenskigebiet)  \",\"Matterhorn Cervinia/Valtournenche/Zermatt/Breuil Zermatt \",\"Moosalp Buerchen/Torbel  Buerchen \",\"Muenster Geschinen  \",\"Oberwald Oberwald Oberwald \",\"Ovronnaz Ovronnaz Ovronnaz \",\"Randa\",\"Reckingen Gluringen  \",\"Rosswald   Brig  \",\"Rothwald/Wasenalp (Simplon)   \",\"Saas-Balem Saas-Balem Saas-Balem \",\"Saas-Fee Saas-Fee Saas-Fee \",\"Saint Luc/Chandolin (Anniviers)   \",\"Tasch Tasch Tasch \",\"Teleconthey  MayensdeConthey MayensdeConthey \",\"Trient  Trient \",\"Vercorin  Vercorin \",\"Vicheres (Liddes)   \",\"Wilern (Binn) Wilern(Binn) Wilern(Binn) \"],\"lat\":[46.10078963243027,46.38324689669922,46.262812596902286,46.12849584255501,46.44468051786119,46.444264660077,46.0296008266854,46.29540541268003,46.283171070507045,45.91958552047053,46.12849584255501,46.242854924921474,46.19667947383438,46.218592764037446,46.21386685616713,46.05398778706653,46.13502072096944,46.33971682726944,46.0299900787028,45.92272409582334,45.91958552047053,46.40744175033126,46.10464206000597,46.15878476470448,46.40186090118191,46.09892904180834,46.17045940215144,45.98971247998463,46.26932776492268,46.49491214375781,46.557616127858566,46.201847655003206,46.0970203841711,46.45355498604726,46.32994634256132,46.29260842034999,46.15278158758781,46.08935099845596,46.218592764037446,46.05396841795874,46.27491164960089,46.0299900787028,46.235637280323495,46.01300631355247,46.36821691837629],\"legendgroup\":\"VS\",\"lon\":[7.229654722387731,8.030317266068764,7.408739130450465,7.489540749753891,7.864555515952031,8.157027850788833,7.088673948863967,7.491754252841265,7.760861158603105,7.212782676782284,7.489540749753891,7.941120616712598,7.848896749824393,7.627190912248169,7.834679801104153,7.966905573500909,7.972356496059153,7.733603988074937,6.999472308534617,7.098041545209672,7.212782676782284,7.786978045720506,6.943422411877173,6.845953649475181,7.627363559664622,7.504504969272778,7.177709016696666,7.752671435919487,7.818288525530894,8.299635434688197,8.393572673255726,7.136419642053497,7.779275183773291,8.261511504684336,8.043078896187016,8.030598179279473,7.93519887884504,7.899558553658686,7.627190912248169,7.811223367917781,7.29248008732216,6.999472308534617,7.532961869075849,7.165678742977503,8.235580667928591],\"marker\":{\"color\":\"#00cc96\"},\"mode\":\"markers\",\"name\":\"VS\",\"showlegend\":true,\"subplot\":\"mapbox\",\"type\":\"scattermapbox\"},{\"hovertemplate\":\"<b>%{hovertext}</b><br><br>Kanton_Kuerzel=TI<br>Breitengrad=%{lat}<br>L\\u00e4ngengrad=%{lon}<extra></extra>\",\"hovertext\":[\"Airolo-Pesc\\u00fcm Airolo Airolo \",\"Alpe di Neggia   \",\"Bedea   Novaggio  \",\"Bosco Gurin   Grossalp  \",\"Campo Blenio   \",\"Car\\u00ec   \",\"Cioss Prato  Bedretto  \",\"Dalpe   \",\"Lueina  Airolo  \",\"Mogno   \",\"Nara-Leontica Leontica Leontica \",\"Prato (Leventina)   \"],\"lat\":[46.52724920112436,46.13070651009939,46.0007977332109,46.32026934171304,46.59064564192835,46.49413731460909,46.48899164143069,46.45720670881445,46.52724920112436,46.45764891755727,46.45686140141737,46.47138610787511],\"legendgroup\":\"TI\",\"lon\":[8.63064800879524,8.856300109392365,8.862243245409564,8.483959654328785,8.943892416337835,8.844713997267677,8.477975492135688,8.76205206299213,8.63064800879524,8.641813030516209,8.93780985431501,8.745827962783105],\"marker\":{\"color\":\"#ab63fa\"},\"mode\":\"markers\",\"name\":\"TI\",\"showlegend\":true,\"subplot\":\"mapbox\",\"type\":\"scattermapbox\"},{\"hovertemplate\":\"<b>%{hovertext}</b><br><br>Kanton_Kuerzel=AI<br>Breitengrad=%{lat}<br>L\\u00e4ngengrad=%{lon}<extra></extra>\",\"hovertext\":[\"Alpsteinblick   Gonten  \",\"Ebenalp-Horn Horn  Schwende \",\"Fischenthal Aurueti  Oberegg \",\"Oberegg SkiliftSt.Anton  \",\"Sollegg Appenzell  \"],\"lat\":[47.306362530106384,47.26440419635024,47.41650709807815,47.41650709807815,47.356282463954166],\"legendgroup\":\"AI\",\"lon\":[9.329920654017526,9.39184842289109,9.553275500570845,9.553275500570845,9.401495999570932],\"marker\":{\"color\":\"#FFA15A\"},\"mode\":\"markers\",\"name\":\"AI\",\"showlegend\":true,\"subplot\":\"mapbox\",\"type\":\"scattermapbox\"},{\"hovertemplate\":\"<b>%{hovertext}</b><br><br>Kanton_Kuerzel=UR<br>Breitengrad=%{lat}<br>L\\u00e4ngengrad=%{lon}<extra></extra>\",\"hovertext\":[\"Andermatt/Oberalp/Sedrun Andermatt Andermatt \",\"Biel Kinzig  Buerglen \",\"Bruesti   Attinghausen  \",\"Eggberge  Altdorf  \",\"Gemsstock   Andermatt  \",\"Gitschenen  Isenthal  \",\"Kellerberg- Haldi Schattdorf Schattdorf \",\"Ratzi  Spiringen  \",\"Realp (voruebergehend au\\u00dfer Betrieb)   \",\"Urnerboden Urnerboden Urnerboden \"],\"lat\":[46.6205227352232,46.8854102471779,46.85345258248684,46.88772086348615,46.6205227352232,46.88661696319931,46.85649718679535,46.87598223000994,46.58032873671343,46.87957457563218],\"legendgroup\":\"UR\",\"lon\":[8.631412588665953,8.689736668035382,8.598538707032889,8.641409070020176,8.631412588665953,8.525345254078607,8.652078587930477,8.73517787648612,8.47013362821995,8.901892747254871],\"marker\":{\"color\":\"#19d3f3\"},\"mode\":\"markers\",\"name\":\"UR\",\"showlegend\":true,\"subplot\":\"mapbox\",\"type\":\"scattermapbox\"},{\"hovertemplate\":\"<b>%{hovertext}</b><br><br>Kanton_Kuerzel=SG<br>Breitengrad=%{lat}<br>L\\u00e4ngengrad=%{lon}<extra></extra>\",\"hovertext\":[\"Arvenbueel/Mattstock Amden  Amden  \",\"Atzmannig  Goldingen Goldingen \",\"Beckenhalde   St. Gallen  \",\"Bildhaus   Gommiswald am Ricken  \",\"Buchserberg Malbun Buchs \",\"Chaserrugg  Unterwasser/Alt St. Johann (Toggenburg) Unterwasser \",\"Degersheim   Fuchsacker  \",\"Flumserberg Flumserberg Flumserberg \",\"Gahwil   \",\"Gampluet   \",\"Hemberg   \",\"Hochwacht  Mosnang  \",\"Hornli  Hemberg Bachli \",\"Krinau   \",\"Lukaslift  Grabs  \",\"Mittlerwengi  Kaltbrunn  \",\"Oberhelfenschwil   \",\"Pizol   Bad Ragaz/Wangs Bad Ragaz \",\"Santis  Schwagalp Schwagalp \",\"Schlosslihang St.Gallen  \",\"Tristeli  St.Margrethenberg St.Margrethenberg \",\"Walenstadtberg   \",\"Weisstannen   \",\"Wildhaus   Gamserrugg (Toggenburg)  \",\"Wolzenalp  Krummenau  \"],\"lat\":[47.159937277478924,47.28468899034298,47.41542320778775,47.2315344658155,47.17058801086377,47.19640189063639,47.37336760998512,47.080510579678574,47.39385268852025,47.21653899109159,47.30048518581119,47.35934751733251,47.30048518581119,47.317780245425006,47.17058801086377,47.20996125550636,47.34827121672728,46.996887498770654,47.24549706352807,47.40805048061931,46.996887498770654,47.1223504128056,46.97191521650233,47.21653899109159,47.25801696028455],\"legendgroup\":\"SG\",\"lon\":[9.167879637010529,8.973941300328173,9.402118008674345,9.020101862200692,9.458011707493556,9.306520672600897,9.198077544869747,9.268297810961178,8.998167254178435,9.352737526840947,9.20160315186423,9.038701711759767,9.20160315186423,9.052111215793683,9.458011707493556,9.049151526815889,9.106608376376265,9.47307401366276,9.259205763119262,9.335622409645111,9.47307401366276,9.310672076365112,9.304744165089732,9.352737526840947,9.18689401091768],\"marker\":{\"color\":\"#FF6692\"},\"mode\":\"markers\",\"name\":\"SG\",\"showlegend\":true,\"subplot\":\"mapbox\",\"type\":\"scattermapbox\"},{\"hovertemplate\":\"<b>%{hovertext}</b><br><br>Kanton_Kuerzel=AG<br>Breitengrad=%{lat}<br>L\\u00e4ngengrad=%{lon}<extra></extra>\",\"hovertext\":[\"Asp (Densbueren)   \",\"Bottenwil  PizGraben  \",\"Fohrlimatt  Wegenstetten  \",\"Holderbank  SkiliftEngi  \",\"Horben  Lindenberg  \",\"Rotberg  Villigen  \"],\"lat\":[47.4187944676473,47.284727446778696,47.49388233047687,47.43093670861296,47.24900521493852,47.53006881810674],\"legendgroup\":\"AG\",\"lon\":[8.083026786733928,8.00207078689998,7.931230907875876,8.170660199279535,8.325980483106619,8.20626832408848],\"marker\":{\"color\":\"#B6E880\"},\"mode\":\"markers\",\"name\":\"AG\",\"showlegend\":true,\"subplot\":\"mapbox\",\"type\":\"scattermapbox\"},{\"hovertemplate\":\"<b>%{hovertext}</b><br><br>Kanton_Kuerzel=NW<br>Breitengrad=%{lat}<br>L\\u00e4ngengrad=%{lon}<extra></extra>\",\"hovertext\":[\"Bannalp   Oberrickenbach  \",\"Haldigrat Niederrickenbach Niederrickenbach \",\"Klewenalp/Stockhuette  Beckenried/Emmetten Beckenried \",\"Langmattli  Hergiswil  \",\"Wirzweli  Dallenwil Dallenwil \"],\"lat\":[46.9222625837078,46.95878133022972,46.95024548032024,46.98593583992817,46.9222625837078],\"legendgroup\":\"NW\",\"lon\":[8.383619421064276,8.363311308496687,8.471607128421299,8.281314284428433,8.383619421064276],\"marker\":{\"color\":\"#FF97FF\"},\"mode\":\"markers\",\"name\":\"NW\",\"showlegend\":true,\"subplot\":\"mapbox\",\"type\":\"scattermapbox\"},{\"hovertemplate\":\"<b>%{hovertext}</b><br><br>Kanton_Kuerzel=ZH<br>Breitengrad=%{lat}<br>L\\u00e4ngengrad=%{lon}<extra></extra>\",\"hovertext\":[\"Baretswil   \",\"Dicki   Weisslingen  \",\"Dietikon   \",\"Ghoch   \",\"Oberholz Farner  \",\"Regensberg Erlenhof  ImBuck \",\"Steg im Tosstal   \",\"Sternenberg Schatzbol  \",\"Wildberg Schafbueel  \"],\"lat\":[47.33885881311072,47.45049253417624,47.395034158969146,47.34111963791964,47.28881201093997,47.47818420344301,47.34111963791964,47.38884556499081,47.40520515575772],\"legendgroup\":\"ZH\",\"lon\":[8.871485791943323,8.804134041861316,8.449001595827898,8.95136119206518,8.923126425608599,8.428312101510604,8.95136119206518,8.91401823549601,8.833107289508837],\"marker\":{\"color\":\"#FECB52\"},\"mode\":\"markers\",\"name\":\"ZH\",\"showlegend\":true,\"subplot\":\"mapbox\",\"type\":\"scattermapbox\"},{\"hovertemplate\":\"<b>%{hovertext}</b><br><br>Kanton_Kuerzel=VD<br>Breitengrad=%{lat}<br>L\\u00e4ngengrad=%{lon}<extra></extra>\",\"hovertext\":[\"Basse Ruche   \",\"Dent de Jaman  Montreux Montreux \",\"Dent de Vaulion  LeMorez  \",\"Glacier 3000  Les Diablerets  Les Diablerets \",\"Haut de Caux \",\"La Braye  Ch\\u00e2teaud'Oex Ch\\u00e2teaud'Oex \",\"La D\\u00f4le/Les Tuffes (Jura sur Leman)   \",\"La Trelasse   \",\"L'Abbaye   \",\"Le Brassus   \",\"Les Mosses/La Lecherette   \",\"Les Pleiades Les Pleiades Les Pleiades \",\"Les Prevondes   \",\"Les Rasses   Sainte Sainte-Croix \",\"Leysin Leysin Leysin \",\"L'Orient   \",\"Orgevaux/Les Avants Montreux Montreux \",\"Rochers de Naye   Montreux  \",\"Saint George  \",\"St. Cergue   \",\"Villars/Gryon/Les Diablerets Villars/Gryon/Les Diablerets Villars \"],\"lat\":[46.45103884444971,46.42430811917527,46.77623871899399,46.34393976506284,46.44245463194165,46.453109405926206,46.45103884444971,46.45103884444971,46.64053104806485,46.568538943492825,46.453109405926206,46.45465492545657,46.42430811917527,46.80852438560281,46.35252935486932,46.59115267054111,46.42430811917527,46.42430811917527,46.52261211040082,46.45103884444971,46.29546090705609],\"legendgroup\":\"VD\",\"lon\":[6.141447545729431,6.920497482541422,6.638517507154847,7.175707382026521,6.964753535578825,7.099815171977348,6.141447545729431,6.141447545729431,6.323997863325195,6.190567671432426,7.099815171977348,6.903515737764544,6.920497482541422,6.498405200059012,7.011130831233223,6.257683519055614,6.920497482541422,6.920497482541422,6.257700212851227,6.141447545729431,7.019080457855518],\"marker\":{\"color\":\"#636efa\"},\"mode\":\"markers\",\"name\":\"VD\",\"showlegend\":true,\"subplot\":\"mapbox\",\"type\":\"scattermapbox\"},{\"hovertemplate\":\"<b>%{hovertext}</b><br><br>Kanton_Kuerzel=SZ<br>Breitengrad=%{lat}<br>L\\u00e4ngengrad=%{lon}<extra></extra>\",\"hovertext\":[\"Bennau   Einsiedeln  \",\"Brunni  Alpthal  \",\"Friherrenberg  Einsiedeln  \",\"Fronalpstock/Klingenstock Stoos Stoos  \",\"Hoch Ybrig  Unteriberg/Oberiberg Oberiberg \",\"Mythenregion Schwyz Schwyz \",\"Neusell  Rothenthurm Biberegg \",\"Oberiberg   \",\"Rigi Rigi Rigi \",\"Sattelegg   Vorderthal/Einsiedeln Willerzell \",\"Sattel-Hochstuckli Sattel  Sattel  \",\"Schnabelsberg Bennau(Einsiedeln)  \",\"Seebodenalp   Kuessnacht  \",\"Telli  Morschach  \",\"Vorderthal SkiliftWagital  \"],\"lat\":[47.15064032536861,47.05779658301815,47.13155976005248,46.97637206245401,47.03077671198638,47.034584563807165,47.101974211270665,47.034584563807165,47.07891509687347,47.12988696278169,47.07992008082552,47.15064032536861,47.07891509687347,46.97637206245401,47.12626325849101],\"legendgroup\":\"SZ\",\"lon\":[8.714527787397953,8.714512853120672,8.744057572485739,8.621587288522573,8.761717124248628,8.66672685809677,8.68045957652215,8.66672685809677,8.445676394831297,8.810499250099674,8.631212196276863,8.714527787397953,8.445676394831297,8.621587288522573,8.889344288245853],\"marker\":{\"color\":\"#EF553B\"},\"mode\":\"markers\",\"name\":\"SZ\",\"showlegend\":true,\"subplot\":\"mapbox\",\"type\":\"scattermapbox\"},{\"hovertemplate\":\"<b>%{hovertext}</b><br><br>Kanton_Kuerzel=AR<br>Breitengrad=%{lat}<br>L\\u00e4ngengrad=%{lon}<extra></extra>\",\"hovertext\":[\"Blatten  Speicher  \",\"Gais   \",\"Grub Kaien  \",\"Heiden  Bischofsberg  \",\"Schwellbrunn   \",\"Urnasch   Osteregg  \",\"Vogelinsegg  Speicher  \"],\"lat\":[47.409862286253095,47.36795879716399,47.44119600880302,47.44081827013916,47.35161763772511,47.29492749237434,47.409862286253095],\"legendgroup\":\"AR\",\"lon\":[9.440951839043564,9.471413241319576,9.501692923483422,9.534855238128069,9.23622826196516,9.277883101970623,9.440951839043564],\"marker\":{\"color\":\"#00cc96\"},\"mode\":\"markers\",\"name\":\"AR\",\"showlegend\":true,\"subplot\":\"mapbox\",\"type\":\"scattermapbox\"},{\"hovertemplate\":\"<b>%{hovertext}</b><br><br>Kanton_Kuerzel=GL<br>Breitengrad=%{lat}<br>L\\u00e4ngengrad=%{lon}<extra></extra>\",\"hovertext\":[\"Braunwald Braunwald Braunwald \",\"Dreieck   Glarus  \",\"Elm im Sernftal   \",\"Kerenzerberg  Filzbach  \",\"Mugi  Netstal  \",\"Schilt  Mollis  \",\"Schwanden   Sigriswil  \"],\"lat\":[46.94584834554261,47.04956343988005,46.90606792468636,47.10146294306594,47.06380999727713,47.093821153450165,47.01246248853029],\"legendgroup\":\"GL\",\"lon\":[8.984506744734935,9.039353103625862,9.156363943907312,9.125344571730311,9.041722412029596,9.091373359754918,9.1248674416192],\"marker\":{\"color\":\"#ab63fa\"},\"mode\":\"markers\",\"name\":\"GL\",\"showlegend\":true,\"subplot\":\"mapbox\",\"type\":\"scattermapbox\"},{\"hovertemplate\":\"<b>%{hovertext}</b><br><br>Kanton_Kuerzel=NE<br>Breitengrad=%{lat}<br>L\\u00e4ngengrad=%{lon}<extra></extra>\",\"hovertext\":[\"Brot Plamboz  \",\"Chapeau R\\u00e2ble   La Chaux de Fonds\",\"La Brevine   \",\"La Corbatiere   La Roche aux Crocs\",\"La C\\u00f4te aux Fees \",\"La Robella   Buttes (Val de Travers)\",\"La Sagne   \",\"Le Cr\\u00eat Meuron Fontaines(LesGollieres) \",\"Les Loges  LaVuedesAlpes  \",\"Les Verrieres   \",\"Sommartel  LeLocle  \"],\"lat\":[46.98310270593748,47.11346368460821,46.97188919629928,47.11346368460821,46.8633879470283,46.87949085540813,47.04744928439978,47.06654020285924,47.06654020285924,46.91439528255655,47.03519378227565],\"legendgroup\":\"NE\",\"lon\":[6.748598940529313,6.834788342896368,6.602857688160449,6.834788342896368,6.485325767073004,6.543208481104002,6.802142792720664,6.869407833975434,6.869407833975434,6.474783915790059,6.712721011849587],\"marker\":{\"color\":\"#FFA15A\"},\"mode\":\"markers\",\"name\":\"NE\",\"showlegend\":true,\"subplot\":\"mapbox\",\"type\":\"scattermapbox\"},{\"hovertemplate\":\"<b>%{hovertext}</b><br><br>Kanton_Kuerzel=OW<br>Breitengrad=%{lat}<br>L\\u00e4ngengrad=%{lon}<extra></extra>\",\"hovertext\":[\"Brunni   Engelberg  \",\"Langis Langis Langis \",\"Melchsee-Frutt Kerns Kerns \",\"Morlialp  Giswil Giswil \",\"Titlis  Engelberg Engelberg \"],\"lat\":[46.81454661300316,46.83752401859071,46.90705837457296,46.83752401859071,46.81454661300316],\"legendgroup\":\"OW\",\"lon\":[8.441246114230253,8.121950601420881,8.30280660001364,8.121950601420881,8.441246114230253],\"marker\":{\"color\":\"#19d3f3\"},\"mode\":\"markers\",\"name\":\"OW\",\"showlegend\":true,\"subplot\":\"mapbox\",\"type\":\"scattermapbox\"},{\"hovertemplate\":\"<b>%{hovertext}</b><br><br>Kanton_Kuerzel=FR<br>Breitengrad=%{lat}<br>L\\u00e4ngengrad=%{lon}<extra></extra>\",\"hovertext\":[\"Charmey   \",\"Hapfere  Plaffeien  \",\"Jaun   \",\"Kaiseregg/Riggisalp  Schwarzsee Schwarzsee \",\"La Berra  La Roche La Roche \",\"La Chia  Bulle  \",\"Le P\\u00e2quier   Cr\\u00eat du Puy\",\"Les Paccots/Ch\\u00e2tel Les Paccots/Ch\\u00e2tel Les Paccots \",\"Les Paccots/Granges  Mont Chesau \",\"Moleson   \",\"Mont Gibloux   \",\"Nax  Mont Noble \",\"Rathvel   Ch\\u00e2tel St Denis\"],\"lat\":[46.59373260297209,46.73690503467711,46.59129220007462,46.73690503467711,46.6925149445394,46.60214327821387,46.59039937984119,46.50736129661608,46.522961633257225,46.58886611971624,46.69750560806696,46.91237106789664,46.50736129661608],\"legendgroup\":\"FR\",\"lon\":[7.195768770679854,7.2696940142324,7.237415121349573,7.2696940142324,7.160606301311321,7.02230091359197,7.051888853664313,6.96628380150331,6.826278094633602,7.035375037769224,7.0309409761717125,7.174366123624522,6.96628380150331],\"marker\":{\"color\":\"#FF6692\"},\"mode\":\"markers\",\"name\":\"FR\",\"showlegend\":true,\"subplot\":\"mapbox\",\"type\":\"scattermapbox\"},{\"hovertemplate\":\"<b>%{hovertext}</b><br><br>Kanton_Kuerzel=SH<br>Breitengrad=%{lat}<br>L\\u00e4ngengrad=%{lon}<extra></extra>\",\"hovertext\":[\"Egg  Hallau  \",\"Stich  Opfertshofen  \"],\"lat\":[47.70045692969688,47.77251888070899],\"legendgroup\":\"SH\",\"lon\":[8.44318407762118,8.659194169308732],\"marker\":{\"color\":\"#B6E880\"},\"mode\":\"markers\",\"name\":\"SH\",\"showlegend\":true,\"subplot\":\"mapbox\",\"type\":\"scattermapbox\"},{\"hovertemplate\":\"<b>%{hovertext}</b><br><br>Kanton_Kuerzel=LU<br>Breitengrad=%{lat}<br>L\\u00e4ngengrad=%{lon}<extra></extra>\",\"hovertext\":[\"Gfellen  Entlebuch Finsterwald \",\"Heiligkreuz First Hasle \",\"Schratten Fluehli   \",\"Sorenberg  Sorenberg  S\\u00f6renberg \"],\"lat\":[46.98838863398822,46.95915105746656,46.88254228861547,46.816055638109965],\"legendgroup\":\"LU\",\"lon\":[8.0746769866983,8.067043258781686,8.024904389987453,8.0088804940475],\"marker\":{\"color\":\"#FF97FF\"},\"mode\":\"markers\",\"name\":\"LU\",\"showlegend\":true,\"subplot\":\"mapbox\",\"type\":\"scattermapbox\"},{\"hovertemplate\":\"<b>%{hovertext}</b><br><br>Kanton_Kuerzel=SO<br>Breitengrad=%{lat}<br>L\\u00e4ngengrad=%{lon}<extra></extra>\",\"hovertext\":[\"Grenchenberg  Grenchen  \",\"Gsahl  Hauenstein Ifenthal \",\"Hohe Winde  Beinwil  \",\"Lommiswil Bitzirain  \",\"Nunningen   \",\"Saalhohe   \",\"Schauenburg   \",\"Schwengimatt   \",\"Tanzboden   Ebnat Kappel \"],\"lat\":[47.19722103317002,47.37127715145244,47.35777645338548,47.247182644396,47.39769172998329,47.440341888114986,47.21746364408902,47.31434681121171,47.32096026737068],\"legendgroup\":\"SO\",\"lon\":[7.387598226607045,7.855839312860544,7.595065750585048,7.4851994935077375,7.616626851360783,7.96720967600817,7.448068349755802,7.700303642644949,7.857329500202854],\"marker\":{\"color\":\"#FECB52\"},\"mode\":\"markers\",\"name\":\"SO\",\"showlegend\":true,\"subplot\":\"mapbox\",\"type\":\"scattermapbox\"},{\"hovertemplate\":\"<b>%{hovertext}</b><br><br>Kanton_Kuerzel=BL<br>Breitengrad=%{lat}<br>L\\u00e4ngengrad=%{lon}<extra></extra>\",\"hovertext\":[\"Langenbruck  Untere/ObereWanne  \",\"Schafmatt  Oltingen  \",\"Staffelalp  Zeglingen  \"],\"lat\":[47.35767024683338,47.43023504879295,47.41213049086207],\"legendgroup\":\"BL\",\"lon\":[7.771089371088486,7.937253431074494,7.91233346325035],\"marker\":{\"color\":\"#636efa\"},\"mode\":\"markers\",\"name\":\"BL\",\"showlegend\":true,\"subplot\":\"mapbox\",\"type\":\"scattermapbox\"},{\"hovertemplate\":\"<b>%{hovertext}</b><br><br>Kanton_Kuerzel=JU<br>Breitengrad=%{lat}<br>L\\u00e4ngengrad=%{lon}<extra></extra>\",\"hovertext\":[\"Les Breuleux   \",\"Les Genevez   \"],\"lat\":[47.20303308832165,47.2557122817057],\"legendgroup\":\"JU\",\"lon\":[6.992837688364893,7.096536070207812],\"marker\":{\"color\":\"#EF553B\"},\"mode\":\"markers\",\"name\":\"JU\",\"showlegend\":true,\"subplot\":\"mapbox\",\"type\":\"scattermapbox\"},{\"hovertemplate\":\"<b>%{hovertext}</b><br><br>Kanton_Kuerzel=TG<br>Breitengrad=%{lat}<br>L\\u00e4ngengrad=%{lon}<extra></extra>\",\"hovertext\":[\"Mammern Klingenzell  \",\"Nollen Hosenruck(Wuppenau)  \",\"Sitzberg  Fischingen  \"],\"lat\":[47.64666451467656,47.497216008932845,47.44660298965666],\"legendgroup\":\"TG\",\"lon\":[8.921361706529543,9.105808017793684,8.98723561921133],\"marker\":{\"color\":\"#00cc96\"},\"mode\":\"markers\",\"name\":\"TG\",\"showlegend\":true,\"subplot\":\"mapbox\",\"type\":\"scattermapbox\"},{\"hovertemplate\":\"<b>%{hovertext}</b><br><br>Kanton_Kuerzel=ZG<br>Breitengrad=%{lat}<br>L\\u00e4ngengrad=%{lon}<extra></extra>\",\"hovertext\":[\"Nollen  Unterageri  \",\"Raten  Oberageri  \",\"Zugerberg   \"],\"lat\":[47.12001627660013,47.14463702980226,47.14119363074207],\"legendgroup\":\"ZG\",\"lon\":[8.580724621182197,8.655764031050886,8.531989125823754],\"marker\":{\"color\":\"#ab63fa\"},\"mode\":\"markers\",\"name\":\"ZG\",\"showlegend\":true,\"subplot\":\"mapbox\",\"type\":\"scattermapbox\"}],                        {\"template\":{\"data\":{\"histogram2dcontour\":[{\"type\":\"histogram2dcontour\",\"colorbar\":{\"outlinewidth\":0,\"ticks\":\"\"},\"colorscale\":[[0.0,\"#0d0887\"],[0.1111111111111111,\"#46039f\"],[0.2222222222222222,\"#7201a8\"],[0.3333333333333333,\"#9c179e\"],[0.4444444444444444,\"#bd3786\"],[0.5555555555555556,\"#d8576b\"],[0.6666666666666666,\"#ed7953\"],[0.7777777777777778,\"#fb9f3a\"],[0.8888888888888888,\"#fdca26\"],[1.0,\"#f0f921\"]]}],\"choropleth\":[{\"type\":\"choropleth\",\"colorbar\":{\"outlinewidth\":0,\"ticks\":\"\"}}],\"histogram2d\":[{\"type\":\"histogram2d\",\"colorbar\":{\"outlinewidth\":0,\"ticks\":\"\"},\"colorscale\":[[0.0,\"#0d0887\"],[0.1111111111111111,\"#46039f\"],[0.2222222222222222,\"#7201a8\"],[0.3333333333333333,\"#9c179e\"],[0.4444444444444444,\"#bd3786\"],[0.5555555555555556,\"#d8576b\"],[0.6666666666666666,\"#ed7953\"],[0.7777777777777778,\"#fb9f3a\"],[0.8888888888888888,\"#fdca26\"],[1.0,\"#f0f921\"]]}],\"heatmap\":[{\"type\":\"heatmap\",\"colorbar\":{\"outlinewidth\":0,\"ticks\":\"\"},\"colorscale\":[[0.0,\"#0d0887\"],[0.1111111111111111,\"#46039f\"],[0.2222222222222222,\"#7201a8\"],[0.3333333333333333,\"#9c179e\"],[0.4444444444444444,\"#bd3786\"],[0.5555555555555556,\"#d8576b\"],[0.6666666666666666,\"#ed7953\"],[0.7777777777777778,\"#fb9f3a\"],[0.8888888888888888,\"#fdca26\"],[1.0,\"#f0f921\"]]}],\"heatmapgl\":[{\"type\":\"heatmapgl\",\"colorbar\":{\"outlinewidth\":0,\"ticks\":\"\"},\"colorscale\":[[0.0,\"#0d0887\"],[0.1111111111111111,\"#46039f\"],[0.2222222222222222,\"#7201a8\"],[0.3333333333333333,\"#9c179e\"],[0.4444444444444444,\"#bd3786\"],[0.5555555555555556,\"#d8576b\"],[0.6666666666666666,\"#ed7953\"],[0.7777777777777778,\"#fb9f3a\"],[0.8888888888888888,\"#fdca26\"],[1.0,\"#f0f921\"]]}],\"contourcarpet\":[{\"type\":\"contourcarpet\",\"colorbar\":{\"outlinewidth\":0,\"ticks\":\"\"}}],\"contour\":[{\"type\":\"contour\",\"colorbar\":{\"outlinewidth\":0,\"ticks\":\"\"},\"colorscale\":[[0.0,\"#0d0887\"],[0.1111111111111111,\"#46039f\"],[0.2222222222222222,\"#7201a8\"],[0.3333333333333333,\"#9c179e\"],[0.4444444444444444,\"#bd3786\"],[0.5555555555555556,\"#d8576b\"],[0.6666666666666666,\"#ed7953\"],[0.7777777777777778,\"#fb9f3a\"],[0.8888888888888888,\"#fdca26\"],[1.0,\"#f0f921\"]]}],\"surface\":[{\"type\":\"surface\",\"colorbar\":{\"outlinewidth\":0,\"ticks\":\"\"},\"colorscale\":[[0.0,\"#0d0887\"],[0.1111111111111111,\"#46039f\"],[0.2222222222222222,\"#7201a8\"],[0.3333333333333333,\"#9c179e\"],[0.4444444444444444,\"#bd3786\"],[0.5555555555555556,\"#d8576b\"],[0.6666666666666666,\"#ed7953\"],[0.7777777777777778,\"#fb9f3a\"],[0.8888888888888888,\"#fdca26\"],[1.0,\"#f0f921\"]]}],\"mesh3d\":[{\"type\":\"mesh3d\",\"colorbar\":{\"outlinewidth\":0,\"ticks\":\"\"}}],\"scatter\":[{\"fillpattern\":{\"fillmode\":\"overlay\",\"size\":10,\"solidity\":0.2},\"type\":\"scatter\"}],\"parcoords\":[{\"type\":\"parcoords\",\"line\":{\"colorbar\":{\"outlinewidth\":0,\"ticks\":\"\"}}}],\"scatterpolargl\":[{\"type\":\"scatterpolargl\",\"marker\":{\"colorbar\":{\"outlinewidth\":0,\"ticks\":\"\"}}}],\"bar\":[{\"error_x\":{\"color\":\"#2a3f5f\"},\"error_y\":{\"color\":\"#2a3f5f\"},\"marker\":{\"line\":{\"color\":\"#E5ECF6\",\"width\":0.5},\"pattern\":{\"fillmode\":\"overlay\",\"size\":10,\"solidity\":0.2}},\"type\":\"bar\"}],\"scattergeo\":[{\"type\":\"scattergeo\",\"marker\":{\"colorbar\":{\"outlinewidth\":0,\"ticks\":\"\"}}}],\"scatterpolar\":[{\"type\":\"scatterpolar\",\"marker\":{\"colorbar\":{\"outlinewidth\":0,\"ticks\":\"\"}}}],\"histogram\":[{\"marker\":{\"pattern\":{\"fillmode\":\"overlay\",\"size\":10,\"solidity\":0.2}},\"type\":\"histogram\"}],\"scattergl\":[{\"type\":\"scattergl\",\"marker\":{\"colorbar\":{\"outlinewidth\":0,\"ticks\":\"\"}}}],\"scatter3d\":[{\"type\":\"scatter3d\",\"line\":{\"colorbar\":{\"outlinewidth\":0,\"ticks\":\"\"}},\"marker\":{\"colorbar\":{\"outlinewidth\":0,\"ticks\":\"\"}}}],\"scattermapbox\":[{\"type\":\"scattermapbox\",\"marker\":{\"colorbar\":{\"outlinewidth\":0,\"ticks\":\"\"}}}],\"scatterternary\":[{\"type\":\"scatterternary\",\"marker\":{\"colorbar\":{\"outlinewidth\":0,\"ticks\":\"\"}}}],\"scattercarpet\":[{\"type\":\"scattercarpet\",\"marker\":{\"colorbar\":{\"outlinewidth\":0,\"ticks\":\"\"}}}],\"carpet\":[{\"aaxis\":{\"endlinecolor\":\"#2a3f5f\",\"gridcolor\":\"white\",\"linecolor\":\"white\",\"minorgridcolor\":\"white\",\"startlinecolor\":\"#2a3f5f\"},\"baxis\":{\"endlinecolor\":\"#2a3f5f\",\"gridcolor\":\"white\",\"linecolor\":\"white\",\"minorgridcolor\":\"white\",\"startlinecolor\":\"#2a3f5f\"},\"type\":\"carpet\"}],\"table\":[{\"cells\":{\"fill\":{\"color\":\"#EBF0F8\"},\"line\":{\"color\":\"white\"}},\"header\":{\"fill\":{\"color\":\"#C8D4E3\"},\"line\":{\"color\":\"white\"}},\"type\":\"table\"}],\"barpolar\":[{\"marker\":{\"line\":{\"color\":\"#E5ECF6\",\"width\":0.5},\"pattern\":{\"fillmode\":\"overlay\",\"size\":10,\"solidity\":0.2}},\"type\":\"barpolar\"}],\"pie\":[{\"automargin\":true,\"type\":\"pie\"}]},\"layout\":{\"autotypenumbers\":\"strict\",\"colorway\":[\"#636efa\",\"#EF553B\",\"#00cc96\",\"#ab63fa\",\"#FFA15A\",\"#19d3f3\",\"#FF6692\",\"#B6E880\",\"#FF97FF\",\"#FECB52\"],\"font\":{\"color\":\"#2a3f5f\"},\"hovermode\":\"closest\",\"hoverlabel\":{\"align\":\"left\"},\"paper_bgcolor\":\"white\",\"plot_bgcolor\":\"#E5ECF6\",\"polar\":{\"bgcolor\":\"#E5ECF6\",\"angularaxis\":{\"gridcolor\":\"white\",\"linecolor\":\"white\",\"ticks\":\"\"},\"radialaxis\":{\"gridcolor\":\"white\",\"linecolor\":\"white\",\"ticks\":\"\"}},\"ternary\":{\"bgcolor\":\"#E5ECF6\",\"aaxis\":{\"gridcolor\":\"white\",\"linecolor\":\"white\",\"ticks\":\"\"},\"baxis\":{\"gridcolor\":\"white\",\"linecolor\":\"white\",\"ticks\":\"\"},\"caxis\":{\"gridcolor\":\"white\",\"linecolor\":\"white\",\"ticks\":\"\"}},\"coloraxis\":{\"colorbar\":{\"outlinewidth\":0,\"ticks\":\"\"}},\"colorscale\":{\"sequential\":[[0.0,\"#0d0887\"],[0.1111111111111111,\"#46039f\"],[0.2222222222222222,\"#7201a8\"],[0.3333333333333333,\"#9c179e\"],[0.4444444444444444,\"#bd3786\"],[0.5555555555555556,\"#d8576b\"],[0.6666666666666666,\"#ed7953\"],[0.7777777777777778,\"#fb9f3a\"],[0.8888888888888888,\"#fdca26\"],[1.0,\"#f0f921\"]],\"sequentialminus\":[[0.0,\"#0d0887\"],[0.1111111111111111,\"#46039f\"],[0.2222222222222222,\"#7201a8\"],[0.3333333333333333,\"#9c179e\"],[0.4444444444444444,\"#bd3786\"],[0.5555555555555556,\"#d8576b\"],[0.6666666666666666,\"#ed7953\"],[0.7777777777777778,\"#fb9f3a\"],[0.8888888888888888,\"#fdca26\"],[1.0,\"#f0f921\"]],\"diverging\":[[0,\"#8e0152\"],[0.1,\"#c51b7d\"],[0.2,\"#de77ae\"],[0.3,\"#f1b6da\"],[0.4,\"#fde0ef\"],[0.5,\"#f7f7f7\"],[0.6,\"#e6f5d0\"],[0.7,\"#b8e186\"],[0.8,\"#7fbc41\"],[0.9,\"#4d9221\"],[1,\"#276419\"]]},\"xaxis\":{\"gridcolor\":\"white\",\"linecolor\":\"white\",\"ticks\":\"\",\"title\":{\"standoff\":15},\"zerolinecolor\":\"white\",\"automargin\":true,\"zerolinewidth\":2},\"yaxis\":{\"gridcolor\":\"white\",\"linecolor\":\"white\",\"ticks\":\"\",\"title\":{\"standoff\":15},\"zerolinecolor\":\"white\",\"automargin\":true,\"zerolinewidth\":2},\"scene\":{\"xaxis\":{\"backgroundcolor\":\"#E5ECF6\",\"gridcolor\":\"white\",\"linecolor\":\"white\",\"showbackground\":true,\"ticks\":\"\",\"zerolinecolor\":\"white\",\"gridwidth\":2},\"yaxis\":{\"backgroundcolor\":\"#E5ECF6\",\"gridcolor\":\"white\",\"linecolor\":\"white\",\"showbackground\":true,\"ticks\":\"\",\"zerolinecolor\":\"white\",\"gridwidth\":2},\"zaxis\":{\"backgroundcolor\":\"#E5ECF6\",\"gridcolor\":\"white\",\"linecolor\":\"white\",\"showbackground\":true,\"ticks\":\"\",\"zerolinecolor\":\"white\",\"gridwidth\":2}},\"shapedefaults\":{\"line\":{\"color\":\"#2a3f5f\"}},\"annotationdefaults\":{\"arrowcolor\":\"#2a3f5f\",\"arrowhead\":0,\"arrowwidth\":1},\"geo\":{\"bgcolor\":\"white\",\"landcolor\":\"#E5ECF6\",\"subunitcolor\":\"white\",\"showland\":true,\"showlakes\":true,\"lakecolor\":\"white\"},\"title\":{\"x\":0.05},\"mapbox\":{\"style\":\"light\"}}},\"mapbox\":{\"domain\":{\"x\":[0.0,1.0],\"y\":[0.0,1.0]},\"center\":{\"lat\":46.79345238138266,\"lon\":8.257286017866878},\"zoom\":6.5,\"style\":\"carto-positron\"},\"legend\":{\"title\":{\"text\":\"Kanton_Kuerzel\"},\"tracegroupgap\":0},\"margin\":{\"t\":40,\"r\":0,\"l\":0,\"b\":0},\"height\":600,\"showlegend\":false,\"paper_bgcolor\":\"#2a2f4a\"},                        {\"responsive\": true}                    ).then(function(){\n",
       "                            \n",
       "var gd = document.getElementById('a06082de-9d70-4746-bf37-7a415cc050ce');\n",
       "var x = new MutationObserver(function (mutations, observer) {{\n",
       "        var display = window.getComputedStyle(gd).display;\n",
       "        if (!display || display === 'none') {{\n",
       "            console.log([gd, 'removed!']);\n",
       "            Plotly.purge(gd);\n",
       "            observer.disconnect();\n",
       "        }}\n",
       "}});\n",
       "\n",
       "// Listen for the removal of the full notebook cells\n",
       "var notebookContainer = gd.closest('#notebook-container');\n",
       "if (notebookContainer) {{\n",
       "    x.observe(notebookContainer, {childList: true});\n",
       "}}\n",
       "\n",
       "// Listen for the clearing of the current output cell\n",
       "var outputEl = gd.closest('.output');\n",
       "if (outputEl) {{\n",
       "    x.observe(outputEl, {childList: true});\n",
       "}}\n",
       "\n",
       "                        })                };                });            </script>        </div>"
      ]
     },
     "metadata": {},
     "output_type": "display_data"
    }
   ],
   "source": [
    "fig_nice = px.scatter_mapbox(df, \n",
    "                             lon = df.Längengrad, \n",
    "                             lat = df.Breitengrad,\n",
    "                             zoom = 6.5,\n",
    "                             color = df.Kanton_Kuerzel,\n",
    "                             hover_name=\"Skiresort\")\n",
    "\n",
    "fig_nice.update_layout(height = 600,\n",
    "                       showlegend = False,\n",
    "                       margin={\"r\":0,\"t\":40,\"l\":0,\"b\":0},\n",
    "                       mapbox_style = 'carto-positron'\n",
    "                      )\n",
    "\n",
    "\n",
    "fig_nice.update_layout(paper_bgcolor=\"#2a2f4a\")\n",
    "\n",
    "\n",
    "fig_nice.show()\n",
    "\n"
   ]
  },
  {
   "cell_type": "code",
   "execution_count": 180,
   "id": "6fa96e44-01f3-4ed2-a2b4-4ddf6edfdb35",
   "metadata": {
    "tags": []
   },
   "outputs": [],
   "source": [
    "fig_nice.write_html('Map_Switzerland_nice.html')"
   ]
  }
 ],
 "metadata": {
  "kernelspec": {
   "display_name": "Python 3",
   "language": "python",
   "name": "python3"
  },
  "language_info": {
   "codemirror_mode": {
    "name": "ipython",
    "version": 3
   },
   "file_extension": ".py",
   "mimetype": "text/x-python",
   "name": "python",
   "nbconvert_exporter": "python",
   "pygments_lexer": "ipython3",
   "version": "3.7.3"
  }
 },
 "nbformat": 4,
 "nbformat_minor": 5
}
